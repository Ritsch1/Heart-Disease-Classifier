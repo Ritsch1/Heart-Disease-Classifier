{
 "cells": [
  {
   "cell_type": "markdown",
   "metadata": {},
   "source": [
    "## Heart disease classification\n",
    "\n",
    "This notebook is all about building a machine learning classification model for predicting whether or not a patient has heart-disease.\n",
    "\n",
    "The tools used for data analysis and exploration are:\n",
    "\n",
    "* Numpy\n",
    "* Pandas\n",
    "* Matplotlib\n",
    "\n",
    "For building the machine learning model I am using **Scikit-Learn 0.22**."
   ]
  },
  {
   "cell_type": "markdown",
   "metadata": {},
   "source": [
    "### Situation\n",
    "\n",
    "Given 14 different clinical features of a patient, is it possible to predict whether or not this patient has heart-disease with an accuracy of more than 95%?\n",
    "\n",
    "### Data\n",
    "\n",
    "The data I will be using is from [kaggle](https://www.kaggle.com/ronitf/heart-disease-uci).\n",
    "The original dataset from the [Cleveland database](https://archive.ics.uci.edu/ml/datasets/heart+Disease) contained way more than 14 features.\n",
    "\n",
    "However, we're going to use the following 14 features to make predictions.\n",
    "\n",
    "**Features:**\n",
    "\n",
    "1. age - age in years \n",
    "2. sex - (1 = male; 0 = female) \n",
    "3. cp - chest pain type \n",
    "    * 0: Typical angina: chest pain related decrease blood supply to the heart\n",
    "    * 1: Atypical angina: chest pain not related to heart\n",
    "    * 2: Non-anginal pain: typically esophageal spasms (non heart related)\n",
    "    * 3: Asymptomatic: chest pain not showing signs of disease\n",
    "4. trestbps - resting blood pressure (in mm Hg on admission to the hospital)\n",
    "    * anything above 130-140 is typically cause for concern\n",
    "5. chol - serum cholestoral in mg/dl \n",
    "    * serum = LDL + HDL + .2 * triglycerides\n",
    "    * above 200 is cause for concern\n",
    "6. fbs - (fasting blood sugar > 120 mg/dl) (1 = true; 0 = false) \n",
    "    * '>126' mg/dL signals diabetes\n",
    "7. restecg - resting electrocardiographic results\n",
    "    * 0: Nothing to note\n",
    "    * 1: ST-T Wave abnormality\n",
    "        - can range from mild symptoms to severe problems\n",
    "        - signals non-normal heart beat\n",
    "    * 2: Possible or definite left ventricular hypertrophy\n",
    "        - Enlarged heart's main pumping chamber\n",
    "8. thalach - maximum heart rate achieved \n",
    "9. exang - exercise induced angina (1 = yes; 0 = no) \n",
    "10. oldpeak - ST depression induced by exercise relative to rest \n",
    "    * looks at stress of heart during excercise\n",
    "    * unhealthy heart will stress more\n",
    "11. slope - the slope of the peak exercise ST segment\n",
    "    * 0: Upsloping: better heart rate with excercise (uncommon)\n",
    "    * 1: Flatsloping: minimal change (typical healthy heart)\n",
    "    * 2: Downslopins: signs of unhealthy heart\n",
    "12. ca - number of major vessels (0-3) colored by flourosopy \n",
    "    * colored vessel means the doctor can see the blood passing through\n",
    "    * the more blood movement the better (no clots)\n",
    "13. thal - thalium stress result\n",
    "    * 1,3: normal\n",
    "    * 6: fixed defect: used to be defect but ok now\n",
    "    * 7: reversable defect: no proper blood movement when excercising \n",
    "\n",
    "**Target variable:**\n",
    "\n",
    "target - have disease or not (1=yes, 0=no) (= the predicted attribute)\n",
    "\n",
    "### Evaluation\n",
    "\n",
    "**What defines success?**\n",
    "\n",
    "The goal is to predict whether or not a patient has heart-disease with more than 85% accuracy.\n"
   ]
  },
  {
   "cell_type": "markdown",
   "metadata": {},
   "source": [
    "### Tools used"
   ]
  },
  {
   "cell_type": "code",
   "execution_count": 6,
   "metadata": {},
   "outputs": [],
   "source": [
    "import warnings\n",
    "warnings.filterwarnings(\"ignore\")"
   ]
  },
  {
   "cell_type": "code",
   "execution_count": 7,
   "metadata": {},
   "outputs": [],
   "source": [
    "#Needed modules for the project\n",
    "import pandas as pd\n",
    "import numpy as np\n",
    "import matplotlib.pyplot as plt\n",
    "import seaborn as sns\n",
    "import sklearn"
   ]
  },
  {
   "cell_type": "code",
   "execution_count": 8,
   "metadata": {},
   "outputs": [],
   "source": [
    "#Make sure the plots are executed within the notebook\n",
    "%matplotlib inline"
   ]
  },
  {
   "cell_type": "code",
   "execution_count": 9,
   "metadata": {},
   "outputs": [],
   "source": [
    "#Models that could fit for our classification problem\n",
    "from sklearn.linear_model import LogisticRegression\n",
    "from sklearn.neighbors import KNeighborsClassifier\n",
    "from sklearn.ensemble import RandomForestClassifier\n",
    "from sklearn.svm import LinearSVC\n",
    "from sklearn.svm import SVC"
   ]
  },
  {
   "cell_type": "code",
   "execution_count": 10,
   "metadata": {},
   "outputs": [],
   "source": [
    "#Evaluation tools\n",
    "from sklearn.metrics import plot_roc_curve, roc_curve, roc_auc_score, precision_score, recall_score, f1_score\n",
    "from sklearn.metrics import classification_report, confusion_matrix, plot_confusion_matrix, plot_precision_recall_curve\n",
    "from sklearn.model_selection import train_test_split, cross_val_score, RandomizedSearchCV, GridSearchCV"
   ]
  },
  {
   "cell_type": "markdown",
   "metadata": {},
   "source": [
    "### Data analysis and exploration"
   ]
  },
  {
   "cell_type": "code",
   "execution_count": 13,
   "metadata": {},
   "outputs": [
    {
     "data": {
      "text/html": [
       "<div>\n",
       "<style scoped>\n",
       "    .dataframe tbody tr th:only-of-type {\n",
       "        vertical-align: middle;\n",
       "    }\n",
       "\n",
       "    .dataframe tbody tr th {\n",
       "        vertical-align: top;\n",
       "    }\n",
       "\n",
       "    .dataframe thead th {\n",
       "        text-align: right;\n",
       "    }\n",
       "</style>\n",
       "<table border=\"1\" class=\"dataframe\">\n",
       "  <thead>\n",
       "    <tr style=\"text-align: right;\">\n",
       "      <th></th>\n",
       "      <th>age</th>\n",
       "      <th>sex</th>\n",
       "      <th>cp</th>\n",
       "      <th>trestbps</th>\n",
       "      <th>chol</th>\n",
       "      <th>fbs</th>\n",
       "      <th>restecg</th>\n",
       "      <th>thalach</th>\n",
       "      <th>exang</th>\n",
       "      <th>oldpeak</th>\n",
       "      <th>slope</th>\n",
       "      <th>ca</th>\n",
       "      <th>thal</th>\n",
       "      <th>target</th>\n",
       "    </tr>\n",
       "  </thead>\n",
       "  <tbody>\n",
       "    <tr>\n",
       "      <th>0</th>\n",
       "      <td>63</td>\n",
       "      <td>1</td>\n",
       "      <td>3</td>\n",
       "      <td>145</td>\n",
       "      <td>233</td>\n",
       "      <td>1</td>\n",
       "      <td>0</td>\n",
       "      <td>150</td>\n",
       "      <td>0</td>\n",
       "      <td>2.3</td>\n",
       "      <td>0</td>\n",
       "      <td>0</td>\n",
       "      <td>1</td>\n",
       "      <td>1</td>\n",
       "    </tr>\n",
       "    <tr>\n",
       "      <th>1</th>\n",
       "      <td>37</td>\n",
       "      <td>1</td>\n",
       "      <td>2</td>\n",
       "      <td>130</td>\n",
       "      <td>250</td>\n",
       "      <td>0</td>\n",
       "      <td>1</td>\n",
       "      <td>187</td>\n",
       "      <td>0</td>\n",
       "      <td>3.5</td>\n",
       "      <td>0</td>\n",
       "      <td>0</td>\n",
       "      <td>2</td>\n",
       "      <td>1</td>\n",
       "    </tr>\n",
       "    <tr>\n",
       "      <th>2</th>\n",
       "      <td>41</td>\n",
       "      <td>0</td>\n",
       "      <td>1</td>\n",
       "      <td>130</td>\n",
       "      <td>204</td>\n",
       "      <td>0</td>\n",
       "      <td>0</td>\n",
       "      <td>172</td>\n",
       "      <td>0</td>\n",
       "      <td>1.4</td>\n",
       "      <td>2</td>\n",
       "      <td>0</td>\n",
       "      <td>2</td>\n",
       "      <td>1</td>\n",
       "    </tr>\n",
       "    <tr>\n",
       "      <th>3</th>\n",
       "      <td>56</td>\n",
       "      <td>1</td>\n",
       "      <td>1</td>\n",
       "      <td>120</td>\n",
       "      <td>236</td>\n",
       "      <td>0</td>\n",
       "      <td>1</td>\n",
       "      <td>178</td>\n",
       "      <td>0</td>\n",
       "      <td>0.8</td>\n",
       "      <td>2</td>\n",
       "      <td>0</td>\n",
       "      <td>2</td>\n",
       "      <td>1</td>\n",
       "    </tr>\n",
       "    <tr>\n",
       "      <th>4</th>\n",
       "      <td>57</td>\n",
       "      <td>0</td>\n",
       "      <td>0</td>\n",
       "      <td>120</td>\n",
       "      <td>354</td>\n",
       "      <td>0</td>\n",
       "      <td>1</td>\n",
       "      <td>163</td>\n",
       "      <td>1</td>\n",
       "      <td>0.6</td>\n",
       "      <td>2</td>\n",
       "      <td>0</td>\n",
       "      <td>2</td>\n",
       "      <td>1</td>\n",
       "    </tr>\n",
       "    <tr>\n",
       "      <th>5</th>\n",
       "      <td>57</td>\n",
       "      <td>1</td>\n",
       "      <td>0</td>\n",
       "      <td>140</td>\n",
       "      <td>192</td>\n",
       "      <td>0</td>\n",
       "      <td>1</td>\n",
       "      <td>148</td>\n",
       "      <td>0</td>\n",
       "      <td>0.4</td>\n",
       "      <td>1</td>\n",
       "      <td>0</td>\n",
       "      <td>1</td>\n",
       "      <td>1</td>\n",
       "    </tr>\n",
       "    <tr>\n",
       "      <th>6</th>\n",
       "      <td>56</td>\n",
       "      <td>0</td>\n",
       "      <td>1</td>\n",
       "      <td>140</td>\n",
       "      <td>294</td>\n",
       "      <td>0</td>\n",
       "      <td>0</td>\n",
       "      <td>153</td>\n",
       "      <td>0</td>\n",
       "      <td>1.3</td>\n",
       "      <td>1</td>\n",
       "      <td>0</td>\n",
       "      <td>2</td>\n",
       "      <td>1</td>\n",
       "    </tr>\n",
       "    <tr>\n",
       "      <th>7</th>\n",
       "      <td>44</td>\n",
       "      <td>1</td>\n",
       "      <td>1</td>\n",
       "      <td>120</td>\n",
       "      <td>263</td>\n",
       "      <td>0</td>\n",
       "      <td>1</td>\n",
       "      <td>173</td>\n",
       "      <td>0</td>\n",
       "      <td>0.0</td>\n",
       "      <td>2</td>\n",
       "      <td>0</td>\n",
       "      <td>3</td>\n",
       "      <td>1</td>\n",
       "    </tr>\n",
       "    <tr>\n",
       "      <th>8</th>\n",
       "      <td>52</td>\n",
       "      <td>1</td>\n",
       "      <td>2</td>\n",
       "      <td>172</td>\n",
       "      <td>199</td>\n",
       "      <td>1</td>\n",
       "      <td>1</td>\n",
       "      <td>162</td>\n",
       "      <td>0</td>\n",
       "      <td>0.5</td>\n",
       "      <td>2</td>\n",
       "      <td>0</td>\n",
       "      <td>3</td>\n",
       "      <td>1</td>\n",
       "    </tr>\n",
       "    <tr>\n",
       "      <th>9</th>\n",
       "      <td>57</td>\n",
       "      <td>1</td>\n",
       "      <td>2</td>\n",
       "      <td>150</td>\n",
       "      <td>168</td>\n",
       "      <td>0</td>\n",
       "      <td>1</td>\n",
       "      <td>174</td>\n",
       "      <td>0</td>\n",
       "      <td>1.6</td>\n",
       "      <td>2</td>\n",
       "      <td>0</td>\n",
       "      <td>2</td>\n",
       "      <td>1</td>\n",
       "    </tr>\n",
       "  </tbody>\n",
       "</table>\n",
       "</div>"
      ],
      "text/plain": [
       "   age  sex  cp  trestbps  chol  fbs  restecg  thalach  exang  oldpeak  slope  \\\n",
       "0   63    1   3       145   233    1        0      150      0      2.3      0   \n",
       "1   37    1   2       130   250    0        1      187      0      3.5      0   \n",
       "2   41    0   1       130   204    0        0      172      0      1.4      2   \n",
       "3   56    1   1       120   236    0        1      178      0      0.8      2   \n",
       "4   57    0   0       120   354    0        1      163      1      0.6      2   \n",
       "5   57    1   0       140   192    0        1      148      0      0.4      1   \n",
       "6   56    0   1       140   294    0        0      153      0      1.3      1   \n",
       "7   44    1   1       120   263    0        1      173      0      0.0      2   \n",
       "8   52    1   2       172   199    1        1      162      0      0.5      2   \n",
       "9   57    1   2       150   168    0        1      174      0      1.6      2   \n",
       "\n",
       "   ca  thal  target  \n",
       "0   0     1       1  \n",
       "1   0     2       1  \n",
       "2   0     2       1  \n",
       "3   0     2       1  \n",
       "4   0     2       1  \n",
       "5   0     1       1  \n",
       "6   0     2       1  \n",
       "7   0     3       1  \n",
       "8   0     3       1  \n",
       "9   0     2       1  "
      ]
     },
     "execution_count": 13,
     "metadata": {},
     "output_type": "execute_result"
    }
   ],
   "source": [
    "#Load the data\n",
    "df = pd.read_csv(\"../data/heart-disease.csv\")\n",
    "df.head(10)"
   ]
  },
  {
   "cell_type": "code",
   "execution_count": 10,
   "metadata": {},
   "outputs": [
    {
     "data": {
      "text/plain": [
       "303"
      ]
     },
     "execution_count": 10,
     "metadata": {},
     "output_type": "execute_result"
    }
   ],
   "source": [
    "#How many patients are in the dataset\n",
    "len(df)"
   ]
  },
  {
   "cell_type": "code",
   "execution_count": 19,
   "metadata": {},
   "outputs": [
    {
     "data": {
      "text/plain": [
       "1    165\n",
       "0    138\n",
       "Name: target, dtype: int64"
      ]
     },
     "execution_count": 19,
     "metadata": {},
     "output_type": "execute_result"
    }
   ],
   "source": [
    "#How many patients with/without heart-disease\n",
    "df[\"target\"].value_counts()"
   ]
  },
  {
   "cell_type": "code",
   "execution_count": 29,
   "metadata": {},
   "outputs": [
    {
     "data": {
      "image/png": "[encoded data removed]",
      "text/plain": [
       "<Figure size 360x360 with 1 Axes>"
      ]
     },
     "metadata": {
      "needs_background": "light"
     },
     "output_type": "display_data"
    }
   ],
   "source": [
    "#Show these numbers visually\n",
    "plt.figure(figsize=(5,5))\n",
    "plt.bar([\"heart-disease\", \"No-heart-disease\"],df[\"target\"].value_counts(), color=[\"red\", \"green\"]);"
   ]
  },
  {
   "cell_type": "code",
   "execution_count": 14,
   "metadata": {},
   "outputs": [
    {
     "data": {
      "text/plain": [
       "age           int64\n",
       "sex           int64\n",
       "cp            int64\n",
       "trestbps      int64\n",
       "chol          int64\n",
       "fbs           int64\n",
       "restecg       int64\n",
       "thalach       int64\n",
       "exang         int64\n",
       "oldpeak     float64\n",
       "slope         int64\n",
       "ca            int64\n",
       "thal          int64\n",
       "target        int64\n",
       "dtype: object"
      ]
     },
     "execution_count": 14,
     "metadata": {},
     "output_type": "execute_result"
    }
   ],
   "source": [
    "#What datatypes are in the dataset\n",
    "df.dtypes"
   ]
  },
  {
   "cell_type": "code",
   "execution_count": 17,
   "metadata": {},
   "outputs": [
    {
     "data": {
      "text/plain": [
       "age         0\n",
       "sex         0\n",
       "cp          0\n",
       "trestbps    0\n",
       "chol        0\n",
       "fbs         0\n",
       "restecg     0\n",
       "thalach     0\n",
       "exang       0\n",
       "oldpeak     0\n",
       "slope       0\n",
       "ca          0\n",
       "thal        0\n",
       "target      0\n",
       "dtype: int64"
      ]
     },
     "execution_count": 17,
     "metadata": {},
     "output_type": "execute_result"
    }
   ],
   "source": [
    "#Are there missing values in the dataset\n",
    "df.isna().sum()"
   ]
  },
  {
   "cell_type": "code",
   "execution_count": 31,
   "metadata": {},
   "outputs": [
    {
     "data": {
      "text/html": [
       "<div>\n",
       "<style scoped>\n",
       "    .dataframe tbody tr th:only-of-type {\n",
       "        vertical-align: middle;\n",
       "    }\n",
       "\n",
       "    .dataframe tbody tr th {\n",
       "        vertical-align: top;\n",
       "    }\n",
       "\n",
       "    .dataframe thead th {\n",
       "        text-align: right;\n",
       "    }\n",
       "</style>\n",
       "<table border=\"1\" class=\"dataframe\">\n",
       "  <thead>\n",
       "    <tr style=\"text-align: right;\">\n",
       "      <th></th>\n",
       "      <th>age</th>\n",
       "      <th>sex</th>\n",
       "      <th>cp</th>\n",
       "      <th>trestbps</th>\n",
       "      <th>chol</th>\n",
       "      <th>fbs</th>\n",
       "      <th>restecg</th>\n",
       "      <th>thalach</th>\n",
       "      <th>exang</th>\n",
       "      <th>oldpeak</th>\n",
       "      <th>slope</th>\n",
       "      <th>ca</th>\n",
       "      <th>thal</th>\n",
       "    </tr>\n",
       "  </thead>\n",
       "  <tbody>\n",
       "    <tr>\n",
       "      <th>count</th>\n",
       "      <td>303.000000</td>\n",
       "      <td>303.000000</td>\n",
       "      <td>303.000000</td>\n",
       "      <td>303.000000</td>\n",
       "      <td>303.000000</td>\n",
       "      <td>303.000000</td>\n",
       "      <td>303.000000</td>\n",
       "      <td>303.000000</td>\n",
       "      <td>303.000000</td>\n",
       "      <td>303.000000</td>\n",
       "      <td>303.000000</td>\n",
       "      <td>303.000000</td>\n",
       "      <td>303.000000</td>\n",
       "    </tr>\n",
       "    <tr>\n",
       "      <th>mean</th>\n",
       "      <td>54.366337</td>\n",
       "      <td>0.683168</td>\n",
       "      <td>0.966997</td>\n",
       "      <td>131.623762</td>\n",
       "      <td>246.264026</td>\n",
       "      <td>0.148515</td>\n",
       "      <td>0.528053</td>\n",
       "      <td>149.646865</td>\n",
       "      <td>0.326733</td>\n",
       "      <td>1.039604</td>\n",
       "      <td>1.399340</td>\n",
       "      <td>0.729373</td>\n",
       "      <td>2.313531</td>\n",
       "    </tr>\n",
       "    <tr>\n",
       "      <th>std</th>\n",
       "      <td>9.082101</td>\n",
       "      <td>0.466011</td>\n",
       "      <td>1.032052</td>\n",
       "      <td>17.538143</td>\n",
       "      <td>51.830751</td>\n",
       "      <td>0.356198</td>\n",
       "      <td>0.525860</td>\n",
       "      <td>22.905161</td>\n",
       "      <td>0.469794</td>\n",
       "      <td>1.161075</td>\n",
       "      <td>0.616226</td>\n",
       "      <td>1.022606</td>\n",
       "      <td>0.612277</td>\n",
       "    </tr>\n",
       "    <tr>\n",
       "      <th>min</th>\n",
       "      <td>29.000000</td>\n",
       "      <td>0.000000</td>\n",
       "      <td>0.000000</td>\n",
       "      <td>94.000000</td>\n",
       "      <td>126.000000</td>\n",
       "      <td>0.000000</td>\n",
       "      <td>0.000000</td>\n",
       "      <td>71.000000</td>\n",
       "      <td>0.000000</td>\n",
       "      <td>0.000000</td>\n",
       "      <td>0.000000</td>\n",
       "      <td>0.000000</td>\n",
       "      <td>0.000000</td>\n",
       "    </tr>\n",
       "    <tr>\n",
       "      <th>25%</th>\n",
       "      <td>47.500000</td>\n",
       "      <td>0.000000</td>\n",
       "      <td>0.000000</td>\n",
       "      <td>120.000000</td>\n",
       "      <td>211.000000</td>\n",
       "      <td>0.000000</td>\n",
       "      <td>0.000000</td>\n",
       "      <td>133.500000</td>\n",
       "      <td>0.000000</td>\n",
       "      <td>0.000000</td>\n",
       "      <td>1.000000</td>\n",
       "      <td>0.000000</td>\n",
       "      <td>2.000000</td>\n",
       "    </tr>\n",
       "    <tr>\n",
       "      <th>50%</th>\n",
       "      <td>55.000000</td>\n",
       "      <td>1.000000</td>\n",
       "      <td>1.000000</td>\n",
       "      <td>130.000000</td>\n",
       "      <td>240.000000</td>\n",
       "      <td>0.000000</td>\n",
       "      <td>1.000000</td>\n",
       "      <td>153.000000</td>\n",
       "      <td>0.000000</td>\n",
       "      <td>0.800000</td>\n",
       "      <td>1.000000</td>\n",
       "      <td>0.000000</td>\n",
       "      <td>2.000000</td>\n",
       "    </tr>\n",
       "    <tr>\n",
       "      <th>75%</th>\n",
       "      <td>61.000000</td>\n",
       "      <td>1.000000</td>\n",
       "      <td>2.000000</td>\n",
       "      <td>140.000000</td>\n",
       "      <td>274.500000</td>\n",
       "      <td>0.000000</td>\n",
       "      <td>1.000000</td>\n",
       "      <td>166.000000</td>\n",
       "      <td>1.000000</td>\n",
       "      <td>1.600000</td>\n",
       "      <td>2.000000</td>\n",
       "      <td>1.000000</td>\n",
       "      <td>3.000000</td>\n",
       "    </tr>\n",
       "    <tr>\n",
       "      <th>max</th>\n",
       "      <td>77.000000</td>\n",
       "      <td>1.000000</td>\n",
       "      <td>3.000000</td>\n",
       "      <td>200.000000</td>\n",
       "      <td>564.000000</td>\n",
       "      <td>1.000000</td>\n",
       "      <td>2.000000</td>\n",
       "      <td>202.000000</td>\n",
       "      <td>1.000000</td>\n",
       "      <td>6.200000</td>\n",
       "      <td>2.000000</td>\n",
       "      <td>4.000000</td>\n",
       "      <td>3.000000</td>\n",
       "    </tr>\n",
       "  </tbody>\n",
       "</table>\n",
       "</div>"
      ],
      "text/plain": [
       "              age         sex          cp    trestbps        chol         fbs  \\\n",
       "count  303.000000  303.000000  303.000000  303.000000  303.000000  303.000000   \n",
       "mean    54.366337    0.683168    0.966997  131.623762  246.264026    0.148515   \n",
       "std      9.082101    0.466011    1.032052   17.538143   51.830751    0.356198   \n",
       "min     29.000000    0.000000    0.000000   94.000000  126.000000    0.000000   \n",
       "25%     47.500000    0.000000    0.000000  120.000000  211.000000    0.000000   \n",
       "50%     55.000000    1.000000    1.000000  130.000000  240.000000    0.000000   \n",
       "75%     61.000000    1.000000    2.000000  140.000000  274.500000    0.000000   \n",
       "max     77.000000    1.000000    3.000000  200.000000  564.000000    1.000000   \n",
       "\n",
       "          restecg     thalach       exang     oldpeak       slope          ca  \\\n",
       "count  303.000000  303.000000  303.000000  303.000000  303.000000  303.000000   \n",
       "mean     0.528053  149.646865    0.326733    1.039604    1.399340    0.729373   \n",
       "std      0.525860   22.905161    0.469794    1.161075    0.616226    1.022606   \n",
       "min      0.000000   71.000000    0.000000    0.000000    0.000000    0.000000   \n",
       "25%      0.000000  133.500000    0.000000    0.000000    1.000000    0.000000   \n",
       "50%      1.000000  153.000000    0.000000    0.800000    1.000000    0.000000   \n",
       "75%      1.000000  166.000000    1.000000    1.600000    2.000000    1.000000   \n",
       "max      2.000000  202.000000    1.000000    6.200000    2.000000    4.000000   \n",
       "\n",
       "             thal  \n",
       "count  303.000000  \n",
       "mean     2.313531  \n",
       "std      0.612277  \n",
       "min      0.000000  \n",
       "25%      2.000000  \n",
       "50%      2.000000  \n",
       "75%      3.000000  \n",
       "max      3.000000  "
      ]
     },
     "execution_count": 31,
     "metadata": {},
     "output_type": "execute_result"
    }
   ],
   "source": [
    "#Look at some keymetrics of the dataset\n",
    "df.drop(\"target\", axis=1).describe()"
   ]
  },
  {
   "cell_type": "markdown",
   "metadata": {},
   "source": [
    "### Trying to find patterns in feature - target relation"
   ]
  },
  {
   "cell_type": "markdown",
   "metadata": {},
   "source": [
    "How are the gender of a patient and his diagnosis related?"
   ]
  },
  {
   "cell_type": "code",
   "execution_count": 34,
   "metadata": {},
   "outputs": [
    {
     "data": {
      "text/html": [
       "<div>\n",
       "<style scoped>\n",
       "    .dataframe tbody tr th:only-of-type {\n",
       "        vertical-align: middle;\n",
       "    }\n",
       "\n",
       "    .dataframe tbody tr th {\n",
       "        vertical-align: top;\n",
       "    }\n",
       "\n",
       "    .dataframe thead th {\n",
       "        text-align: right;\n",
       "    }\n",
       "</style>\n",
       "<table border=\"1\" class=\"dataframe\">\n",
       "  <thead>\n",
       "    <tr style=\"text-align: right;\">\n",
       "      <th>sex</th>\n",
       "      <th>0</th>\n",
       "      <th>1</th>\n",
       "    </tr>\n",
       "    <tr>\n",
       "      <th>target</th>\n",
       "      <th></th>\n",
       "      <th></th>\n",
       "    </tr>\n",
       "  </thead>\n",
       "  <tbody>\n",
       "    <tr>\n",
       "      <th>0</th>\n",
       "      <td>24</td>\n",
       "      <td>114</td>\n",
       "    </tr>\n",
       "    <tr>\n",
       "      <th>1</th>\n",
       "      <td>72</td>\n",
       "      <td>93</td>\n",
       "    </tr>\n",
       "  </tbody>\n",
       "</table>\n",
       "</div>"
      ],
      "text/plain": [
       "sex      0    1\n",
       "target         \n",
       "0       24  114\n",
       "1       72   93"
      ]
     },
     "execution_count": 34,
     "metadata": {},
     "output_type": "execute_result"
    }
   ],
   "source": [
    "# sex-feature relation to target\n",
    "sex_target_relation = pd.crosstab( df[\"target\"], df[\"sex\"])\n",
    "sex_target_relation"
   ]
  },
  {
   "cell_type": "code",
   "execution_count": 46,
   "metadata": {
    "scrolled": false
   },
   "outputs": [
    {
     "data": {
      "image/png": "[encoded data removed]",
      "text/plain": [
       "<Figure size 720x360 with 1 Axes>"
      ]
     },
     "metadata": {
      "needs_background": "light"
     },
     "output_type": "display_data"
    }
   ],
   "source": [
    "#Create a heatmap to visualize the above relation\n",
    "sex_target_relation.plot(figsize=(10,5),kind=\"bar\", color=[\"red\", \"green\"]);\n",
    "plt.xticks([0,1],[\"No Heart Disease\",\"Heart Disease\"], rotation=0)\n",
    "plt.ylabel(\"Amount\")\n",
    "plt.xlabel(\"Sex\")\n",
    "plt.legend([\"Female\",\"Male\"]);"
   ]
  },
  {
   "cell_type": "markdown",
   "metadata": {},
   "source": [
    "How are the maximum heart rate and the age related?"
   ]
  },
  {
   "cell_type": "code",
   "execution_count": 73,
   "metadata": {},
   "outputs": [
    {
     "data": {
      "text/html": [
       "<div>\n",
       "<style scoped>\n",
       "    .dataframe tbody tr th:only-of-type {\n",
       "        vertical-align: middle;\n",
       "    }\n",
       "\n",
       "    .dataframe tbody tr th {\n",
       "        vertical-align: top;\n",
       "    }\n",
       "\n",
       "    .dataframe thead th {\n",
       "        text-align: right;\n",
       "    }\n",
       "</style>\n",
       "<table border=\"1\" class=\"dataframe\">\n",
       "  <thead>\n",
       "    <tr style=\"text-align: right;\">\n",
       "      <th></th>\n",
       "      <th>thalach</th>\n",
       "      <th>age</th>\n",
       "      <th>target</th>\n",
       "    </tr>\n",
       "  </thead>\n",
       "  <tbody>\n",
       "    <tr>\n",
       "      <th>0</th>\n",
       "      <td>150</td>\n",
       "      <td>63</td>\n",
       "      <td>1</td>\n",
       "    </tr>\n",
       "    <tr>\n",
       "      <th>1</th>\n",
       "      <td>187</td>\n",
       "      <td>37</td>\n",
       "      <td>1</td>\n",
       "    </tr>\n",
       "    <tr>\n",
       "      <th>2</th>\n",
       "      <td>172</td>\n",
       "      <td>41</td>\n",
       "      <td>1</td>\n",
       "    </tr>\n",
       "    <tr>\n",
       "      <th>3</th>\n",
       "      <td>178</td>\n",
       "      <td>56</td>\n",
       "      <td>1</td>\n",
       "    </tr>\n",
       "    <tr>\n",
       "      <th>4</th>\n",
       "      <td>163</td>\n",
       "      <td>57</td>\n",
       "      <td>1</td>\n",
       "    </tr>\n",
       "    <tr>\n",
       "      <th>...</th>\n",
       "      <td>...</td>\n",
       "      <td>...</td>\n",
       "      <td>...</td>\n",
       "    </tr>\n",
       "    <tr>\n",
       "      <th>298</th>\n",
       "      <td>123</td>\n",
       "      <td>57</td>\n",
       "      <td>0</td>\n",
       "    </tr>\n",
       "    <tr>\n",
       "      <th>299</th>\n",
       "      <td>132</td>\n",
       "      <td>45</td>\n",
       "      <td>0</td>\n",
       "    </tr>\n",
       "    <tr>\n",
       "      <th>300</th>\n",
       "      <td>141</td>\n",
       "      <td>68</td>\n",
       "      <td>0</td>\n",
       "    </tr>\n",
       "    <tr>\n",
       "      <th>301</th>\n",
       "      <td>115</td>\n",
       "      <td>57</td>\n",
       "      <td>0</td>\n",
       "    </tr>\n",
       "    <tr>\n",
       "      <th>302</th>\n",
       "      <td>174</td>\n",
       "      <td>57</td>\n",
       "      <td>0</td>\n",
       "    </tr>\n",
       "  </tbody>\n",
       "</table>\n",
       "<p>303 rows × 3 columns</p>\n",
       "</div>"
      ],
      "text/plain": [
       "     thalach  age  target\n",
       "0        150   63       1\n",
       "1        187   37       1\n",
       "2        172   41       1\n",
       "3        178   56       1\n",
       "4        163   57       1\n",
       "..       ...  ...     ...\n",
       "298      123   57       0\n",
       "299      132   45       0\n",
       "300      141   68       0\n",
       "301      115   57       0\n",
       "302      174   57       0\n",
       "\n",
       "[303 rows x 3 columns]"
      ]
     },
     "execution_count": 73,
     "metadata": {},
     "output_type": "execute_result"
    }
   ],
   "source": [
    "#thalach-feature relation age-feature\n",
    "thalach_age_relation = df[[\"thalach\",\"age\",\"target\"]]\n",
    "thalach_age_relation"
   ]
  },
  {
   "cell_type": "code",
   "execution_count": 86,
   "metadata": {
    "scrolled": true
   },
   "outputs": [
    {
     "data": {
      "image/png": "[encoded data removed]",
      "text/plain": [
       "<Figure size 1080x360 with 1 Axes>"
      ]
     },
     "metadata": {
      "needs_background": "light"
     },
     "output_type": "display_data"
    }
   ],
   "source": [
    "#visualize the above relation\n",
    "fig, ax1 = plt.subplots(figsize=(15,5),\n",
    "                              nrows=1,\n",
    "                              ncols=1)\n",
    "\n",
    "positive_patients = thalach_age_relation[thalach_age_relation[\"target\"] == 1]\n",
    "negative_patients = thalach_age_relation[thalach_age_relation[\"target\"] == 0]\n",
    "\n",
    "#Plotting the positive patients' age against there thalach level\n",
    "scatter = ax1.scatter(positive_patients[\"age\"], positive_patients[\"thalach\"],c=\"red\")\n",
    "\n",
    "#Plotting the negative patients' age against there thalach level\n",
    "scatter = ax1.scatter(negative_patients[\"age\"], negative_patients[\"thalach\"], c=\"green\")\n",
    "\n",
    "ax1.set(title=\"Relation between age and their maximum heart rate\",\n",
    "        xlabel=\"Age\",\n",
    "        ylabel=\"Max. heart rate\");\n",
    "\n",
    "ax1.legend(scatter.legend_elements(),labels=[\"Heart disease\",\"No heart disease\"],title=\"Target\")\n",
    "\n",
    "fig.suptitle(\"Heart Disease Analysis\", fontsize=18, fontweight=\"bold\");"
   ]
  },
  {
   "cell_type": "markdown",
   "metadata": {},
   "source": [
    "The normal distribution of features is a good indicator to see if we have some outlier/special data, we have to deal with,\n",
    "before feeding the machine-learning algorithm with the data."
   ]
  },
  {
   "cell_type": "code",
   "execution_count": 203,
   "metadata": {},
   "outputs": [
    {
     "data": {
      "image/png": "[encoded data removed]",
      "text/plain": [
       "<Figure size 432x288 with 1 Axes>"
      ]
     },
     "metadata": {
      "needs_background": "light"
     },
     "output_type": "display_data"
    }
   ],
   "source": [
    "#Let's have a look at the age distribution in the histogram\n",
    "df[\"age\"].plot(kind=\"hist\");"
   ]
  },
  {
   "cell_type": "markdown",
   "metadata": {},
   "source": [
    "How are the chest pain of patients and his diagnosis related?"
   ]
  },
  {
   "cell_type": "code",
   "execution_count": 206,
   "metadata": {},
   "outputs": [
    {
     "data": {
      "text/html": [
       "<div>\n",
       "<style scoped>\n",
       "    .dataframe tbody tr th:only-of-type {\n",
       "        vertical-align: middle;\n",
       "    }\n",
       "\n",
       "    .dataframe tbody tr th {\n",
       "        vertical-align: top;\n",
       "    }\n",
       "\n",
       "    .dataframe thead th {\n",
       "        text-align: right;\n",
       "    }\n",
       "</style>\n",
       "<table border=\"1\" class=\"dataframe\">\n",
       "  <thead>\n",
       "    <tr style=\"text-align: right;\">\n",
       "      <th>target</th>\n",
       "      <th>0</th>\n",
       "      <th>1</th>\n",
       "    </tr>\n",
       "    <tr>\n",
       "      <th>cp</th>\n",
       "      <th></th>\n",
       "      <th></th>\n",
       "    </tr>\n",
       "  </thead>\n",
       "  <tbody>\n",
       "    <tr>\n",
       "      <th>0</th>\n",
       "      <td>104</td>\n",
       "      <td>39</td>\n",
       "    </tr>\n",
       "    <tr>\n",
       "      <th>1</th>\n",
       "      <td>9</td>\n",
       "      <td>41</td>\n",
       "    </tr>\n",
       "    <tr>\n",
       "      <th>2</th>\n",
       "      <td>18</td>\n",
       "      <td>69</td>\n",
       "    </tr>\n",
       "    <tr>\n",
       "      <th>3</th>\n",
       "      <td>7</td>\n",
       "      <td>16</td>\n",
       "    </tr>\n",
       "  </tbody>\n",
       "</table>\n",
       "</div>"
      ],
      "text/plain": [
       "target    0   1\n",
       "cp             \n",
       "0       104  39\n",
       "1         9  41\n",
       "2        18  69\n",
       "3         7  16"
      ]
     },
     "execution_count": 206,
     "metadata": {},
     "output_type": "execute_result"
    }
   ],
   "source": [
    "relation_chestpain_target = pd.crosstab(df[\"cp\"], df[\"target\"])\n",
    "relation_chestpain_target"
   ]
  },
  {
   "cell_type": "code",
   "execution_count": 223,
   "metadata": {
    "scrolled": false
   },
   "outputs": [
    {
     "data": {
      "image/png": "[encoded data removed]",
      "text/plain": [
       "<Figure size 432x288 with 1 Axes>"
      ]
     },
     "metadata": {
      "needs_background": "light"
     },
     "output_type": "display_data"
    }
   ],
   "source": [
    "#Make it visual\n",
    "sns.heatmap(relation_chestpain_target, cbar=False, annot=True, cmap=sns.light_palette(\"red\"), \n",
    "            yticklabels=[\"0: Typical angina: chest pain related decrease blood supply to the heart\", \n",
    "                   \"1: Atypical angina: chest pain not related to heart\",\n",
    "                   \"2: Non-anginal pain: typically esophageal spasms (non heart related)\", \n",
    "                   \"3: Asymptomatic: chest pain not showing signs of disease\"],\n",
    "            xticklabels=[\"No heart disease\", \"heart disease\"], fmt=\"g\");\n",
    "\n",
    "\n"
   ]
  },
  {
   "cell_type": "code",
   "execution_count": 225,
   "metadata": {},
   "outputs": [],
   "source": [
    "# Make a correlation matrix\n",
    "correlation_matrix = df.corr()"
   ]
  },
  {
   "cell_type": "code",
   "execution_count": 228,
   "metadata": {},
   "outputs": [
    {
     "data": {
      "image/png": "[encoded data removed]",
      "text/plain": [
       "<Figure size 1080x720 with 2 Axes>"
      ]
     },
     "metadata": {
      "needs_background": "light"
     },
     "output_type": "display_data"
    }
   ],
   "source": [
    "#Visualize it using a heatmap\n",
    "fig, ax = plt.subplots(figsize=(15,10))\n",
    "ax = sns.heatmap(correlation_matrix,\n",
    "                 annot=True,\n",
    "                 linewidths=0.5,\n",
    "                 fmt=\".2f\",\n",
    "                 cmap=sns.light_palette(\"red\")\n",
    "                )"
   ]
  },
  {
   "cell_type": "markdown",
   "metadata": {},
   "source": [
    "### 5.Modelling the binary classifier"
   ]
  },
  {
   "cell_type": "code",
   "execution_count": 14,
   "metadata": {},
   "outputs": [
    {
     "data": {
      "text/plain": [
       "((242, 13), (61, 13), (242,), (61,))"
      ]
     },
     "execution_count": 14,
     "metadata": {},
     "output_type": "execute_result"
    }
   ],
   "source": [
    "#Split the data into x(features) and y(target variable)\n",
    "\n",
    "x = df.drop(\"target\", axis=1)\n",
    "y = df[\"target\"]\n",
    "\n",
    "#split the data into training-set and test-set.\n",
    "x_train, x_test, y_train, y_test = train_test_split(x, y, test_size=0.2)\n",
    "\n",
    "#check the size of the sets\n",
    "x_train.shape, x_test.shape, y_train.shape, y_test.shape"
   ]
  },
  {
   "cell_type": "markdown",
   "metadata": {},
   "source": [
    "We will try three different models as baseline models and see which one's the best\n",
    "\n",
    "* Logistic Regression\n",
    "* K-Nearest Neighbors\n",
    "* Random Forest Classifier"
   ]
  },
  {
   "cell_type": "code",
   "execution_count": 14,
   "metadata": {},
   "outputs": [],
   "source": [
    "baseline_models = {\"Logistic Regression\": LogisticRegression(),\n",
    "                   \"K-Nearest-Neighbors\": KNeighborsClassifier(),\n",
    "                   \"Random Forest Classifier\": RandomForestClassifier(),\n",
    "                   \"SVC\": SVC(),\n",
    "                   \"LinearSVC\": LinearSVC()}"
   ]
  },
  {
   "cell_type": "code",
   "execution_count": 15,
   "metadata": {},
   "outputs": [],
   "source": [
    "def fit_eval_plot_model(models, x, y):\n",
    "    \n",
    "    \"\"\"\n",
    "    Every model from the models dictionary are fit to the training set, evaluated on the \n",
    "    test set and their accuacy score plotted to compare them.\n",
    "    \n",
    "    models = dictionary that contains machine-learning model instances\n",
    "    x_train = the feature values of the training set\n",
    "    y_train = the target label of the training set\n",
    "    x_test = the feature values of the test set\n",
    "    y_test = the target label of the test set\n",
    "    \"\"\"\n",
    "    \n",
    "    #set random seed for replication purposes\n",
    "    np.random.seed(42)\n",
    "    scores = {}\n",
    "\n",
    "    for modelname, model in baseline_models.items():\n",
    "        model.fit(x_train, y_train)\n",
    "        scores[modelname] = np.mean(cross_val_score(model, x, y, scoring=\"accuracy\", cv=5))\n",
    "    \n",
    "    print_scores(scores)\n",
    "    scores = pd.Series(scores)\n",
    "    scores.plot(kind=\"bar\");"
   ]
  },
  {
   "cell_type": "code",
   "execution_count": 16,
   "metadata": {},
   "outputs": [],
   "source": [
    "def print_scores(scores):\n",
    "    \"\"\"\n",
    "    prints out the scores of machine-learning models in a given dictionary.\n",
    "    \n",
    "    scores = dicitonary that contains a machine-learning-model name as a key and it's accuracy score as the value.\n",
    "    \"\"\"\n",
    "    for modelname,score in scores.items():\n",
    "        print(f\"{modelname}: {score *100 :.2f}%\")\n",
    "    "
   ]
  },
  {
   "cell_type": "code",
   "execution_count": 17,
   "metadata": {},
   "outputs": [
    {
     "name": "stdout",
     "output_type": "stream",
     "text": [
      "Logistic Regression: 83.15%\n",
      "K-Nearest-Neighbors: 64.39%\n",
      "Random Forest Classifier: 82.15%\n",
      "SVC: 64.35%\n",
      "LinearSVC: 71.95%\n"
     ]
    },
    {
     "data": {
      "image/png": "[encoded data removed]",
      "text/plain": [
       "<Figure size 432x288 with 1 Axes>"
      ]
     },
     "metadata": {
      "needs_background": "light"
     },
     "output_type": "display_data"
    }
   ],
   "source": [
    "#Let's use them\n",
    "fit_eval_plot_model(baseline_models, x, y)"
   ]
  },
  {
   "cell_type": "markdown",
   "metadata": {},
   "source": [
    "The three lowest performing baseline models are kicked out.\n",
    "\n",
    "As there is now a baseline score for each baseline - model, hyperparameter tuning is next."
   ]
  },
  {
   "cell_type": "markdown",
   "metadata": {},
   "source": [
    "### Hyperparameter tuning\n",
    "#### Logistic Regression"
   ]
  },
  {
   "cell_type": "code",
   "execution_count": 20,
   "metadata": {},
   "outputs": [
    {
     "data": {
      "text/plain": [
       "LogisticRegression(C=1.0, class_weight=None, dual=False, fit_intercept=True,\n",
       "                   intercept_scaling=1, l1_ratio=None, max_iter=100,\n",
       "                   multi_class='auto', n_jobs=None, penalty='l2',\n",
       "                   random_state=None, solver='lbfgs', tol=0.0001, verbose=0,\n",
       "                   warm_start=False)"
      ]
     },
     "execution_count": 20,
     "metadata": {},
     "output_type": "execute_result"
    }
   ],
   "source": [
    "#Get default hyperparameter-values of logistic-regression model\n",
    "logistic_regression = LogisticRegression()\n",
    "logistic_regression"
   ]
  },
  {
   "cell_type": "code",
   "execution_count": 41,
   "metadata": {},
   "outputs": [],
   "source": [
    "#Grid for random Search of hyperparameter values that improve the model's score\n",
    "grid_randomize = {\"C\": [0,1,2,3,4,5],\n",
    "        \"dual\": [False, True],\n",
    "        \"fit_intercept\": [True, False],\n",
    "        \"intercept_scaling\": [0,1,2,3,4,5,6,7],\n",
    "        \"max_iter\": [0,10,20,30,40,50,60,70,80,90,100],\n",
    "        \"multi_class\": [\"auto\",\"ovr\",\"multinomial\"],\n",
    "        \"verbose\": [0,1,2,3]}"
   ]
  },
  {
   "cell_type": "code",
   "execution_count": 21,
   "metadata": {},
   "outputs": [
    {
     "name": "stdout",
     "output_type": "stream",
     "text": [
      "Fitting 5 folds for each of 20 candidates, totalling 100 fits\n",
      "[CV] verbose=2, multi_class=auto, max_iter=20, intercept_scaling=3, fit_intercept=True, dual=True, C=5 \n",
      "[CV]  verbose=2, multi_class=auto, max_iter=20, intercept_scaling=3, fit_intercept=True, dual=True, C=5, total=   0.0s\n",
      "[CV] verbose=2, multi_class=auto, max_iter=20, intercept_scaling=3, fit_intercept=True, dual=True, C=5 \n",
      "[CV]  verbose=2, multi_class=auto, max_iter=20, intercept_scaling=3, fit_intercept=True, dual=True, C=5, total=   0.0s\n",
      "[CV] verbose=2, multi_class=auto, max_iter=20, intercept_scaling=3, fit_intercept=True, dual=True, C=5 \n",
      "[CV]  verbose=2, multi_class=auto, max_iter=20, intercept_scaling=3, fit_intercept=True, dual=True, C=5, total=   0.0s\n",
      "[CV] verbose=2, multi_class=auto, max_iter=20, intercept_scaling=3, fit_intercept=True, dual=True, C=5 \n",
      "[CV]  verbose=2, multi_class=auto, max_iter=20, intercept_scaling=3, fit_intercept=True, dual=True, C=5, total=   0.0s\n",
      "[CV] verbose=2, multi_class=auto, max_iter=20, intercept_scaling=3, fit_intercept=True, dual=True, C=5 \n",
      "[CV]  verbose=2, multi_class=auto, max_iter=20, intercept_scaling=3, fit_intercept=True, dual=True, C=5, total=   0.0s\n",
      "[CV] verbose=3, multi_class=auto, max_iter=70, intercept_scaling=7, fit_intercept=True, dual=True, C=3 \n",
      "[CV]  verbose=3, multi_class=auto, max_iter=70, intercept_scaling=7, fit_intercept=True, dual=True, C=3, total=   0.0s\n",
      "[CV] verbose=3, multi_class=auto, max_iter=70, intercept_scaling=7, fit_intercept=True, dual=True, C=3 \n",
      "[CV]  verbose=3, multi_class=auto, max_iter=70, intercept_scaling=7, fit_intercept=True, dual=True, C=3, total=   0.0s\n",
      "[CV] verbose=3, multi_class=auto, max_iter=70, intercept_scaling=7, fit_intercept=True, dual=True, C=3 \n",
      "[CV]  verbose=3, multi_class=auto, max_iter=70, intercept_scaling=7, fit_intercept=True, dual=True, C=3, total=   0.0s\n",
      "[CV] verbose=3, multi_class=auto, max_iter=70, intercept_scaling=7, fit_intercept=True, dual=True, C=3 \n",
      "[CV]  verbose=3, multi_class=auto, max_iter=70, intercept_scaling=7, fit_intercept=True, dual=True, C=3, total=   0.0s\n",
      "[CV] verbose=3, multi_class=auto, max_iter=70, intercept_scaling=7, fit_intercept=True, dual=True, C=3 \n",
      "[CV]  verbose=3, multi_class=auto, max_iter=70, intercept_scaling=7, fit_intercept=True, dual=True, C=3, total=   0.0s\n",
      "[CV] verbose=0, multi_class=multinomial, max_iter=50, intercept_scaling=6, fit_intercept=True, dual=False, C=0 \n",
      "[CV]  verbose=0, multi_class=multinomial, max_iter=50, intercept_scaling=6, fit_intercept=True, dual=False, C=0, total=   0.0s\n",
      "[CV] verbose=0, multi_class=multinomial, max_iter=50, intercept_scaling=6, fit_intercept=True, dual=False, C=0 \n",
      "[CV]  verbose=0, multi_class=multinomial, max_iter=50, intercept_scaling=6, fit_intercept=True, dual=False, C=0, total=   0.0s\n",
      "[CV] verbose=0, multi_class=multinomial, max_iter=50, intercept_scaling=6, fit_intercept=True, dual=False, C=0 \n",
      "[CV]  verbose=0, multi_class=multinomial, max_iter=50, intercept_scaling=6, fit_intercept=True, dual=False, C=0, total=   0.0s\n",
      "[CV] verbose=0, multi_class=multinomial, max_iter=50, intercept_scaling=6, fit_intercept=True, dual=False, C=0 \n",
      "[CV]  verbose=0, multi_class=multinomial, max_iter=50, intercept_scaling=6, fit_intercept=True, dual=False, C=0, total=   0.0s\n",
      "[CV] verbose=0, multi_class=multinomial, max_iter=50, intercept_scaling=6, fit_intercept=True, dual=False, C=0 \n",
      "[CV]  verbose=0, multi_class=multinomial, max_iter=50, intercept_scaling=6, fit_intercept=True, dual=False, C=0, total=   0.0s\n",
      "[CV] verbose=2, multi_class=auto, max_iter=90, intercept_scaling=0, fit_intercept=False, dual=False, C=1 \n",
      "[CV]  verbose=2, multi_class=auto, max_iter=90, intercept_scaling=0, fit_intercept=False, dual=False, C=1, total=   0.1s\n",
      "[CV] verbose=2, multi_class=auto, max_iter=90, intercept_scaling=0, fit_intercept=False, dual=False, C=1 \n"
     ]
    },
    {
     "name": "stderr",
     "output_type": "stream",
     "text": [
      "[Parallel(n_jobs=1)]: Using backend SequentialBackend with 1 concurrent workers.\n",
      "[Parallel(n_jobs=1)]: Done   1 out of   1 | elapsed:    0.0s remaining:    0.0s\n",
      "[Parallel(n_jobs=1)]: Using backend SequentialBackend with 1 concurrent workers.\n",
      "[Parallel(n_jobs=1)]: Done   1 out of   1 | elapsed:    0.0s remaining:    0.0s\n",
      "[Parallel(n_jobs=1)]: Done   1 out of   1 | elapsed:    0.0s finished\n",
      "[Parallel(n_jobs=1)]: Using backend SequentialBackend with 1 concurrent workers.\n",
      "[Parallel(n_jobs=1)]: Done   1 out of   1 | elapsed:    0.0s remaining:    0.0s\n",
      "[Parallel(n_jobs=1)]: Done   1 out of   1 | elapsed:    0.0s finished\n",
      "[Parallel(n_jobs=1)]: Using backend SequentialBackend with 1 concurrent workers.\n",
      "[Parallel(n_jobs=1)]: Done   1 out of   1 | elapsed:    0.0s remaining:    0.0s\n",
      "[Parallel(n_jobs=1)]: Done   1 out of   1 | elapsed:    0.0s finished\n",
      "[Parallel(n_jobs=1)]: Using backend SequentialBackend with 1 concurrent workers.\n",
      "[Parallel(n_jobs=1)]: Done   1 out of   1 | elapsed:    0.0s remaining:    0.0s\n",
      "[Parallel(n_jobs=1)]: Done   1 out of   1 | elapsed:    0.0s finished\n",
      "[Parallel(n_jobs=1)]: Using backend SequentialBackend with 1 concurrent workers.\n",
      "[Parallel(n_jobs=1)]: Done   1 out of   1 | elapsed:    0.0s remaining:    0.0s\n"
     ]
    },
    {
     "name": "stdout",
     "output_type": "stream",
     "text": [
      "[CV]  verbose=2, multi_class=auto, max_iter=90, intercept_scaling=0, fit_intercept=False, dual=False, C=1, total=   0.1s\n",
      "[CV] verbose=2, multi_class=auto, max_iter=90, intercept_scaling=0, fit_intercept=False, dual=False, C=1 \n",
      "[CV]  verbose=2, multi_class=auto, max_iter=90, intercept_scaling=0, fit_intercept=False, dual=False, C=1, total=   0.1s\n",
      "[CV] verbose=2, multi_class=auto, max_iter=90, intercept_scaling=0, fit_intercept=False, dual=False, C=1 \n",
      "[CV]  verbose=2, multi_class=auto, max_iter=90, intercept_scaling=0, fit_intercept=False, dual=False, C=1, total=   0.1s\n",
      "[CV] verbose=2, multi_class=auto, max_iter=90, intercept_scaling=0, fit_intercept=False, dual=False, C=1 \n"
     ]
    },
    {
     "name": "stderr",
     "output_type": "stream",
     "text": [
      "[Parallel(n_jobs=1)]: Done   1 out of   1 | elapsed:    0.0s finished\n",
      "[Parallel(n_jobs=1)]: Using backend SequentialBackend with 1 concurrent workers.\n",
      "[Parallel(n_jobs=1)]: Done   1 out of   1 | elapsed:    0.0s remaining:    0.0s\n",
      "[Parallel(n_jobs=1)]: Done   1 out of   1 | elapsed:    0.0s finished\n",
      "[Parallel(n_jobs=1)]: Using backend SequentialBackend with 1 concurrent workers.\n"
     ]
    },
    {
     "name": "stdout",
     "output_type": "stream",
     "text": [
      "[CV]  verbose=2, multi_class=auto, max_iter=90, intercept_scaling=0, fit_intercept=False, dual=False, C=1, total=   0.1s\n",
      "[CV] verbose=3, multi_class=multinomial, max_iter=40, intercept_scaling=3, fit_intercept=True, dual=False, C=5 \n",
      "[CV]  verbose=3, multi_class=multinomial, max_iter=40, intercept_scaling=3, fit_intercept=True, dual=False, C=5, total=   0.1s\n",
      "[CV] verbose=3, multi_class=multinomial, max_iter=40, intercept_scaling=3, fit_intercept=True, dual=False, C=5 \n"
     ]
    },
    {
     "name": "stderr",
     "output_type": "stream",
     "text": [
      "[Parallel(n_jobs=1)]: Done   1 out of   1 | elapsed:    0.0s remaining:    0.0s\n",
      "[Parallel(n_jobs=1)]: Done   1 out of   1 | elapsed:    0.0s finished\n",
      "[Parallel(n_jobs=1)]: Using backend SequentialBackend with 1 concurrent workers.\n",
      "[Parallel(n_jobs=1)]: Done   1 out of   1 | elapsed:    0.0s remaining:    0.0s\n",
      "[Parallel(n_jobs=1)]: Done   1 out of   1 | elapsed:    0.0s finished\n",
      "[Parallel(n_jobs=1)]: Using backend SequentialBackend with 1 concurrent workers.\n"
     ]
    },
    {
     "name": "stdout",
     "output_type": "stream",
     "text": [
      "[CV]  verbose=3, multi_class=multinomial, max_iter=40, intercept_scaling=3, fit_intercept=True, dual=False, C=5, total=   0.1s\n",
      "[CV] verbose=3, multi_class=multinomial, max_iter=40, intercept_scaling=3, fit_intercept=True, dual=False, C=5 \n",
      "[CV]  verbose=3, multi_class=multinomial, max_iter=40, intercept_scaling=3, fit_intercept=True, dual=False, C=5, total=   0.1s\n",
      "[CV] verbose=3, multi_class=multinomial, max_iter=40, intercept_scaling=3, fit_intercept=True, dual=False, C=5 \n"
     ]
    },
    {
     "name": "stderr",
     "output_type": "stream",
     "text": [
      "[Parallel(n_jobs=1)]: Done   1 out of   1 | elapsed:    0.0s remaining:    0.0s\n",
      "[Parallel(n_jobs=1)]: Done   1 out of   1 | elapsed:    0.0s finished\n",
      "[Parallel(n_jobs=1)]: Using backend SequentialBackend with 1 concurrent workers.\n",
      "[Parallel(n_jobs=1)]: Done   1 out of   1 | elapsed:    0.0s remaining:    0.0s\n",
      "[Parallel(n_jobs=1)]: Done   1 out of   1 | elapsed:    0.0s finished\n"
     ]
    },
    {
     "name": "stdout",
     "output_type": "stream",
     "text": [
      "[CV]  verbose=3, multi_class=multinomial, max_iter=40, intercept_scaling=3, fit_intercept=True, dual=False, C=5, total=   0.1s\n",
      "[CV] verbose=3, multi_class=multinomial, max_iter=40, intercept_scaling=3, fit_intercept=True, dual=False, C=5 \n",
      "[CV]  verbose=3, multi_class=multinomial, max_iter=40, intercept_scaling=3, fit_intercept=True, dual=False, C=5, total=   0.2s\n",
      "[CV] verbose=0, multi_class=auto, max_iter=70, intercept_scaling=2, fit_intercept=False, dual=True, C=2 \n",
      "[CV]  verbose=0, multi_class=auto, max_iter=70, intercept_scaling=2, fit_intercept=False, dual=True, C=2, total=   0.0s\n",
      "[CV] verbose=0, multi_class=auto, max_iter=70, intercept_scaling=2, fit_intercept=False, dual=True, C=2 \n",
      "[CV]  verbose=0, multi_class=auto, max_iter=70, intercept_scaling=2, fit_intercept=False, dual=True, C=2, total=   0.0s\n",
      "[CV] verbose=0, multi_class=auto, max_iter=70, intercept_scaling=2, fit_intercept=False, dual=True, C=2 \n",
      "[CV]  verbose=0, multi_class=auto, max_iter=70, intercept_scaling=2, fit_intercept=False, dual=True, C=2, total=   0.0s\n",
      "[CV] verbose=0, multi_class=auto, max_iter=70, intercept_scaling=2, fit_intercept=False, dual=True, C=2 \n",
      "[CV]  verbose=0, multi_class=auto, max_iter=70, intercept_scaling=2, fit_intercept=False, dual=True, C=2, total=   0.0s\n",
      "[CV] verbose=0, multi_class=auto, max_iter=70, intercept_scaling=2, fit_intercept=False, dual=True, C=2 \n",
      "[CV]  verbose=0, multi_class=auto, max_iter=70, intercept_scaling=2, fit_intercept=False, dual=True, C=2, total=   0.0s\n",
      "[CV] verbose=0, multi_class=ovr, max_iter=50, intercept_scaling=5, fit_intercept=True, dual=True, C=2 \n",
      "[CV]  verbose=0, multi_class=ovr, max_iter=50, intercept_scaling=5, fit_intercept=True, dual=True, C=2, total=   0.0s\n",
      "[CV] verbose=0, multi_class=ovr, max_iter=50, intercept_scaling=5, fit_intercept=True, dual=True, C=2 \n",
      "[CV]  verbose=0, multi_class=ovr, max_iter=50, intercept_scaling=5, fit_intercept=True, dual=True, C=2, total=   0.0s\n",
      "[CV] verbose=0, multi_class=ovr, max_iter=50, intercept_scaling=5, fit_intercept=True, dual=True, C=2 \n",
      "[CV]  verbose=0, multi_class=ovr, max_iter=50, intercept_scaling=5, fit_intercept=True, dual=True, C=2, total=   0.0s\n",
      "[CV] verbose=0, multi_class=ovr, max_iter=50, intercept_scaling=5, fit_intercept=True, dual=True, C=2 \n",
      "[CV]  verbose=0, multi_class=ovr, max_iter=50, intercept_scaling=5, fit_intercept=True, dual=True, C=2, total=   0.0s\n",
      "[CV] verbose=0, multi_class=ovr, max_iter=50, intercept_scaling=5, fit_intercept=True, dual=True, C=2 \n",
      "[CV]  verbose=0, multi_class=ovr, max_iter=50, intercept_scaling=5, fit_intercept=True, dual=True, C=2, total=   0.0s\n",
      "[CV] verbose=2, multi_class=auto, max_iter=60, intercept_scaling=7, fit_intercept=True, dual=False, C=5 \n",
      "[CV]  verbose=2, multi_class=auto, max_iter=60, intercept_scaling=7, fit_intercept=True, dual=False, C=5, total=   0.1s\n",
      "[CV] verbose=2, multi_class=auto, max_iter=60, intercept_scaling=7, fit_intercept=True, dual=False, C=5 \n"
     ]
    },
    {
     "name": "stderr",
     "output_type": "stream",
     "text": [
      "[Parallel(n_jobs=1)]: Using backend SequentialBackend with 1 concurrent workers.\n",
      "[Parallel(n_jobs=1)]: Done   1 out of   1 | elapsed:    0.0s remaining:    0.0s\n",
      "[Parallel(n_jobs=1)]: Done   1 out of   1 | elapsed:    0.0s finished\n",
      "[Parallel(n_jobs=1)]: Using backend SequentialBackend with 1 concurrent workers.\n",
      "[Parallel(n_jobs=1)]: Done   1 out of   1 | elapsed:    0.0s remaining:    0.0s\n",
      "[Parallel(n_jobs=1)]: Done   1 out of   1 | elapsed:    0.0s finished\n",
      "[Parallel(n_jobs=1)]: Using backend SequentialBackend with 1 concurrent workers.\n",
      "[Parallel(n_jobs=1)]: Done   1 out of   1 | elapsed:    0.0s remaining:    0.0s\n",
      "[Parallel(n_jobs=1)]: Done   1 out of   1 | elapsed:    0.0s finished\n",
      "[Parallel(n_jobs=1)]: Using backend SequentialBackend with 1 concurrent workers.\n",
      "[Parallel(n_jobs=1)]: Done   1 out of   1 | elapsed:    0.0s remaining:    0.0s\n",
      "[Parallel(n_jobs=1)]: Done   1 out of   1 | elapsed:    0.0s finished\n",
      "[Parallel(n_jobs=1)]: Using backend SequentialBackend with 1 concurrent workers.\n"
     ]
    },
    {
     "name": "stdout",
     "output_type": "stream",
     "text": [
      "[CV]  verbose=2, multi_class=auto, max_iter=60, intercept_scaling=7, fit_intercept=True, dual=False, C=5, total=   0.1s\n",
      "[CV] verbose=2, multi_class=auto, max_iter=60, intercept_scaling=7, fit_intercept=True, dual=False, C=5 \n",
      "[CV]  verbose=2, multi_class=auto, max_iter=60, intercept_scaling=7, fit_intercept=True, dual=False, C=5, total=   0.1s\n",
      "[CV] verbose=2, multi_class=auto, max_iter=60, intercept_scaling=7, fit_intercept=True, dual=False, C=5 \n",
      "[CV]  verbose=2, multi_class=auto, max_iter=60, intercept_scaling=7, fit_intercept=True, dual=False, C=5, total=   0.1s\n",
      "[CV] verbose=2, multi_class=auto, max_iter=60, intercept_scaling=7, fit_intercept=True, dual=False, C=5 \n"
     ]
    },
    {
     "name": "stderr",
     "output_type": "stream",
     "text": [
      "[Parallel(n_jobs=1)]: Done   1 out of   1 | elapsed:    0.0s remaining:    0.0s\n",
      "[Parallel(n_jobs=1)]: Done   1 out of   1 | elapsed:    0.0s finished\n",
      "[Parallel(n_jobs=1)]: Using backend SequentialBackend with 1 concurrent workers.\n",
      "[Parallel(n_jobs=1)]: Done   1 out of   1 | elapsed:    0.0s finished\n",
      "[Parallel(n_jobs=1)]: Using backend SequentialBackend with 1 concurrent workers.\n",
      "[Parallel(n_jobs=1)]: Done   1 out of   1 | elapsed:    0.0s finished\n",
      "[Parallel(n_jobs=1)]: Using backend SequentialBackend with 1 concurrent workers.\n",
      "[Parallel(n_jobs=1)]: Done   1 out of   1 | elapsed:    0.0s finished\n"
     ]
    },
    {
     "name": "stdout",
     "output_type": "stream",
     "text": [
      "[CV]  verbose=2, multi_class=auto, max_iter=60, intercept_scaling=7, fit_intercept=True, dual=False, C=5, total=   0.1s\n",
      "[CV] verbose=1, multi_class=auto, max_iter=50, intercept_scaling=7, fit_intercept=False, dual=False, C=1 \n",
      "[CV]  verbose=1, multi_class=auto, max_iter=50, intercept_scaling=7, fit_intercept=False, dual=False, C=1, total=   0.1s\n",
      "[CV] verbose=1, multi_class=auto, max_iter=50, intercept_scaling=7, fit_intercept=False, dual=False, C=1 \n",
      "[CV]  verbose=1, multi_class=auto, max_iter=50, intercept_scaling=7, fit_intercept=False, dual=False, C=1, total=   0.1s\n",
      "[CV] verbose=1, multi_class=auto, max_iter=50, intercept_scaling=7, fit_intercept=False, dual=False, C=1 \n"
     ]
    },
    {
     "name": "stderr",
     "output_type": "stream",
     "text": [
      "[Parallel(n_jobs=1)]: Using backend SequentialBackend with 1 concurrent workers.\n",
      "[Parallel(n_jobs=1)]: Done   1 out of   1 | elapsed:    0.0s finished\n",
      "[Parallel(n_jobs=1)]: Using backend SequentialBackend with 1 concurrent workers.\n",
      "[Parallel(n_jobs=1)]: Done   1 out of   1 | elapsed:    0.0s finished\n",
      "[Parallel(n_jobs=1)]: Using backend SequentialBackend with 1 concurrent workers.\n",
      "[Parallel(n_jobs=1)]: Done   1 out of   1 | elapsed:    0.0s remaining:    0.0s\n",
      "[Parallel(n_jobs=1)]: Done   1 out of   1 | elapsed:    0.0s finished\n",
      "[Parallel(n_jobs=1)]: Using backend SequentialBackend with 1 concurrent workers.\n"
     ]
    },
    {
     "name": "stdout",
     "output_type": "stream",
     "text": [
      "[CV]  verbose=1, multi_class=auto, max_iter=50, intercept_scaling=7, fit_intercept=False, dual=False, C=1, total=   0.0s\n",
      "[CV] verbose=1, multi_class=auto, max_iter=50, intercept_scaling=7, fit_intercept=False, dual=False, C=1 \n",
      "[CV]  verbose=1, multi_class=auto, max_iter=50, intercept_scaling=7, fit_intercept=False, dual=False, C=1, total=   0.0s\n",
      "[CV] verbose=1, multi_class=auto, max_iter=50, intercept_scaling=7, fit_intercept=False, dual=False, C=1 \n",
      "[CV]  verbose=1, multi_class=auto, max_iter=50, intercept_scaling=7, fit_intercept=False, dual=False, C=1, total=   0.1s\n",
      "[CV] verbose=2, multi_class=auto, max_iter=70, intercept_scaling=7, fit_intercept=False, dual=True, C=3 \n",
      "[CV]  verbose=2, multi_class=auto, max_iter=70, intercept_scaling=7, fit_intercept=False, dual=True, C=3, total=   0.0s\n",
      "[CV] verbose=2, multi_class=auto, max_iter=70, intercept_scaling=7, fit_intercept=False, dual=True, C=3 \n",
      "[CV]  verbose=2, multi_class=auto, max_iter=70, intercept_scaling=7, fit_intercept=False, dual=True, C=3, total=   0.0s\n",
      "[CV] verbose=2, multi_class=auto, max_iter=70, intercept_scaling=7, fit_intercept=False, dual=True, C=3 \n",
      "[CV]  verbose=2, multi_class=auto, max_iter=70, intercept_scaling=7, fit_intercept=False, dual=True, C=3, total=   0.0s\n",
      "[CV] verbose=2, multi_class=auto, max_iter=70, intercept_scaling=7, fit_intercept=False, dual=True, C=3 \n",
      "[CV]  verbose=2, multi_class=auto, max_iter=70, intercept_scaling=7, fit_intercept=False, dual=True, C=3, total=   0.0s\n",
      "[CV] verbose=2, multi_class=auto, max_iter=70, intercept_scaling=7, fit_intercept=False, dual=True, C=3 \n",
      "[CV]  verbose=2, multi_class=auto, max_iter=70, intercept_scaling=7, fit_intercept=False, dual=True, C=3, total=   0.0s\n",
      "[CV] verbose=2, multi_class=multinomial, max_iter=50, intercept_scaling=1, fit_intercept=True, dual=False, C=1 \n",
      "[CV]  verbose=2, multi_class=multinomial, max_iter=50, intercept_scaling=1, fit_intercept=True, dual=False, C=1, total=   0.1s\n",
      "[CV] verbose=2, multi_class=multinomial, max_iter=50, intercept_scaling=1, fit_intercept=True, dual=False, C=1 \n"
     ]
    },
    {
     "name": "stderr",
     "output_type": "stream",
     "text": [
      "[Parallel(n_jobs=1)]: Done   1 out of   1 | elapsed:    0.0s remaining:    0.0s\n",
      "[Parallel(n_jobs=1)]: Done   1 out of   1 | elapsed:    0.0s finished\n",
      "[Parallel(n_jobs=1)]: Using backend SequentialBackend with 1 concurrent workers.\n",
      "[Parallel(n_jobs=1)]: Done   1 out of   1 | elapsed:    0.0s remaining:    0.0s\n",
      "[Parallel(n_jobs=1)]: Done   1 out of   1 | elapsed:    0.0s finished\n",
      "[Parallel(n_jobs=1)]: Using backend SequentialBackend with 1 concurrent workers.\n",
      "[Parallel(n_jobs=1)]: Done   1 out of   1 | elapsed:    0.0s remaining:    0.0s\n",
      "[Parallel(n_jobs=1)]: Done   1 out of   1 | elapsed:    0.0s finished\n",
      "[Parallel(n_jobs=1)]: Using backend SequentialBackend with 1 concurrent workers.\n"
     ]
    },
    {
     "name": "stdout",
     "output_type": "stream",
     "text": [
      "[CV]  verbose=2, multi_class=multinomial, max_iter=50, intercept_scaling=1, fit_intercept=True, dual=False, C=1, total=   0.1s\n",
      "[CV] verbose=2, multi_class=multinomial, max_iter=50, intercept_scaling=1, fit_intercept=True, dual=False, C=1 \n",
      "[CV]  verbose=2, multi_class=multinomial, max_iter=50, intercept_scaling=1, fit_intercept=True, dual=False, C=1, total=   0.1s\n",
      "[CV] verbose=2, multi_class=multinomial, max_iter=50, intercept_scaling=1, fit_intercept=True, dual=False, C=1 \n",
      "[CV]  verbose=2, multi_class=multinomial, max_iter=50, intercept_scaling=1, fit_intercept=True, dual=False, C=1, total=   0.1s\n",
      "[CV] verbose=2, multi_class=multinomial, max_iter=50, intercept_scaling=1, fit_intercept=True, dual=False, C=1 \n"
     ]
    },
    {
     "name": "stderr",
     "output_type": "stream",
     "text": [
      "[Parallel(n_jobs=1)]: Done   1 out of   1 | elapsed:    0.0s remaining:    0.0s\n",
      "[Parallel(n_jobs=1)]: Done   1 out of   1 | elapsed:    0.0s finished\n",
      "[Parallel(n_jobs=1)]: Using backend SequentialBackend with 1 concurrent workers.\n",
      "[Parallel(n_jobs=1)]: Done   1 out of   1 | elapsed:    0.0s remaining:    0.0s\n",
      "[Parallel(n_jobs=1)]: Done   1 out of   1 | elapsed:    0.0s finished\n",
      "[Parallel(n_jobs=1)]: Using backend SequentialBackend with 1 concurrent workers.\n",
      "[Parallel(n_jobs=1)]: Done   1 out of   1 | elapsed:    0.0s remaining:    0.0s\n",
      "[Parallel(n_jobs=1)]: Done   1 out of   1 | elapsed:    0.0s finished\n",
      "[Parallel(n_jobs=1)]: Using backend SequentialBackend with 1 concurrent workers.\n",
      "[Parallel(n_jobs=1)]: Done   1 out of   1 | elapsed:    0.0s remaining:    0.0s\n",
      "[Parallel(n_jobs=1)]: Done   1 out of   1 | elapsed:    0.0s finished\n",
      "[Parallel(n_jobs=1)]: Using backend SequentialBackend with 1 concurrent workers.\n",
      "[Parallel(n_jobs=1)]: Done   1 out of   1 | elapsed:    0.0s remaining:    0.0s\n",
      "[Parallel(n_jobs=1)]: Done   1 out of   1 | elapsed:    0.0s finished\n",
      "[Parallel(n_jobs=1)]: Using backend SequentialBackend with 1 concurrent workers.\n",
      "[Parallel(n_jobs=1)]: Done   1 out of   1 | elapsed:    0.0s remaining:    0.0s\n"
     ]
    },
    {
     "name": "stdout",
     "output_type": "stream",
     "text": [
      "[CV]  verbose=2, multi_class=multinomial, max_iter=50, intercept_scaling=1, fit_intercept=True, dual=False, C=1, total=   0.1s\n",
      "[CV] verbose=2, multi_class=auto, max_iter=40, intercept_scaling=6, fit_intercept=True, dual=False, C=5 \n",
      "[CV]  verbose=2, multi_class=auto, max_iter=40, intercept_scaling=6, fit_intercept=True, dual=False, C=5, total=   0.0s\n",
      "[CV] verbose=2, multi_class=auto, max_iter=40, intercept_scaling=6, fit_intercept=True, dual=False, C=5 \n",
      "[CV]  verbose=2, multi_class=auto, max_iter=40, intercept_scaling=6, fit_intercept=True, dual=False, C=5, total=   0.1s\n",
      "[CV] verbose=2, multi_class=auto, max_iter=40, intercept_scaling=6, fit_intercept=True, dual=False, C=5 \n",
      "[CV]  verbose=2, multi_class=auto, max_iter=40, intercept_scaling=6, fit_intercept=True, dual=False, C=5, total=   0.1s\n",
      "[CV] verbose=2, multi_class=auto, max_iter=40, intercept_scaling=6, fit_intercept=True, dual=False, C=5 \n",
      "[CV]  verbose=2, multi_class=auto, max_iter=40, intercept_scaling=6, fit_intercept=True, dual=False, C=5, total=   0.0s\n",
      "[CV] verbose=2, multi_class=auto, max_iter=40, intercept_scaling=6, fit_intercept=True, dual=False, C=5 \n"
     ]
    },
    {
     "name": "stderr",
     "output_type": "stream",
     "text": [
      "[Parallel(n_jobs=1)]: Done   1 out of   1 | elapsed:    0.0s finished\n",
      "[Parallel(n_jobs=1)]: Using backend SequentialBackend with 1 concurrent workers.\n",
      "[Parallel(n_jobs=1)]: Done   1 out of   1 | elapsed:    0.0s remaining:    0.0s\n",
      "[Parallel(n_jobs=1)]: Done   1 out of   1 | elapsed:    0.0s finished\n",
      "[Parallel(n_jobs=1)]: Using backend SequentialBackend with 1 concurrent workers.\n",
      "[Parallel(n_jobs=1)]: Done   1 out of   1 | elapsed:    0.0s remaining:    0.0s\n",
      "[Parallel(n_jobs=1)]: Done   1 out of   1 | elapsed:    0.0s finished\n",
      "[Parallel(n_jobs=1)]: Using backend SequentialBackend with 1 concurrent workers.\n",
      "[Parallel(n_jobs=1)]: Done   1 out of   1 | elapsed:    0.0s remaining:    0.0s\n"
     ]
    },
    {
     "name": "stdout",
     "output_type": "stream",
     "text": [
      "[CV]  verbose=2, multi_class=auto, max_iter=40, intercept_scaling=6, fit_intercept=True, dual=False, C=5, total=   0.0s\n",
      "[CV] verbose=3, multi_class=multinomial, max_iter=20, intercept_scaling=5, fit_intercept=False, dual=False, C=3 \n",
      "[CV]  verbose=3, multi_class=multinomial, max_iter=20, intercept_scaling=5, fit_intercept=False, dual=False, C=3, total=   0.1s\n",
      "[CV] verbose=3, multi_class=multinomial, max_iter=20, intercept_scaling=5, fit_intercept=False, dual=False, C=3 \n",
      "[CV]  verbose=3, multi_class=multinomial, max_iter=20, intercept_scaling=5, fit_intercept=False, dual=False, C=3, total=   0.1s\n",
      "[CV] verbose=3, multi_class=multinomial, max_iter=20, intercept_scaling=5, fit_intercept=False, dual=False, C=3 \n",
      "[CV]  verbose=3, multi_class=multinomial, max_iter=20, intercept_scaling=5, fit_intercept=False, dual=False, C=3, total=   0.1s\n",
      "[CV] verbose=3, multi_class=multinomial, max_iter=20, intercept_scaling=5, fit_intercept=False, dual=False, C=3 \n"
     ]
    },
    {
     "name": "stderr",
     "output_type": "stream",
     "text": [
      "[Parallel(n_jobs=1)]: Done   1 out of   1 | elapsed:    0.0s finished\n",
      "[Parallel(n_jobs=1)]: Using backend SequentialBackend with 1 concurrent workers.\n",
      "[Parallel(n_jobs=1)]: Done   1 out of   1 | elapsed:    0.0s remaining:    0.0s\n",
      "[Parallel(n_jobs=1)]: Done   1 out of   1 | elapsed:    0.0s finished\n",
      "[Parallel(n_jobs=1)]: Using backend SequentialBackend with 1 concurrent workers.\n",
      "[Parallel(n_jobs=1)]: Done   1 out of   1 | elapsed:    0.0s remaining:    0.0s\n",
      "[Parallel(n_jobs=1)]: Done   1 out of   1 | elapsed:    0.0s finished\n",
      "[Parallel(n_jobs=1)]: Using backend SequentialBackend with 1 concurrent workers.\n"
     ]
    },
    {
     "name": "stdout",
     "output_type": "stream",
     "text": [
      "[CV]  verbose=3, multi_class=multinomial, max_iter=20, intercept_scaling=5, fit_intercept=False, dual=False, C=3, total=   0.1s\n",
      "[CV] verbose=3, multi_class=multinomial, max_iter=20, intercept_scaling=5, fit_intercept=False, dual=False, C=3 \n",
      "[CV]  verbose=3, multi_class=multinomial, max_iter=20, intercept_scaling=5, fit_intercept=False, dual=False, C=3, total=   0.1s\n",
      "[CV] verbose=3, multi_class=multinomial, max_iter=0, intercept_scaling=6, fit_intercept=True, dual=True, C=2 \n",
      "[CV]  verbose=3, multi_class=multinomial, max_iter=0, intercept_scaling=6, fit_intercept=True, dual=True, C=2, total=   0.0s\n",
      "[CV] verbose=3, multi_class=multinomial, max_iter=0, intercept_scaling=6, fit_intercept=True, dual=True, C=2 \n",
      "[CV]  verbose=3, multi_class=multinomial, max_iter=0, intercept_scaling=6, fit_intercept=True, dual=True, C=2, total=   0.0s\n",
      "[CV] verbose=3, multi_class=multinomial, max_iter=0, intercept_scaling=6, fit_intercept=True, dual=True, C=2 \n",
      "[CV]  verbose=3, multi_class=multinomial, max_iter=0, intercept_scaling=6, fit_intercept=True, dual=True, C=2, total=   0.0s\n",
      "[CV] verbose=3, multi_class=multinomial, max_iter=0, intercept_scaling=6, fit_intercept=True, dual=True, C=2 \n",
      "[CV]  verbose=3, multi_class=multinomial, max_iter=0, intercept_scaling=6, fit_intercept=True, dual=True, C=2, total=   0.0s\n",
      "[CV] verbose=3, multi_class=multinomial, max_iter=0, intercept_scaling=6, fit_intercept=True, dual=True, C=2 \n",
      "[CV]  verbose=3, multi_class=multinomial, max_iter=0, intercept_scaling=6, fit_intercept=True, dual=True, C=2, total=   0.0s\n",
      "[CV] verbose=3, multi_class=auto, max_iter=40, intercept_scaling=1, fit_intercept=False, dual=True, C=3 \n",
      "[CV]  verbose=3, multi_class=auto, max_iter=40, intercept_scaling=1, fit_intercept=False, dual=True, C=3, total=   0.0s\n",
      "[CV] verbose=3, multi_class=auto, max_iter=40, intercept_scaling=1, fit_intercept=False, dual=True, C=3 \n",
      "[CV]  verbose=3, multi_class=auto, max_iter=40, intercept_scaling=1, fit_intercept=False, dual=True, C=3, total=   0.0s\n",
      "[CV] verbose=3, multi_class=auto, max_iter=40, intercept_scaling=1, fit_intercept=False, dual=True, C=3 \n",
      "[CV]  verbose=3, multi_class=auto, max_iter=40, intercept_scaling=1, fit_intercept=False, dual=True, C=3, total=   0.0s\n",
      "[CV] verbose=3, multi_class=auto, max_iter=40, intercept_scaling=1, fit_intercept=False, dual=True, C=3 \n",
      "[CV]  verbose=3, multi_class=auto, max_iter=40, intercept_scaling=1, fit_intercept=False, dual=True, C=3, total=   0.0s\n",
      "[CV] verbose=3, multi_class=auto, max_iter=40, intercept_scaling=1, fit_intercept=False, dual=True, C=3 \n",
      "[CV]  verbose=3, multi_class=auto, max_iter=40, intercept_scaling=1, fit_intercept=False, dual=True, C=3, total=   0.0s\n",
      "[CV] verbose=2, multi_class=ovr, max_iter=0, intercept_scaling=7, fit_intercept=False, dual=True, C=1 \n",
      "[CV]  verbose=2, multi_class=ovr, max_iter=0, intercept_scaling=7, fit_intercept=False, dual=True, C=1, total=   0.0s\n",
      "[CV] verbose=2, multi_class=ovr, max_iter=0, intercept_scaling=7, fit_intercept=False, dual=True, C=1 \n",
      "[CV]  verbose=2, multi_class=ovr, max_iter=0, intercept_scaling=7, fit_intercept=False, dual=True, C=1, total=   0.0s\n",
      "[CV] verbose=2, multi_class=ovr, max_iter=0, intercept_scaling=7, fit_intercept=False, dual=True, C=1 \n",
      "[CV]  verbose=2, multi_class=ovr, max_iter=0, intercept_scaling=7, fit_intercept=False, dual=True, C=1, total=   0.0s\n",
      "[CV] verbose=2, multi_class=ovr, max_iter=0, intercept_scaling=7, fit_intercept=False, dual=True, C=1 \n",
      "[CV]  verbose=2, multi_class=ovr, max_iter=0, intercept_scaling=7, fit_intercept=False, dual=True, C=1, total=   0.0s\n",
      "[CV] verbose=2, multi_class=ovr, max_iter=0, intercept_scaling=7, fit_intercept=False, dual=True, C=1 \n",
      "[CV]  verbose=2, multi_class=ovr, max_iter=0, intercept_scaling=7, fit_intercept=False, dual=True, C=1, total=   0.0s\n",
      "[CV] verbose=1, multi_class=ovr, max_iter=80, intercept_scaling=4, fit_intercept=False, dual=False, C=0 \n",
      "[CV]  verbose=1, multi_class=ovr, max_iter=80, intercept_scaling=4, fit_intercept=False, dual=False, C=0, total=   0.0s\n",
      "[CV] verbose=1, multi_class=ovr, max_iter=80, intercept_scaling=4, fit_intercept=False, dual=False, C=0 \n",
      "[CV]  verbose=1, multi_class=ovr, max_iter=80, intercept_scaling=4, fit_intercept=False, dual=False, C=0, total=   0.0s\n",
      "[CV] verbose=1, multi_class=ovr, max_iter=80, intercept_scaling=4, fit_intercept=False, dual=False, C=0 \n",
      "[CV]  verbose=1, multi_class=ovr, max_iter=80, intercept_scaling=4, fit_intercept=False, dual=False, C=0, total=   0.0s\n",
      "[CV] verbose=1, multi_class=ovr, max_iter=80, intercept_scaling=4, fit_intercept=False, dual=False, C=0 \n",
      "[CV]  verbose=1, multi_class=ovr, max_iter=80, intercept_scaling=4, fit_intercept=False, dual=False, C=0, total=   0.0s\n",
      "[CV] verbose=1, multi_class=ovr, max_iter=80, intercept_scaling=4, fit_intercept=False, dual=False, C=0 \n",
      "[CV]  verbose=1, multi_class=ovr, max_iter=80, intercept_scaling=4, fit_intercept=False, dual=False, C=0, total=   0.0s\n",
      "[CV] verbose=1, multi_class=auto, max_iter=90, intercept_scaling=5, fit_intercept=True, dual=False, C=0 \n",
      "[CV]  verbose=1, multi_class=auto, max_iter=90, intercept_scaling=5, fit_intercept=True, dual=False, C=0, total=   0.0s\n",
      "[CV] verbose=1, multi_class=auto, max_iter=90, intercept_scaling=5, fit_intercept=True, dual=False, C=0 \n",
      "[CV]  verbose=1, multi_class=auto, max_iter=90, intercept_scaling=5, fit_intercept=True, dual=False, C=0, total=   0.0s\n",
      "[CV] verbose=1, multi_class=auto, max_iter=90, intercept_scaling=5, fit_intercept=True, dual=False, C=0 \n",
      "[CV]  verbose=1, multi_class=auto, max_iter=90, intercept_scaling=5, fit_intercept=True, dual=False, C=0, total=   0.0s\n",
      "[CV] verbose=1, multi_class=auto, max_iter=90, intercept_scaling=5, fit_intercept=True, dual=False, C=0 \n",
      "[CV]  verbose=1, multi_class=auto, max_iter=90, intercept_scaling=5, fit_intercept=True, dual=False, C=0, total=   0.0s\n",
      "[CV] verbose=1, multi_class=auto, max_iter=90, intercept_scaling=5, fit_intercept=True, dual=False, C=0 \n",
      "[CV]  verbose=1, multi_class=auto, max_iter=90, intercept_scaling=5, fit_intercept=True, dual=False, C=0, total=   0.0s\n",
      "[CV] verbose=1, multi_class=ovr, max_iter=80, intercept_scaling=0, fit_intercept=True, dual=True, C=5 \n",
      "[CV]  verbose=1, multi_class=ovr, max_iter=80, intercept_scaling=0, fit_intercept=True, dual=True, C=5, total=   0.0s\n",
      "[CV] verbose=1, multi_class=ovr, max_iter=80, intercept_scaling=0, fit_intercept=True, dual=True, C=5 \n",
      "[CV]  verbose=1, multi_class=ovr, max_iter=80, intercept_scaling=0, fit_intercept=True, dual=True, C=5, total=   0.0s\n",
      "[CV] verbose=1, multi_class=ovr, max_iter=80, intercept_scaling=0, fit_intercept=True, dual=True, C=5 \n",
      "[CV]  verbose=1, multi_class=ovr, max_iter=80, intercept_scaling=0, fit_intercept=True, dual=True, C=5, total=   0.0s\n",
      "[CV] verbose=1, multi_class=ovr, max_iter=80, intercept_scaling=0, fit_intercept=True, dual=True, C=5 \n",
      "[CV]  verbose=1, multi_class=ovr, max_iter=80, intercept_scaling=0, fit_intercept=True, dual=True, C=5, total=   0.0s\n",
      "[CV] verbose=1, multi_class=ovr, max_iter=80, intercept_scaling=0, fit_intercept=True, dual=True, C=5 \n",
      "[CV]  verbose=1, multi_class=ovr, max_iter=80, intercept_scaling=0, fit_intercept=True, dual=True, C=5, total=   0.0s"
     ]
    },
    {
     "name": "stderr",
     "output_type": "stream",
     "text": [
      "[Parallel(n_jobs=1)]: Using backend SequentialBackend with 1 concurrent workers.\n",
      "[Parallel(n_jobs=1)]: Using backend SequentialBackend with 1 concurrent workers.\n",
      "[Parallel(n_jobs=1)]: Using backend SequentialBackend with 1 concurrent workers.\n",
      "[Parallel(n_jobs=1)]: Using backend SequentialBackend with 1 concurrent workers.\n",
      "[Parallel(n_jobs=1)]: Using backend SequentialBackend with 1 concurrent workers.\n",
      "[Parallel(n_jobs=1)]: Using backend SequentialBackend with 1 concurrent workers.\n",
      "[Parallel(n_jobs=1)]: Using backend SequentialBackend with 1 concurrent workers.\n",
      "[Parallel(n_jobs=1)]: Using backend SequentialBackend with 1 concurrent workers.\n",
      "[Parallel(n_jobs=1)]: Using backend SequentialBackend with 1 concurrent workers.\n",
      "[Parallel(n_jobs=1)]: Done 100 out of 100 | elapsed:    2.9s finished\n",
      "[Parallel(n_jobs=1)]: Using backend SequentialBackend with 1 concurrent workers.\n",
      "[Parallel(n_jobs=1)]: Done   1 out of   1 | elapsed:    0.0s remaining:    0.0s\n"
     ]
    },
    {
     "name": "stdout",
     "output_type": "stream",
     "text": [
      "\n",
      "[CV] verbose=1, multi_class=multinomial, max_iter=40, intercept_scaling=2, fit_intercept=True, dual=True, C=0 \n",
      "[CV]  verbose=1, multi_class=multinomial, max_iter=40, intercept_scaling=2, fit_intercept=True, dual=True, C=0, total=   0.0s\n",
      "[CV] verbose=1, multi_class=multinomial, max_iter=40, intercept_scaling=2, fit_intercept=True, dual=True, C=0 \n",
      "[CV]  verbose=1, multi_class=multinomial, max_iter=40, intercept_scaling=2, fit_intercept=True, dual=True, C=0, total=   0.0s\n",
      "[CV] verbose=1, multi_class=multinomial, max_iter=40, intercept_scaling=2, fit_intercept=True, dual=True, C=0 \n",
      "[CV]  verbose=1, multi_class=multinomial, max_iter=40, intercept_scaling=2, fit_intercept=True, dual=True, C=0, total=   0.0s\n",
      "[CV] verbose=1, multi_class=multinomial, max_iter=40, intercept_scaling=2, fit_intercept=True, dual=True, C=0 \n",
      "[CV]  verbose=1, multi_class=multinomial, max_iter=40, intercept_scaling=2, fit_intercept=True, dual=True, C=0, total=   0.0s\n",
      "[CV] verbose=1, multi_class=multinomial, max_iter=40, intercept_scaling=2, fit_intercept=True, dual=True, C=0 \n",
      "[CV]  verbose=1, multi_class=multinomial, max_iter=40, intercept_scaling=2, fit_intercept=True, dual=True, C=0, total=   0.0s\n"
     ]
    },
    {
     "name": "stderr",
     "output_type": "stream",
     "text": [
      "[Parallel(n_jobs=1)]: Done   1 out of   1 | elapsed:    0.0s finished\n"
     ]
    },
    {
     "data": {
      "text/plain": [
       "RandomizedSearchCV(cv=5, error_score=nan,\n",
       "                   estimator=LogisticRegression(C=1.0, class_weight=None,\n",
       "                                                dual=False, fit_intercept=True,\n",
       "                                                intercept_scaling=1,\n",
       "                                                l1_ratio=None, max_iter=100,\n",
       "                                                multi_class='auto', n_jobs=None,\n",
       "                                                penalty='l2', random_state=None,\n",
       "                                                solver='lbfgs', tol=0.0001,\n",
       "                                                verbose=0, warm_start=False),\n",
       "                   iid='deprecated', n_iter=20, n_jobs=None,\n",
       "                   param_distributions={'C': [0, 1, 2, 3, 4, 5],\n",
       "                                        'dual': [False, True],\n",
       "                                        'fit_intercept': [True, False],\n",
       "                                        'intercept_scaling': [0, 1, 2, 3, 4, 5,\n",
       "                                                              6, 7],\n",
       "                                        'max_iter': [0, 10, 20, 30, 40, 50, 60,\n",
       "                                                     70, 80, 90, 100],\n",
       "                                        'multi_class': ['auto', 'ovr',\n",
       "                                                        'multinomial'],\n",
       "                                        'verbose': [0, 1, 2, 3]},\n",
       "                   pre_dispatch='2*n_jobs', random_state=None, refit=True,\n",
       "                   return_train_score=False, scoring=None, verbose=2)"
      ]
     },
     "execution_count": 21,
     "metadata": {},
     "output_type": "execute_result"
    }
   ],
   "source": [
    "#Use RandomSearchCV for exploring the solution space of hyperparameters\n",
    "\n",
    "np.random.seed(42)\n",
    "random_search_logistic_regression = RandomizedSearchCV(estimator=logistic_regression,\n",
    "                                                       param_distributions=grid_randomize,\n",
    "                                                       n_iter=20,\n",
    "                                                       cv=5,\n",
    "                                                       verbose=2)\n",
    "\n",
    "random_search_logistic_regression.fit(x_train, y_train)"
   ]
  },
  {
   "cell_type": "code",
   "execution_count": 22,
   "metadata": {},
   "outputs": [
    {
     "data": {
      "text/plain": [
       "0.8852459016393442"
      ]
     },
     "execution_count": 22,
     "metadata": {},
     "output_type": "execute_result"
    }
   ],
   "source": [
    "#Show how well the model performes on the test set\n",
    "random_search_logistic_regression.score(x_test, y_test)"
   ]
  },
  {
   "cell_type": "code",
   "execution_count": 23,
   "metadata": {},
   "outputs": [
    {
     "data": {
      "text/plain": [
       "{'verbose': 2,\n",
       " 'multi_class': 'multinomial',\n",
       " 'max_iter': 50,\n",
       " 'intercept_scaling': 1,\n",
       " 'fit_intercept': True,\n",
       " 'dual': False,\n",
       " 'C': 1}"
      ]
     },
     "execution_count": 23,
     "metadata": {},
     "output_type": "execute_result"
    }
   ],
   "source": [
    "#Check out the best hyperparameter values\n",
    "random_search_logistic_regression.best_params_"
   ]
  },
  {
   "cell_type": "markdown",
   "metadata": {},
   "source": [
    "Out of the box the Logistic Regression model performs pretty well."
   ]
  },
  {
   "cell_type": "markdown",
   "metadata": {},
   "source": [
    "Now I will try to improve the score by using `GridSearchCV()`."
   ]
  },
  {
   "cell_type": "code",
   "execution_count": 70,
   "metadata": {},
   "outputs": [],
   "source": [
    "#Create grid for GridSearchCV\n",
    "grid_gridsearch = {\"C\": [1.1,1.2,1.3],\n",
    "        \"dual\": [False],\n",
    "        \"fit_intercept\": [True],\n",
    "        \"intercept_scaling\": [0.8,0.9],\n",
    "        \"max_iter\": [49,50],\n",
    "        \"multi_class\": [\"multinomial\"],\n",
    "        \"verbose\": [1.7,1.8]}"
   ]
  },
  {
   "cell_type": "code",
   "execution_count": 71,
   "metadata": {
    "scrolled": true
   },
   "outputs": [
    {
     "name": "stdout",
     "output_type": "stream",
     "text": [
      "Fitting 5 folds for each of 8 candidates, totalling 40 fits\n",
      "[CV] C=1.0, dual=False, fit_intercept=True, intercept_scaling=0.8, max_iter=100, multi_class=multinomial, verbose=1.6 \n",
      "[CV]  C=1.0, dual=False, fit_intercept=True, intercept_scaling=0.8, max_iter=100, multi_class=multinomial, verbose=1.6, total=   0.1s\n",
      "[CV] C=1.0, dual=False, fit_intercept=True, intercept_scaling=0.8, max_iter=100, multi_class=multinomial, verbose=1.6 \n"
     ]
    },
    {
     "name": "stderr",
     "output_type": "stream",
     "text": [
      "[Parallel(n_jobs=1)]: Using backend SequentialBackend with 1 concurrent workers.\n",
      "[Parallel(n_jobs=1)]: Using backend SequentialBackend with 1 concurrent workers.\n",
      "[Parallel(n_jobs=1)]: Done   1 out of   1 | elapsed:    0.0s remaining:    0.0s\n",
      "[Parallel(n_jobs=1)]: Done   1 out of   1 | elapsed:    0.0s finished\n",
      "[Parallel(n_jobs=1)]: Done   1 out of   1 | elapsed:    0.0s remaining:    0.0s\n",
      "[Parallel(n_jobs=1)]: Using backend SequentialBackend with 1 concurrent workers.\n",
      "[Parallel(n_jobs=1)]: Done   1 out of   1 | elapsed:    0.0s remaining:    0.0s\n",
      "[Parallel(n_jobs=1)]: Done   1 out of   1 | elapsed:    0.0s finished\n",
      "[Parallel(n_jobs=1)]: Using backend SequentialBackend with 1 concurrent workers.\n",
      "[Parallel(n_jobs=1)]: Done   1 out of   1 | elapsed:    0.0s remaining:    0.0s\n",
      "[Parallel(n_jobs=1)]: Done   1 out of   1 | elapsed:    0.0s finished\n",
      "[Parallel(n_jobs=1)]: Using backend SequentialBackend with 1 concurrent workers.\n"
     ]
    },
    {
     "name": "stdout",
     "output_type": "stream",
     "text": [
      "[CV]  C=1.0, dual=False, fit_intercept=True, intercept_scaling=0.8, max_iter=100, multi_class=multinomial, verbose=1.6, total=   0.1s\n",
      "[CV] C=1.0, dual=False, fit_intercept=True, intercept_scaling=0.8, max_iter=100, multi_class=multinomial, verbose=1.6 \n",
      "[CV]  C=1.0, dual=False, fit_intercept=True, intercept_scaling=0.8, max_iter=100, multi_class=multinomial, verbose=1.6, total=   0.1s\n",
      "[CV] C=1.0, dual=False, fit_intercept=True, intercept_scaling=0.8, max_iter=100, multi_class=multinomial, verbose=1.6 \n"
     ]
    },
    {
     "name": "stderr",
     "output_type": "stream",
     "text": [
      "[Parallel(n_jobs=1)]: Done   1 out of   1 | elapsed:    0.0s remaining:    0.0s\n",
      "[Parallel(n_jobs=1)]: Done   1 out of   1 | elapsed:    0.0s finished\n",
      "[Parallel(n_jobs=1)]: Using backend SequentialBackend with 1 concurrent workers.\n",
      "[Parallel(n_jobs=1)]: Done   1 out of   1 | elapsed:    0.0s remaining:    0.0s\n",
      "[Parallel(n_jobs=1)]: Done   1 out of   1 | elapsed:    0.0s finished\n",
      "[Parallel(n_jobs=1)]: Using backend SequentialBackend with 1 concurrent workers.\n"
     ]
    },
    {
     "name": "stdout",
     "output_type": "stream",
     "text": [
      "[CV]  C=1.0, dual=False, fit_intercept=True, intercept_scaling=0.8, max_iter=100, multi_class=multinomial, verbose=1.6, total=   0.1s\n",
      "[CV] C=1.0, dual=False, fit_intercept=True, intercept_scaling=0.8, max_iter=100, multi_class=multinomial, verbose=1.6 \n",
      "[CV]  C=1.0, dual=False, fit_intercept=True, intercept_scaling=0.8, max_iter=100, multi_class=multinomial, verbose=1.6, total=   0.1s\n",
      "[CV] C=1.0, dual=False, fit_intercept=True, intercept_scaling=0.8, max_iter=100, multi_class=multinomial, verbose=1.7 \n"
     ]
    },
    {
     "name": "stderr",
     "output_type": "stream",
     "text": [
      "[Parallel(n_jobs=1)]: Done   1 out of   1 | elapsed:    0.0s remaining:    0.0s\n",
      "[Parallel(n_jobs=1)]: Done   1 out of   1 | elapsed:    0.0s finished\n",
      "[Parallel(n_jobs=1)]: Using backend SequentialBackend with 1 concurrent workers.\n",
      "[Parallel(n_jobs=1)]: Done   1 out of   1 | elapsed:    0.0s remaining:    0.0s\n",
      "[Parallel(n_jobs=1)]: Done   1 out of   1 | elapsed:    0.0s finished\n",
      "[Parallel(n_jobs=1)]: Using backend SequentialBackend with 1 concurrent workers.\n"
     ]
    },
    {
     "name": "stdout",
     "output_type": "stream",
     "text": [
      "[CV]  C=1.0, dual=False, fit_intercept=True, intercept_scaling=0.8, max_iter=100, multi_class=multinomial, verbose=1.7, total=   0.1s\n",
      "[CV] C=1.0, dual=False, fit_intercept=True, intercept_scaling=0.8, max_iter=100, multi_class=multinomial, verbose=1.7 \n",
      "[CV]  C=1.0, dual=False, fit_intercept=True, intercept_scaling=0.8, max_iter=100, multi_class=multinomial, verbose=1.7, total=   0.1s\n",
      "[CV] C=1.0, dual=False, fit_intercept=True, intercept_scaling=0.8, max_iter=100, multi_class=multinomial, verbose=1.7 \n"
     ]
    },
    {
     "name": "stderr",
     "output_type": "stream",
     "text": [
      "[Parallel(n_jobs=1)]: Done   1 out of   1 | elapsed:    0.0s remaining:    0.0s\n",
      "[Parallel(n_jobs=1)]: Done   1 out of   1 | elapsed:    0.0s finished\n",
      "[Parallel(n_jobs=1)]: Using backend SequentialBackend with 1 concurrent workers.\n",
      "[Parallel(n_jobs=1)]: Done   1 out of   1 | elapsed:    0.0s remaining:    0.0s\n",
      "[Parallel(n_jobs=1)]: Done   1 out of   1 | elapsed:    0.0s finished\n",
      "[Parallel(n_jobs=1)]: Using backend SequentialBackend with 1 concurrent workers.\n"
     ]
    },
    {
     "name": "stdout",
     "output_type": "stream",
     "text": [
      "[CV]  C=1.0, dual=False, fit_intercept=True, intercept_scaling=0.8, max_iter=100, multi_class=multinomial, verbose=1.7, total=   0.1s\n",
      "[CV] C=1.0, dual=False, fit_intercept=True, intercept_scaling=0.8, max_iter=100, multi_class=multinomial, verbose=1.7 \n",
      "[CV]  C=1.0, dual=False, fit_intercept=True, intercept_scaling=0.8, max_iter=100, multi_class=multinomial, verbose=1.7, total=   0.1s\n",
      "[CV] C=1.0, dual=False, fit_intercept=True, intercept_scaling=0.8, max_iter=100, multi_class=multinomial, verbose=1.7 \n"
     ]
    },
    {
     "name": "stderr",
     "output_type": "stream",
     "text": [
      "[Parallel(n_jobs=1)]: Done   1 out of   1 | elapsed:    0.0s remaining:    0.0s\n",
      "[Parallel(n_jobs=1)]: Done   1 out of   1 | elapsed:    0.0s finished\n",
      "[Parallel(n_jobs=1)]: Using backend SequentialBackend with 1 concurrent workers.\n",
      "[Parallel(n_jobs=1)]: Done   1 out of   1 | elapsed:    0.0s remaining:    0.0s\n",
      "[Parallel(n_jobs=1)]: Done   1 out of   1 | elapsed:    0.0s finished\n",
      "[Parallel(n_jobs=1)]: Using backend SequentialBackend with 1 concurrent workers.\n"
     ]
    },
    {
     "name": "stdout",
     "output_type": "stream",
     "text": [
      "[CV]  C=1.0, dual=False, fit_intercept=True, intercept_scaling=0.8, max_iter=100, multi_class=multinomial, verbose=1.7, total=   0.2s\n",
      "[CV] C=1.0, dual=False, fit_intercept=True, intercept_scaling=0.9, max_iter=100, multi_class=multinomial, verbose=1.6 \n",
      "[CV]  C=1.0, dual=False, fit_intercept=True, intercept_scaling=0.9, max_iter=100, multi_class=multinomial, verbose=1.6, total=   0.2s\n",
      "[CV] C=1.0, dual=False, fit_intercept=True, intercept_scaling=0.9, max_iter=100, multi_class=multinomial, verbose=1.6 \n"
     ]
    },
    {
     "name": "stderr",
     "output_type": "stream",
     "text": [
      "[Parallel(n_jobs=1)]: Done   1 out of   1 | elapsed:    0.0s remaining:    0.0s\n",
      "[Parallel(n_jobs=1)]: Done   1 out of   1 | elapsed:    0.0s finished\n",
      "[Parallel(n_jobs=1)]: Using backend SequentialBackend with 1 concurrent workers.\n",
      "[Parallel(n_jobs=1)]: Done   1 out of   1 | elapsed:    0.0s remaining:    0.0s\n",
      "[Parallel(n_jobs=1)]: Done   1 out of   1 | elapsed:    0.0s finished\n",
      "[Parallel(n_jobs=1)]: Using backend SequentialBackend with 1 concurrent workers.\n"
     ]
    },
    {
     "name": "stdout",
     "output_type": "stream",
     "text": [
      "[CV]  C=1.0, dual=False, fit_intercept=True, intercept_scaling=0.9, max_iter=100, multi_class=multinomial, verbose=1.6, total=   0.1s\n",
      "[CV] C=1.0, dual=False, fit_intercept=True, intercept_scaling=0.9, max_iter=100, multi_class=multinomial, verbose=1.6 \n",
      "[CV]  C=1.0, dual=False, fit_intercept=True, intercept_scaling=0.9, max_iter=100, multi_class=multinomial, verbose=1.6, total=   0.1s\n",
      "[CV] C=1.0, dual=False, fit_intercept=True, intercept_scaling=0.9, max_iter=100, multi_class=multinomial, verbose=1.6 \n"
     ]
    },
    {
     "name": "stderr",
     "output_type": "stream",
     "text": [
      "[Parallel(n_jobs=1)]: Done   1 out of   1 | elapsed:    0.0s remaining:    0.0s\n",
      "[Parallel(n_jobs=1)]: Done   1 out of   1 | elapsed:    0.0s finished\n",
      "[Parallel(n_jobs=1)]: Using backend SequentialBackend with 1 concurrent workers.\n",
      "[Parallel(n_jobs=1)]: Done   1 out of   1 | elapsed:    0.0s remaining:    0.0s\n",
      "[Parallel(n_jobs=1)]: Done   1 out of   1 | elapsed:    0.0s finished\n",
      "[Parallel(n_jobs=1)]: Using backend SequentialBackend with 1 concurrent workers.\n"
     ]
    },
    {
     "name": "stdout",
     "output_type": "stream",
     "text": [
      "[CV]  C=1.0, dual=False, fit_intercept=True, intercept_scaling=0.9, max_iter=100, multi_class=multinomial, verbose=1.6, total=   0.1s\n",
      "[CV] C=1.0, dual=False, fit_intercept=True, intercept_scaling=0.9, max_iter=100, multi_class=multinomial, verbose=1.6 \n",
      "[CV]  C=1.0, dual=False, fit_intercept=True, intercept_scaling=0.9, max_iter=100, multi_class=multinomial, verbose=1.6, total=   0.1s\n",
      "[CV] C=1.0, dual=False, fit_intercept=True, intercept_scaling=0.9, max_iter=100, multi_class=multinomial, verbose=1.7 \n"
     ]
    },
    {
     "name": "stderr",
     "output_type": "stream",
     "text": [
      "[Parallel(n_jobs=1)]: Done   1 out of   1 | elapsed:    0.0s remaining:    0.0s\n",
      "[Parallel(n_jobs=1)]: Done   1 out of   1 | elapsed:    0.0s finished\n",
      "[Parallel(n_jobs=1)]: Using backend SequentialBackend with 1 concurrent workers.\n",
      "[Parallel(n_jobs=1)]: Done   1 out of   1 | elapsed:    0.0s remaining:    0.0s\n",
      "[Parallel(n_jobs=1)]: Done   1 out of   1 | elapsed:    0.0s finished\n",
      "[Parallel(n_jobs=1)]: Using backend SequentialBackend with 1 concurrent workers.\n"
     ]
    },
    {
     "name": "stdout",
     "output_type": "stream",
     "text": [
      "[CV]  C=1.0, dual=False, fit_intercept=True, intercept_scaling=0.9, max_iter=100, multi_class=multinomial, verbose=1.7, total=   0.1s\n",
      "[CV] C=1.0, dual=False, fit_intercept=True, intercept_scaling=0.9, max_iter=100, multi_class=multinomial, verbose=1.7 \n",
      "[CV]  C=1.0, dual=False, fit_intercept=True, intercept_scaling=0.9, max_iter=100, multi_class=multinomial, verbose=1.7, total=   0.1s\n",
      "[CV] C=1.0, dual=False, fit_intercept=True, intercept_scaling=0.9, max_iter=100, multi_class=multinomial, verbose=1.7 \n"
     ]
    },
    {
     "name": "stderr",
     "output_type": "stream",
     "text": [
      "[Parallel(n_jobs=1)]: Done   1 out of   1 | elapsed:    0.0s remaining:    0.0s\n",
      "[Parallel(n_jobs=1)]: Done   1 out of   1 | elapsed:    0.0s finished\n",
      "[Parallel(n_jobs=1)]: Using backend SequentialBackend with 1 concurrent workers.\n",
      "[Parallel(n_jobs=1)]: Done   1 out of   1 | elapsed:    0.0s remaining:    0.0s\n",
      "[Parallel(n_jobs=1)]: Done   1 out of   1 | elapsed:    0.0s finished\n",
      "[Parallel(n_jobs=1)]: Using backend SequentialBackend with 1 concurrent workers.\n"
     ]
    },
    {
     "name": "stdout",
     "output_type": "stream",
     "text": [
      "[CV]  C=1.0, dual=False, fit_intercept=True, intercept_scaling=0.9, max_iter=100, multi_class=multinomial, verbose=1.7, total=   0.1s\n",
      "[CV] C=1.0, dual=False, fit_intercept=True, intercept_scaling=0.9, max_iter=100, multi_class=multinomial, verbose=1.7 \n",
      "[CV]  C=1.0, dual=False, fit_intercept=True, intercept_scaling=0.9, max_iter=100, multi_class=multinomial, verbose=1.7, total=   0.1s\n",
      "[CV] C=1.0, dual=False, fit_intercept=True, intercept_scaling=0.9, max_iter=100, multi_class=multinomial, verbose=1.7 \n"
     ]
    },
    {
     "name": "stderr",
     "output_type": "stream",
     "text": [
      "[Parallel(n_jobs=1)]: Done   1 out of   1 | elapsed:    0.0s remaining:    0.0s\n",
      "[Parallel(n_jobs=1)]: Done   1 out of   1 | elapsed:    0.0s finished\n",
      "[Parallel(n_jobs=1)]: Using backend SequentialBackend with 1 concurrent workers.\n",
      "[Parallel(n_jobs=1)]: Done   1 out of   1 | elapsed:    0.0s remaining:    0.0s\n",
      "[Parallel(n_jobs=1)]: Done   1 out of   1 | elapsed:    0.0s finished\n",
      "[Parallel(n_jobs=1)]: Using backend SequentialBackend with 1 concurrent workers.\n"
     ]
    },
    {
     "name": "stdout",
     "output_type": "stream",
     "text": [
      "[CV]  C=1.0, dual=False, fit_intercept=True, intercept_scaling=0.9, max_iter=100, multi_class=multinomial, verbose=1.7, total=   0.1s\n",
      "[CV] C=1.1, dual=False, fit_intercept=True, intercept_scaling=0.8, max_iter=100, multi_class=multinomial, verbose=1.6 \n",
      "[CV]  C=1.1, dual=False, fit_intercept=True, intercept_scaling=0.8, max_iter=100, multi_class=multinomial, verbose=1.6, total=   0.1s\n",
      "[CV] C=1.1, dual=False, fit_intercept=True, intercept_scaling=0.8, max_iter=100, multi_class=multinomial, verbose=1.6 \n"
     ]
    },
    {
     "name": "stderr",
     "output_type": "stream",
     "text": [
      "[Parallel(n_jobs=1)]: Done   1 out of   1 | elapsed:    0.0s remaining:    0.0s\n",
      "[Parallel(n_jobs=1)]: Done   1 out of   1 | elapsed:    0.0s finished\n",
      "[Parallel(n_jobs=1)]: Using backend SequentialBackend with 1 concurrent workers.\n",
      "[Parallel(n_jobs=1)]: Done   1 out of   1 | elapsed:    0.0s remaining:    0.0s\n",
      "[Parallel(n_jobs=1)]: Done   1 out of   1 | elapsed:    0.0s finished\n",
      "[Parallel(n_jobs=1)]: Using backend SequentialBackend with 1 concurrent workers.\n"
     ]
    },
    {
     "name": "stdout",
     "output_type": "stream",
     "text": [
      "[CV]  C=1.1, dual=False, fit_intercept=True, intercept_scaling=0.8, max_iter=100, multi_class=multinomial, verbose=1.6, total=   0.1s\n",
      "[CV] C=1.1, dual=False, fit_intercept=True, intercept_scaling=0.8, max_iter=100, multi_class=multinomial, verbose=1.6 \n",
      "[CV]  C=1.1, dual=False, fit_intercept=True, intercept_scaling=0.8, max_iter=100, multi_class=multinomial, verbose=1.6, total=   0.1s\n",
      "[CV] C=1.1, dual=False, fit_intercept=True, intercept_scaling=0.8, max_iter=100, multi_class=multinomial, verbose=1.6 \n"
     ]
    },
    {
     "name": "stderr",
     "output_type": "stream",
     "text": [
      "[Parallel(n_jobs=1)]: Done   1 out of   1 | elapsed:    0.0s remaining:    0.0s\n",
      "[Parallel(n_jobs=1)]: Done   1 out of   1 | elapsed:    0.0s finished\n",
      "[Parallel(n_jobs=1)]: Using backend SequentialBackend with 1 concurrent workers.\n",
      "[Parallel(n_jobs=1)]: Done   1 out of   1 | elapsed:    0.0s remaining:    0.0s\n",
      "[Parallel(n_jobs=1)]: Done   1 out of   1 | elapsed:    0.0s finished\n",
      "[Parallel(n_jobs=1)]: Using backend SequentialBackend with 1 concurrent workers.\n",
      "[Parallel(n_jobs=1)]: Done   1 out of   1 | elapsed:    0.0s remaining:    0.0s\n",
      "[Parallel(n_jobs=1)]: Done   1 out of   1 | elapsed:    0.0s finished\n",
      "[Parallel(n_jobs=1)]: Using backend SequentialBackend with 1 concurrent workers.\n"
     ]
    },
    {
     "name": "stdout",
     "output_type": "stream",
     "text": [
      "[CV]  C=1.1, dual=False, fit_intercept=True, intercept_scaling=0.8, max_iter=100, multi_class=multinomial, verbose=1.6, total=   0.1s\n",
      "[CV] C=1.1, dual=False, fit_intercept=True, intercept_scaling=0.8, max_iter=100, multi_class=multinomial, verbose=1.6 \n",
      "[CV]  C=1.1, dual=False, fit_intercept=True, intercept_scaling=0.8, max_iter=100, multi_class=multinomial, verbose=1.6, total=   0.1s\n",
      "[CV] C=1.1, dual=False, fit_intercept=True, intercept_scaling=0.8, max_iter=100, multi_class=multinomial, verbose=1.7 \n",
      "[CV]  C=1.1, dual=False, fit_intercept=True, intercept_scaling=0.8, max_iter=100, multi_class=multinomial, verbose=1.7, total=   0.1s\n",
      "[CV] C=1.1, dual=False, fit_intercept=True, intercept_scaling=0.8, max_iter=100, multi_class=multinomial, verbose=1.7 \n"
     ]
    },
    {
     "name": "stderr",
     "output_type": "stream",
     "text": [
      "[Parallel(n_jobs=1)]: Done   1 out of   1 | elapsed:    0.0s remaining:    0.0s\n",
      "[Parallel(n_jobs=1)]: Done   1 out of   1 | elapsed:    0.0s finished\n",
      "[Parallel(n_jobs=1)]: Using backend SequentialBackend with 1 concurrent workers.\n",
      "[Parallel(n_jobs=1)]: Done   1 out of   1 | elapsed:    0.0s remaining:    0.0s\n",
      "[Parallel(n_jobs=1)]: Done   1 out of   1 | elapsed:    0.0s finished\n",
      "[Parallel(n_jobs=1)]: Using backend SequentialBackend with 1 concurrent workers.\n",
      "[Parallel(n_jobs=1)]: Done   1 out of   1 | elapsed:    0.0s remaining:    0.0s\n",
      "[Parallel(n_jobs=1)]: Done   1 out of   1 | elapsed:    0.0s finished\n",
      "[Parallel(n_jobs=1)]: Using backend SequentialBackend with 1 concurrent workers.\n"
     ]
    },
    {
     "name": "stdout",
     "output_type": "stream",
     "text": [
      "[CV]  C=1.1, dual=False, fit_intercept=True, intercept_scaling=0.8, max_iter=100, multi_class=multinomial, verbose=1.7, total=   0.1s\n",
      "[CV] C=1.1, dual=False, fit_intercept=True, intercept_scaling=0.8, max_iter=100, multi_class=multinomial, verbose=1.7 \n",
      "[CV]  C=1.1, dual=False, fit_intercept=True, intercept_scaling=0.8, max_iter=100, multi_class=multinomial, verbose=1.7, total=   0.1s\n",
      "[CV] C=1.1, dual=False, fit_intercept=True, intercept_scaling=0.8, max_iter=100, multi_class=multinomial, verbose=1.7 \n",
      "[CV]  C=1.1, dual=False, fit_intercept=True, intercept_scaling=0.8, max_iter=100, multi_class=multinomial, verbose=1.7, total=   0.1s\n",
      "[CV] C=1.1, dual=False, fit_intercept=True, intercept_scaling=0.8, max_iter=100, multi_class=multinomial, verbose=1.7 \n"
     ]
    },
    {
     "name": "stderr",
     "output_type": "stream",
     "text": [
      "[Parallel(n_jobs=1)]: Done   1 out of   1 | elapsed:    0.0s remaining:    0.0s\n",
      "[Parallel(n_jobs=1)]: Done   1 out of   1 | elapsed:    0.0s finished\n",
      "[Parallel(n_jobs=1)]: Using backend SequentialBackend with 1 concurrent workers.\n",
      "[Parallel(n_jobs=1)]: Done   1 out of   1 | elapsed:    0.0s remaining:    0.0s\n",
      "[Parallel(n_jobs=1)]: Done   1 out of   1 | elapsed:    0.0s finished\n",
      "[Parallel(n_jobs=1)]: Using backend SequentialBackend with 1 concurrent workers.\n",
      "[Parallel(n_jobs=1)]: Done   1 out of   1 | elapsed:    0.0s remaining:    0.0s\n"
     ]
    },
    {
     "name": "stdout",
     "output_type": "stream",
     "text": [
      "[CV]  C=1.1, dual=False, fit_intercept=True, intercept_scaling=0.8, max_iter=100, multi_class=multinomial, verbose=1.7, total=   0.1s\n",
      "[CV] C=1.1, dual=False, fit_intercept=True, intercept_scaling=0.9, max_iter=100, multi_class=multinomial, verbose=1.6 \n",
      "[CV]  C=1.1, dual=False, fit_intercept=True, intercept_scaling=0.9, max_iter=100, multi_class=multinomial, verbose=1.6, total=   0.1s\n",
      "[CV] C=1.1, dual=False, fit_intercept=True, intercept_scaling=0.9, max_iter=100, multi_class=multinomial, verbose=1.6 \n"
     ]
    },
    {
     "name": "stderr",
     "output_type": "stream",
     "text": [
      "[Parallel(n_jobs=1)]: Done   1 out of   1 | elapsed:    0.0s finished\n",
      "[Parallel(n_jobs=1)]: Using backend SequentialBackend with 1 concurrent workers.\n",
      "[Parallel(n_jobs=1)]: Done   1 out of   1 | elapsed:    0.0s remaining:    0.0s\n",
      "[Parallel(n_jobs=1)]: Done   1 out of   1 | elapsed:    0.0s finished\n",
      "[Parallel(n_jobs=1)]: Using backend SequentialBackend with 1 concurrent workers.\n",
      "[Parallel(n_jobs=1)]: Done   1 out of   1 | elapsed:    0.0s remaining:    0.0s\n"
     ]
    },
    {
     "name": "stdout",
     "output_type": "stream",
     "text": [
      "[CV]  C=1.1, dual=False, fit_intercept=True, intercept_scaling=0.9, max_iter=100, multi_class=multinomial, verbose=1.6, total=   0.1s\n",
      "[CV] C=1.1, dual=False, fit_intercept=True, intercept_scaling=0.9, max_iter=100, multi_class=multinomial, verbose=1.6 \n",
      "[CV]  C=1.1, dual=False, fit_intercept=True, intercept_scaling=0.9, max_iter=100, multi_class=multinomial, verbose=1.6, total=   0.1s\n",
      "[CV] C=1.1, dual=False, fit_intercept=True, intercept_scaling=0.9, max_iter=100, multi_class=multinomial, verbose=1.6 \n"
     ]
    },
    {
     "name": "stderr",
     "output_type": "stream",
     "text": [
      "[Parallel(n_jobs=1)]: Done   1 out of   1 | elapsed:    0.0s finished\n",
      "[Parallel(n_jobs=1)]: Using backend SequentialBackend with 1 concurrent workers.\n",
      "[Parallel(n_jobs=1)]: Done   1 out of   1 | elapsed:    0.0s remaining:    0.0s\n",
      "[Parallel(n_jobs=1)]: Done   1 out of   1 | elapsed:    0.0s finished\n",
      "[Parallel(n_jobs=1)]: Using backend SequentialBackend with 1 concurrent workers.\n"
     ]
    },
    {
     "name": "stdout",
     "output_type": "stream",
     "text": [
      "[CV]  C=1.1, dual=False, fit_intercept=True, intercept_scaling=0.9, max_iter=100, multi_class=multinomial, verbose=1.6, total=   0.1s\n",
      "[CV] C=1.1, dual=False, fit_intercept=True, intercept_scaling=0.9, max_iter=100, multi_class=multinomial, verbose=1.6 \n",
      "[CV]  C=1.1, dual=False, fit_intercept=True, intercept_scaling=0.9, max_iter=100, multi_class=multinomial, verbose=1.6, total=   0.1s\n",
      "[CV] C=1.1, dual=False, fit_intercept=True, intercept_scaling=0.9, max_iter=100, multi_class=multinomial, verbose=1.7 \n"
     ]
    },
    {
     "name": "stderr",
     "output_type": "stream",
     "text": [
      "[Parallel(n_jobs=1)]: Done   1 out of   1 | elapsed:    0.0s remaining:    0.0s\n",
      "[Parallel(n_jobs=1)]: Done   1 out of   1 | elapsed:    0.0s finished\n",
      "[Parallel(n_jobs=1)]: Using backend SequentialBackend with 1 concurrent workers.\n",
      "[Parallel(n_jobs=1)]: Done   1 out of   1 | elapsed:    0.0s remaining:    0.0s\n",
      "[Parallel(n_jobs=1)]: Done   1 out of   1 | elapsed:    0.0s finished\n",
      "[Parallel(n_jobs=1)]: Using backend SequentialBackend with 1 concurrent workers.\n"
     ]
    },
    {
     "name": "stdout",
     "output_type": "stream",
     "text": [
      "[CV]  C=1.1, dual=False, fit_intercept=True, intercept_scaling=0.9, max_iter=100, multi_class=multinomial, verbose=1.7, total=   0.1s\n",
      "[CV] C=1.1, dual=False, fit_intercept=True, intercept_scaling=0.9, max_iter=100, multi_class=multinomial, verbose=1.7 \n",
      "[CV]  C=1.1, dual=False, fit_intercept=True, intercept_scaling=0.9, max_iter=100, multi_class=multinomial, verbose=1.7, total=   0.1s\n",
      "[CV] C=1.1, dual=False, fit_intercept=True, intercept_scaling=0.9, max_iter=100, multi_class=multinomial, verbose=1.7 \n",
      "[CV]  C=1.1, dual=False, fit_intercept=True, intercept_scaling=0.9, max_iter=100, multi_class=multinomial, verbose=1.7, total=   0.1s\n",
      "[CV] C=1.1, dual=False, fit_intercept=True, intercept_scaling=0.9, max_iter=100, multi_class=multinomial, verbose=1.7 \n"
     ]
    },
    {
     "name": "stderr",
     "output_type": "stream",
     "text": [
      "[Parallel(n_jobs=1)]: Done   1 out of   1 | elapsed:    0.0s remaining:    0.0s\n",
      "[Parallel(n_jobs=1)]: Done   1 out of   1 | elapsed:    0.0s finished\n",
      "[Parallel(n_jobs=1)]: Using backend SequentialBackend with 1 concurrent workers.\n",
      "[Parallel(n_jobs=1)]: Done   1 out of   1 | elapsed:    0.0s remaining:    0.0s\n",
      "[Parallel(n_jobs=1)]: Done   1 out of   1 | elapsed:    0.0s finished\n",
      "[Parallel(n_jobs=1)]: Using backend SequentialBackend with 1 concurrent workers.\n"
     ]
    },
    {
     "name": "stdout",
     "output_type": "stream",
     "text": [
      "[CV]  C=1.1, dual=False, fit_intercept=True, intercept_scaling=0.9, max_iter=100, multi_class=multinomial, verbose=1.7, total=   0.1s\n",
      "[CV] C=1.1, dual=False, fit_intercept=True, intercept_scaling=0.9, max_iter=100, multi_class=multinomial, verbose=1.7 \n",
      "[CV]  C=1.1, dual=False, fit_intercept=True, intercept_scaling=0.9, max_iter=100, multi_class=multinomial, verbose=1.7, total=   0.1s\n"
     ]
    },
    {
     "name": "stderr",
     "output_type": "stream",
     "text": [
      "[Parallel(n_jobs=1)]: Done   1 out of   1 | elapsed:    0.0s remaining:    0.0s\n",
      "[Parallel(n_jobs=1)]: Done   1 out of   1 | elapsed:    0.0s finished\n",
      "[Parallel(n_jobs=1)]: Done  40 out of  40 | elapsed:    4.5s finished\n",
      "[Parallel(n_jobs=1)]: Using backend SequentialBackend with 1 concurrent workers.\n",
      "[Parallel(n_jobs=1)]: Done   1 out of   1 | elapsed:    0.0s remaining:    0.0s\n",
      "[Parallel(n_jobs=1)]: Done   1 out of   1 | elapsed:    0.0s finished\n"
     ]
    },
    {
     "data": {
      "text/plain": [
       "GridSearchCV(cv=5, error_score=nan,\n",
       "             estimator=LogisticRegression(C=1.0, class_weight=None, dual=False,\n",
       "                                          fit_intercept=True,\n",
       "                                          intercept_scaling=1, l1_ratio=None,\n",
       "                                          max_iter=100, multi_class='auto',\n",
       "                                          n_jobs=None, penalty='l2',\n",
       "                                          random_state=None, solver='lbfgs',\n",
       "                                          tol=0.0001, verbose=0,\n",
       "                                          warm_start=False),\n",
       "             iid='deprecated', n_jobs=None,\n",
       "             param_grid={'C': [1.0, 1.1], 'dual': [False],\n",
       "                         'fit_intercept': [True],\n",
       "                         'intercept_scaling': [0.8, 0.9], 'max_iter': [100],\n",
       "                         'multi_class': ['multinomial'],\n",
       "                         'verbose': [1.6, 1.7]},\n",
       "             pre_dispatch='2*n_jobs', refit=True, return_train_score=False,\n",
       "             scoring=None, verbose=2)"
      ]
     },
     "execution_count": 71,
     "metadata": {},
     "output_type": "execute_result"
    }
   ],
   "source": [
    "#Run GridSearchCv to hopefully improve the model\n",
    "np.random.seed(42)\n",
    "grid_search_logistic_regression = GridSearchCV(estimator=logistic_regression,\n",
    "                                               param_grid=grid_gridsearch,\n",
    "                                               cv=5,\n",
    "                                               verbose=2)\n",
    "\n",
    "grid_search_logistic_regression.fit(x_train, y_train)"
   ]
  },
  {
   "cell_type": "code",
   "execution_count": 73,
   "metadata": {},
   "outputs": [
    {
     "data": {
      "text/plain": [
       "0.8852459016393442"
      ]
     },
     "execution_count": 73,
     "metadata": {},
     "output_type": "execute_result"
    }
   ],
   "source": [
    "#Show how well the model performes on the test set\n",
    "grid_search_logistic_regression.score(x_test, y_test)"
   ]
  },
  {
   "cell_type": "markdown",
   "metadata": {},
   "source": [
    "Although many Searches were made, 88.5% could not be exceeded for the time being by Hyperparameter tuning.\n",
    "\n",
    "RandomForestClassifier is next."
   ]
  },
  {
   "cell_type": "code",
   "execution_count": 76,
   "metadata": {},
   "outputs": [
    {
     "data": {
      "text/plain": [
       "RandomForestClassifier(bootstrap=True, ccp_alpha=0.0, class_weight=None,\n",
       "                       criterion='gini', max_depth=None, max_features='auto',\n",
       "                       max_leaf_nodes=None, max_samples=None,\n",
       "                       min_impurity_decrease=0.0, min_impurity_split=None,\n",
       "                       min_samples_leaf=1, min_samples_split=2,\n",
       "                       min_weight_fraction_leaf=0.0, n_estimators=100,\n",
       "                       n_jobs=None, oob_score=False, random_state=None,\n",
       "                       verbose=0, warm_start=False)"
      ]
     },
     "execution_count": 76,
     "metadata": {},
     "output_type": "execute_result"
    }
   ],
   "source": [
    "randomForestClassifier = RandomForestClassifier()\n",
    "randomForestClassifier"
   ]
  },
  {
   "cell_type": "code",
   "execution_count": 88,
   "metadata": {},
   "outputs": [],
   "source": [
    "#Set up a grid for RandomSearchCV\n",
    "grid_randomize = {\"n_estimators\":[80,90,100,110,120],\n",
    "       \"max_features\":[\"auto\",\"log2\"],\n",
    "       \"min_samples_split\":[2,3,4,5,6],\n",
    "       \"min_samples_leaf\":[3,4,5,6,7,8],\n",
    "       \"bootstrap\":[False,True]}\n",
    "                       "
   ]
  },
  {
   "cell_type": "code",
   "execution_count": 89,
   "metadata": {},
   "outputs": [
    {
     "name": "stdout",
     "output_type": "stream",
     "text": [
      "Fitting 5 folds for each of 50 candidates, totalling 250 fits\n",
      "[CV] n_estimators=80, min_samples_split=4, min_samples_leaf=7, max_features=auto, bootstrap=False \n",
      "[CV]  n_estimators=80, min_samples_split=4, min_samples_leaf=7, max_features=auto, bootstrap=False, total=   0.1s\n",
      "[CV] n_estimators=80, min_samples_split=4, min_samples_leaf=7, max_features=auto, bootstrap=False \n",
      "[CV]  n_estimators=80, min_samples_split=4, min_samples_leaf=7, max_features=auto, bootstrap=False, total=   0.1s"
     ]
    },
    {
     "name": "stderr",
     "output_type": "stream",
     "text": [
      "[Parallel(n_jobs=1)]: Using backend SequentialBackend with 1 concurrent workers.\n",
      "[Parallel(n_jobs=1)]: Done   1 out of   1 | elapsed:    0.0s remaining:    0.0s\n"
     ]
    },
    {
     "name": "stdout",
     "output_type": "stream",
     "text": [
      "\n",
      "[CV] n_estimators=80, min_samples_split=4, min_samples_leaf=7, max_features=auto, bootstrap=False \n",
      "[CV]  n_estimators=80, min_samples_split=4, min_samples_leaf=7, max_features=auto, bootstrap=False, total=   0.1s\n",
      "[CV] n_estimators=80, min_samples_split=4, min_samples_leaf=7, max_features=auto, bootstrap=False \n",
      "[CV]  n_estimators=80, min_samples_split=4, min_samples_leaf=7, max_features=auto, bootstrap=False, total=   0.1s\n",
      "[CV] n_estimators=80, min_samples_split=4, min_samples_leaf=7, max_features=auto, bootstrap=False \n",
      "[CV]  n_estimators=80, min_samples_split=4, min_samples_leaf=7, max_features=auto, bootstrap=False, total=   0.1s\n",
      "[CV] n_estimators=120, min_samples_split=5, min_samples_leaf=7, max_features=auto, bootstrap=True \n",
      "[CV]  n_estimators=120, min_samples_split=5, min_samples_leaf=7, max_features=auto, bootstrap=True, total=   0.2s\n",
      "[CV] n_estimators=120, min_samples_split=5, min_samples_leaf=7, max_features=auto, bootstrap=True \n",
      "[CV]  n_estimators=120, min_samples_split=5, min_samples_leaf=7, max_features=auto, bootstrap=True, total=   0.2s\n",
      "[CV] n_estimators=120, min_samples_split=5, min_samples_leaf=7, max_features=auto, bootstrap=True \n",
      "[CV]  n_estimators=120, min_samples_split=5, min_samples_leaf=7, max_features=auto, bootstrap=True, total=   0.3s\n",
      "[CV] n_estimators=120, min_samples_split=5, min_samples_leaf=7, max_features=auto, bootstrap=True \n",
      "[CV]  n_estimators=120, min_samples_split=5, min_samples_leaf=7, max_features=auto, bootstrap=True, total=   0.3s\n",
      "[CV] n_estimators=120, min_samples_split=5, min_samples_leaf=7, max_features=auto, bootstrap=True \n",
      "[CV]  n_estimators=120, min_samples_split=5, min_samples_leaf=7, max_features=auto, bootstrap=True, total=   0.2s\n",
      "[CV] n_estimators=80, min_samples_split=5, min_samples_leaf=7, max_features=log2, bootstrap=True \n",
      "[CV]  n_estimators=80, min_samples_split=5, min_samples_leaf=7, max_features=log2, bootstrap=True, total=   0.1s\n",
      "[CV] n_estimators=80, min_samples_split=5, min_samples_leaf=7, max_features=log2, bootstrap=True \n",
      "[CV]  n_estimators=80, min_samples_split=5, min_samples_leaf=7, max_features=log2, bootstrap=True, total=   0.1s\n",
      "[CV] n_estimators=80, min_samples_split=5, min_samples_leaf=7, max_features=log2, bootstrap=True \n",
      "[CV]  n_estimators=80, min_samples_split=5, min_samples_leaf=7, max_features=log2, bootstrap=True, total=   0.1s\n",
      "[CV] n_estimators=80, min_samples_split=5, min_samples_leaf=7, max_features=log2, bootstrap=True \n",
      "[CV]  n_estimators=80, min_samples_split=5, min_samples_leaf=7, max_features=log2, bootstrap=True, total=   0.2s\n",
      "[CV] n_estimators=80, min_samples_split=5, min_samples_leaf=7, max_features=log2, bootstrap=True \n",
      "[CV]  n_estimators=80, min_samples_split=5, min_samples_leaf=7, max_features=log2, bootstrap=True, total=   0.1s\n",
      "[CV] n_estimators=100, min_samples_split=2, min_samples_leaf=6, max_features=auto, bootstrap=False \n",
      "[CV]  n_estimators=100, min_samples_split=2, min_samples_leaf=6, max_features=auto, bootstrap=False, total=   0.1s\n",
      "[CV] n_estimators=100, min_samples_split=2, min_samples_leaf=6, max_features=auto, bootstrap=False \n",
      "[CV]  n_estimators=100, min_samples_split=2, min_samples_leaf=6, max_features=auto, bootstrap=False, total=   0.1s\n",
      "[CV] n_estimators=100, min_samples_split=2, min_samples_leaf=6, max_features=auto, bootstrap=False \n",
      "[CV]  n_estimators=100, min_samples_split=2, min_samples_leaf=6, max_features=auto, bootstrap=False, total=   0.1s\n",
      "[CV] n_estimators=100, min_samples_split=2, min_samples_leaf=6, max_features=auto, bootstrap=False \n",
      "[CV]  n_estimators=100, min_samples_split=2, min_samples_leaf=6, max_features=auto, bootstrap=False, total=   0.1s\n",
      "[CV] n_estimators=100, min_samples_split=2, min_samples_leaf=6, max_features=auto, bootstrap=False \n",
      "[CV]  n_estimators=100, min_samples_split=2, min_samples_leaf=6, max_features=auto, bootstrap=False, total=   0.1s\n",
      "[CV] n_estimators=90, min_samples_split=3, min_samples_leaf=4, max_features=log2, bootstrap=False \n",
      "[CV]  n_estimators=90, min_samples_split=3, min_samples_leaf=4, max_features=log2, bootstrap=False, total=   0.1s\n",
      "[CV] n_estimators=90, min_samples_split=3, min_samples_leaf=4, max_features=log2, bootstrap=False \n",
      "[CV]  n_estimators=90, min_samples_split=3, min_samples_leaf=4, max_features=log2, bootstrap=False, total=   0.1s\n",
      "[CV] n_estimators=90, min_samples_split=3, min_samples_leaf=4, max_features=log2, bootstrap=False \n",
      "[CV]  n_estimators=90, min_samples_split=3, min_samples_leaf=4, max_features=log2, bootstrap=False, total=   0.1s\n",
      "[CV] n_estimators=90, min_samples_split=3, min_samples_leaf=4, max_features=log2, bootstrap=False \n",
      "[CV]  n_estimators=90, min_samples_split=3, min_samples_leaf=4, max_features=log2, bootstrap=False, total=   0.1s\n",
      "[CV] n_estimators=90, min_samples_split=3, min_samples_leaf=4, max_features=log2, bootstrap=False \n",
      "[CV]  n_estimators=90, min_samples_split=3, min_samples_leaf=4, max_features=log2, bootstrap=False, total=   0.1s\n",
      "[CV] n_estimators=120, min_samples_split=3, min_samples_leaf=8, max_features=log2, bootstrap=False \n",
      "[CV]  n_estimators=120, min_samples_split=3, min_samples_leaf=8, max_features=log2, bootstrap=False, total=   0.2s\n",
      "[CV] n_estimators=120, min_samples_split=3, min_samples_leaf=8, max_features=log2, bootstrap=False \n",
      "[CV]  n_estimators=120, min_samples_split=3, min_samples_leaf=8, max_features=log2, bootstrap=False, total=   0.2s\n",
      "[CV] n_estimators=120, min_samples_split=3, min_samples_leaf=8, max_features=log2, bootstrap=False \n",
      "[CV]  n_estimators=120, min_samples_split=3, min_samples_leaf=8, max_features=log2, bootstrap=False, total=   0.2s\n",
      "[CV] n_estimators=120, min_samples_split=3, min_samples_leaf=8, max_features=log2, bootstrap=False \n",
      "[CV]  n_estimators=120, min_samples_split=3, min_samples_leaf=8, max_features=log2, bootstrap=False, total=   0.1s\n",
      "[CV] n_estimators=120, min_samples_split=3, min_samples_leaf=8, max_features=log2, bootstrap=False \n",
      "[CV]  n_estimators=120, min_samples_split=3, min_samples_leaf=8, max_features=log2, bootstrap=False, total=   0.2s\n",
      "[CV] n_estimators=80, min_samples_split=4, min_samples_leaf=3, max_features=auto, bootstrap=False \n",
      "[CV]  n_estimators=80, min_samples_split=4, min_samples_leaf=3, max_features=auto, bootstrap=False, total=   0.1s\n",
      "[CV] n_estimators=80, min_samples_split=4, min_samples_leaf=3, max_features=auto, bootstrap=False \n",
      "[CV]  n_estimators=80, min_samples_split=4, min_samples_leaf=3, max_features=auto, bootstrap=False, total=   0.1s\n",
      "[CV] n_estimators=80, min_samples_split=4, min_samples_leaf=3, max_features=auto, bootstrap=False \n",
      "[CV]  n_estimators=80, min_samples_split=4, min_samples_leaf=3, max_features=auto, bootstrap=False, total=   0.1s\n",
      "[CV] n_estimators=80, min_samples_split=4, min_samples_leaf=3, max_features=auto, bootstrap=False \n",
      "[CV]  n_estimators=80, min_samples_split=4, min_samples_leaf=3, max_features=auto, bootstrap=False, total=   0.1s\n",
      "[CV] n_estimators=80, min_samples_split=4, min_samples_leaf=3, max_features=auto, bootstrap=False \n",
      "[CV]  n_estimators=80, min_samples_split=4, min_samples_leaf=3, max_features=auto, bootstrap=False, total=   0.1s\n",
      "[CV] n_estimators=120, min_samples_split=5, min_samples_leaf=3, max_features=log2, bootstrap=True \n",
      "[CV]  n_estimators=120, min_samples_split=5, min_samples_leaf=3, max_features=log2, bootstrap=True, total=   0.2s\n",
      "[CV] n_estimators=120, min_samples_split=5, min_samples_leaf=3, max_features=log2, bootstrap=True \n",
      "[CV]  n_estimators=120, min_samples_split=5, min_samples_leaf=3, max_features=log2, bootstrap=True, total=   0.2s\n",
      "[CV] n_estimators=120, min_samples_split=5, min_samples_leaf=3, max_features=log2, bootstrap=True \n",
      "[CV]  n_estimators=120, min_samples_split=5, min_samples_leaf=3, max_features=log2, bootstrap=True, total=   0.2s\n",
      "[CV] n_estimators=120, min_samples_split=5, min_samples_leaf=3, max_features=log2, bootstrap=True \n",
      "[CV]  n_estimators=120, min_samples_split=5, min_samples_leaf=3, max_features=log2, bootstrap=True, total=   0.2s\n",
      "[CV] n_estimators=120, min_samples_split=5, min_samples_leaf=3, max_features=log2, bootstrap=True \n",
      "[CV]  n_estimators=120, min_samples_split=5, min_samples_leaf=3, max_features=log2, bootstrap=True, total=   0.2s\n",
      "[CV] n_estimators=110, min_samples_split=2, min_samples_leaf=6, max_features=auto, bootstrap=False \n",
      "[CV]  n_estimators=110, min_samples_split=2, min_samples_leaf=6, max_features=auto, bootstrap=False, total=   0.2s\n",
      "[CV] n_estimators=110, min_samples_split=2, min_samples_leaf=6, max_features=auto, bootstrap=False \n"
     ]
    },
    {
     "name": "stdout",
     "output_type": "stream",
     "text": [
      "[CV]  n_estimators=110, min_samples_split=2, min_samples_leaf=6, max_features=auto, bootstrap=False, total=   0.2s\n",
      "[CV] n_estimators=110, min_samples_split=2, min_samples_leaf=6, max_features=auto, bootstrap=False \n",
      "[CV]  n_estimators=110, min_samples_split=2, min_samples_leaf=6, max_features=auto, bootstrap=False, total=   0.1s\n",
      "[CV] n_estimators=110, min_samples_split=2, min_samples_leaf=6, max_features=auto, bootstrap=False \n",
      "[CV]  n_estimators=110, min_samples_split=2, min_samples_leaf=6, max_features=auto, bootstrap=False, total=   0.2s\n",
      "[CV] n_estimators=110, min_samples_split=2, min_samples_leaf=6, max_features=auto, bootstrap=False \n",
      "[CV]  n_estimators=110, min_samples_split=2, min_samples_leaf=6, max_features=auto, bootstrap=False, total=   0.2s\n",
      "[CV] n_estimators=120, min_samples_split=6, min_samples_leaf=4, max_features=auto, bootstrap=True \n",
      "[CV]  n_estimators=120, min_samples_split=6, min_samples_leaf=4, max_features=auto, bootstrap=True, total=   0.2s\n",
      "[CV] n_estimators=120, min_samples_split=6, min_samples_leaf=4, max_features=auto, bootstrap=True \n",
      "[CV]  n_estimators=120, min_samples_split=6, min_samples_leaf=4, max_features=auto, bootstrap=True, total=   0.2s\n",
      "[CV] n_estimators=120, min_samples_split=6, min_samples_leaf=4, max_features=auto, bootstrap=True \n",
      "[CV]  n_estimators=120, min_samples_split=6, min_samples_leaf=4, max_features=auto, bootstrap=True, total=   0.3s\n",
      "[CV] n_estimators=120, min_samples_split=6, min_samples_leaf=4, max_features=auto, bootstrap=True \n",
      "[CV]  n_estimators=120, min_samples_split=6, min_samples_leaf=4, max_features=auto, bootstrap=True, total=   0.3s\n",
      "[CV] n_estimators=120, min_samples_split=6, min_samples_leaf=4, max_features=auto, bootstrap=True \n",
      "[CV]  n_estimators=120, min_samples_split=6, min_samples_leaf=4, max_features=auto, bootstrap=True, total=   0.3s\n",
      "[CV] n_estimators=80, min_samples_split=3, min_samples_leaf=5, max_features=auto, bootstrap=False \n",
      "[CV]  n_estimators=80, min_samples_split=3, min_samples_leaf=5, max_features=auto, bootstrap=False, total=   0.1s\n",
      "[CV] n_estimators=80, min_samples_split=3, min_samples_leaf=5, max_features=auto, bootstrap=False \n",
      "[CV]  n_estimators=80, min_samples_split=3, min_samples_leaf=5, max_features=auto, bootstrap=False, total=   0.1s\n",
      "[CV] n_estimators=80, min_samples_split=3, min_samples_leaf=5, max_features=auto, bootstrap=False \n",
      "[CV]  n_estimators=80, min_samples_split=3, min_samples_leaf=5, max_features=auto, bootstrap=False, total=   0.1s\n",
      "[CV] n_estimators=80, min_samples_split=3, min_samples_leaf=5, max_features=auto, bootstrap=False \n",
      "[CV]  n_estimators=80, min_samples_split=3, min_samples_leaf=5, max_features=auto, bootstrap=False, total=   0.2s\n",
      "[CV] n_estimators=80, min_samples_split=3, min_samples_leaf=5, max_features=auto, bootstrap=False \n",
      "[CV]  n_estimators=80, min_samples_split=3, min_samples_leaf=5, max_features=auto, bootstrap=False, total=   0.1s\n",
      "[CV] n_estimators=110, min_samples_split=5, min_samples_leaf=7, max_features=auto, bootstrap=False \n",
      "[CV]  n_estimators=110, min_samples_split=5, min_samples_leaf=7, max_features=auto, bootstrap=False, total=   0.2s\n",
      "[CV] n_estimators=110, min_samples_split=5, min_samples_leaf=7, max_features=auto, bootstrap=False \n",
      "[CV]  n_estimators=110, min_samples_split=5, min_samples_leaf=7, max_features=auto, bootstrap=False, total=   0.2s\n",
      "[CV] n_estimators=110, min_samples_split=5, min_samples_leaf=7, max_features=auto, bootstrap=False \n",
      "[CV]  n_estimators=110, min_samples_split=5, min_samples_leaf=7, max_features=auto, bootstrap=False, total=   0.2s\n",
      "[CV] n_estimators=110, min_samples_split=5, min_samples_leaf=7, max_features=auto, bootstrap=False \n",
      "[CV]  n_estimators=110, min_samples_split=5, min_samples_leaf=7, max_features=auto, bootstrap=False, total=   0.2s\n",
      "[CV] n_estimators=110, min_samples_split=5, min_samples_leaf=7, max_features=auto, bootstrap=False \n",
      "[CV]  n_estimators=110, min_samples_split=5, min_samples_leaf=7, max_features=auto, bootstrap=False, total=   0.2s\n",
      "[CV] n_estimators=120, min_samples_split=3, min_samples_leaf=7, max_features=auto, bootstrap=False \n",
      "[CV]  n_estimators=120, min_samples_split=3, min_samples_leaf=7, max_features=auto, bootstrap=False, total=   0.2s\n",
      "[CV] n_estimators=120, min_samples_split=3, min_samples_leaf=7, max_features=auto, bootstrap=False \n",
      "[CV]  n_estimators=120, min_samples_split=3, min_samples_leaf=7, max_features=auto, bootstrap=False, total=   0.2s\n",
      "[CV] n_estimators=120, min_samples_split=3, min_samples_leaf=7, max_features=auto, bootstrap=False \n",
      "[CV]  n_estimators=120, min_samples_split=3, min_samples_leaf=7, max_features=auto, bootstrap=False, total=   0.2s\n",
      "[CV] n_estimators=120, min_samples_split=3, min_samples_leaf=7, max_features=auto, bootstrap=False \n",
      "[CV]  n_estimators=120, min_samples_split=3, min_samples_leaf=7, max_features=auto, bootstrap=False, total=   0.2s\n",
      "[CV] n_estimators=120, min_samples_split=3, min_samples_leaf=7, max_features=auto, bootstrap=False \n",
      "[CV]  n_estimators=120, min_samples_split=3, min_samples_leaf=7, max_features=auto, bootstrap=False, total=   0.2s\n",
      "[CV] n_estimators=110, min_samples_split=4, min_samples_leaf=8, max_features=log2, bootstrap=True \n",
      "[CV]  n_estimators=110, min_samples_split=4, min_samples_leaf=8, max_features=log2, bootstrap=True, total=   0.2s\n",
      "[CV] n_estimators=110, min_samples_split=4, min_samples_leaf=8, max_features=log2, bootstrap=True \n",
      "[CV]  n_estimators=110, min_samples_split=4, min_samples_leaf=8, max_features=log2, bootstrap=True, total=   0.2s\n",
      "[CV] n_estimators=110, min_samples_split=4, min_samples_leaf=8, max_features=log2, bootstrap=True \n",
      "[CV]  n_estimators=110, min_samples_split=4, min_samples_leaf=8, max_features=log2, bootstrap=True, total=   0.2s\n",
      "[CV] n_estimators=110, min_samples_split=4, min_samples_leaf=8, max_features=log2, bootstrap=True \n",
      "[CV]  n_estimators=110, min_samples_split=4, min_samples_leaf=8, max_features=log2, bootstrap=True, total=   0.2s\n",
      "[CV] n_estimators=110, min_samples_split=4, min_samples_leaf=8, max_features=log2, bootstrap=True \n",
      "[CV]  n_estimators=110, min_samples_split=4, min_samples_leaf=8, max_features=log2, bootstrap=True, total=   0.2s\n",
      "[CV] n_estimators=120, min_samples_split=5, min_samples_leaf=5, max_features=auto, bootstrap=True \n",
      "[CV]  n_estimators=120, min_samples_split=5, min_samples_leaf=5, max_features=auto, bootstrap=True, total=   0.2s\n",
      "[CV] n_estimators=120, min_samples_split=5, min_samples_leaf=5, max_features=auto, bootstrap=True \n",
      "[CV]  n_estimators=120, min_samples_split=5, min_samples_leaf=5, max_features=auto, bootstrap=True, total=   0.2s\n",
      "[CV] n_estimators=120, min_samples_split=5, min_samples_leaf=5, max_features=auto, bootstrap=True \n",
      "[CV]  n_estimators=120, min_samples_split=5, min_samples_leaf=5, max_features=auto, bootstrap=True, total=   0.2s\n",
      "[CV] n_estimators=120, min_samples_split=5, min_samples_leaf=5, max_features=auto, bootstrap=True \n",
      "[CV]  n_estimators=120, min_samples_split=5, min_samples_leaf=5, max_features=auto, bootstrap=True, total=   0.2s\n",
      "[CV] n_estimators=120, min_samples_split=5, min_samples_leaf=5, max_features=auto, bootstrap=True \n",
      "[CV]  n_estimators=120, min_samples_split=5, min_samples_leaf=5, max_features=auto, bootstrap=True, total=   0.2s\n",
      "[CV] n_estimators=120, min_samples_split=3, min_samples_leaf=6, max_features=log2, bootstrap=False \n",
      "[CV]  n_estimators=120, min_samples_split=3, min_samples_leaf=6, max_features=log2, bootstrap=False, total=   0.2s\n",
      "[CV] n_estimators=120, min_samples_split=3, min_samples_leaf=6, max_features=log2, bootstrap=False \n",
      "[CV]  n_estimators=120, min_samples_split=3, min_samples_leaf=6, max_features=log2, bootstrap=False, total=   0.2s\n",
      "[CV] n_estimators=120, min_samples_split=3, min_samples_leaf=6, max_features=log2, bootstrap=False \n",
      "[CV]  n_estimators=120, min_samples_split=3, min_samples_leaf=6, max_features=log2, bootstrap=False, total=   0.2s\n",
      "[CV] n_estimators=120, min_samples_split=3, min_samples_leaf=6, max_features=log2, bootstrap=False \n",
      "[CV]  n_estimators=120, min_samples_split=3, min_samples_leaf=6, max_features=log2, bootstrap=False, total=   0.2s\n",
      "[CV] n_estimators=120, min_samples_split=3, min_samples_leaf=6, max_features=log2, bootstrap=False \n",
      "[CV]  n_estimators=120, min_samples_split=3, min_samples_leaf=6, max_features=log2, bootstrap=False, total=   0.2s\n",
      "[CV] n_estimators=80, min_samples_split=3, min_samples_leaf=4, max_features=auto, bootstrap=False \n",
      "[CV]  n_estimators=80, min_samples_split=3, min_samples_leaf=4, max_features=auto, bootstrap=False, total=   0.1s\n",
      "[CV] n_estimators=80, min_samples_split=3, min_samples_leaf=4, max_features=auto, bootstrap=False \n"
     ]
    },
    {
     "name": "stdout",
     "output_type": "stream",
     "text": [
      "[CV]  n_estimators=80, min_samples_split=3, min_samples_leaf=4, max_features=auto, bootstrap=False, total=   0.1s\n",
      "[CV] n_estimators=80, min_samples_split=3, min_samples_leaf=4, max_features=auto, bootstrap=False \n",
      "[CV]  n_estimators=80, min_samples_split=3, min_samples_leaf=4, max_features=auto, bootstrap=False, total=   0.1s\n",
      "[CV] n_estimators=80, min_samples_split=3, min_samples_leaf=4, max_features=auto, bootstrap=False \n",
      "[CV]  n_estimators=80, min_samples_split=3, min_samples_leaf=4, max_features=auto, bootstrap=False, total=   0.1s\n",
      "[CV] n_estimators=80, min_samples_split=3, min_samples_leaf=4, max_features=auto, bootstrap=False \n",
      "[CV]  n_estimators=80, min_samples_split=3, min_samples_leaf=4, max_features=auto, bootstrap=False, total=   0.3s\n",
      "[CV] n_estimators=100, min_samples_split=4, min_samples_leaf=5, max_features=log2, bootstrap=False \n",
      "[CV]  n_estimators=100, min_samples_split=4, min_samples_leaf=5, max_features=log2, bootstrap=False, total=   0.2s\n",
      "[CV] n_estimators=100, min_samples_split=4, min_samples_leaf=5, max_features=log2, bootstrap=False \n",
      "[CV]  n_estimators=100, min_samples_split=4, min_samples_leaf=5, max_features=log2, bootstrap=False, total=   0.1s\n",
      "[CV] n_estimators=100, min_samples_split=4, min_samples_leaf=5, max_features=log2, bootstrap=False \n",
      "[CV]  n_estimators=100, min_samples_split=4, min_samples_leaf=5, max_features=log2, bootstrap=False, total=   0.1s\n",
      "[CV] n_estimators=100, min_samples_split=4, min_samples_leaf=5, max_features=log2, bootstrap=False \n",
      "[CV]  n_estimators=100, min_samples_split=4, min_samples_leaf=5, max_features=log2, bootstrap=False, total=   0.1s\n",
      "[CV] n_estimators=100, min_samples_split=4, min_samples_leaf=5, max_features=log2, bootstrap=False \n",
      "[CV]  n_estimators=100, min_samples_split=4, min_samples_leaf=5, max_features=log2, bootstrap=False, total=   0.1s\n",
      "[CV] n_estimators=120, min_samples_split=3, min_samples_leaf=4, max_features=log2, bootstrap=False \n",
      "[CV]  n_estimators=120, min_samples_split=3, min_samples_leaf=4, max_features=log2, bootstrap=False, total=   0.1s\n",
      "[CV] n_estimators=120, min_samples_split=3, min_samples_leaf=4, max_features=log2, bootstrap=False \n",
      "[CV]  n_estimators=120, min_samples_split=3, min_samples_leaf=4, max_features=log2, bootstrap=False, total=   0.2s\n",
      "[CV] n_estimators=120, min_samples_split=3, min_samples_leaf=4, max_features=log2, bootstrap=False \n",
      "[CV]  n_estimators=120, min_samples_split=3, min_samples_leaf=4, max_features=log2, bootstrap=False, total=   0.1s\n",
      "[CV] n_estimators=120, min_samples_split=3, min_samples_leaf=4, max_features=log2, bootstrap=False \n",
      "[CV]  n_estimators=120, min_samples_split=3, min_samples_leaf=4, max_features=log2, bootstrap=False, total=   0.2s\n",
      "[CV] n_estimators=120, min_samples_split=3, min_samples_leaf=4, max_features=log2, bootstrap=False \n",
      "[CV]  n_estimators=120, min_samples_split=3, min_samples_leaf=4, max_features=log2, bootstrap=False, total=   0.2s\n",
      "[CV] n_estimators=90, min_samples_split=4, min_samples_leaf=6, max_features=auto, bootstrap=False \n",
      "[CV]  n_estimators=90, min_samples_split=4, min_samples_leaf=6, max_features=auto, bootstrap=False, total=   0.1s\n",
      "[CV] n_estimators=90, min_samples_split=4, min_samples_leaf=6, max_features=auto, bootstrap=False \n",
      "[CV]  n_estimators=90, min_samples_split=4, min_samples_leaf=6, max_features=auto, bootstrap=False, total=   0.1s\n",
      "[CV] n_estimators=90, min_samples_split=4, min_samples_leaf=6, max_features=auto, bootstrap=False \n",
      "[CV]  n_estimators=90, min_samples_split=4, min_samples_leaf=6, max_features=auto, bootstrap=False, total=   0.1s\n",
      "[CV] n_estimators=90, min_samples_split=4, min_samples_leaf=6, max_features=auto, bootstrap=False \n",
      "[CV]  n_estimators=90, min_samples_split=4, min_samples_leaf=6, max_features=auto, bootstrap=False, total=   0.1s\n",
      "[CV] n_estimators=90, min_samples_split=4, min_samples_leaf=6, max_features=auto, bootstrap=False \n",
      "[CV]  n_estimators=90, min_samples_split=4, min_samples_leaf=6, max_features=auto, bootstrap=False, total=   0.1s\n",
      "[CV] n_estimators=100, min_samples_split=2, min_samples_leaf=3, max_features=auto, bootstrap=False \n",
      "[CV]  n_estimators=100, min_samples_split=2, min_samples_leaf=3, max_features=auto, bootstrap=False, total=   0.1s\n",
      "[CV] n_estimators=100, min_samples_split=2, min_samples_leaf=3, max_features=auto, bootstrap=False \n",
      "[CV]  n_estimators=100, min_samples_split=2, min_samples_leaf=3, max_features=auto, bootstrap=False, total=   0.1s\n",
      "[CV] n_estimators=100, min_samples_split=2, min_samples_leaf=3, max_features=auto, bootstrap=False \n",
      "[CV]  n_estimators=100, min_samples_split=2, min_samples_leaf=3, max_features=auto, bootstrap=False, total=   0.1s\n",
      "[CV] n_estimators=100, min_samples_split=2, min_samples_leaf=3, max_features=auto, bootstrap=False \n",
      "[CV]  n_estimators=100, min_samples_split=2, min_samples_leaf=3, max_features=auto, bootstrap=False, total=   0.1s\n",
      "[CV] n_estimators=100, min_samples_split=2, min_samples_leaf=3, max_features=auto, bootstrap=False \n",
      "[CV]  n_estimators=100, min_samples_split=2, min_samples_leaf=3, max_features=auto, bootstrap=False, total=   0.2s\n",
      "[CV] n_estimators=100, min_samples_split=4, min_samples_leaf=8, max_features=log2, bootstrap=True \n",
      "[CV]  n_estimators=100, min_samples_split=4, min_samples_leaf=8, max_features=log2, bootstrap=True, total=   0.2s\n",
      "[CV] n_estimators=100, min_samples_split=4, min_samples_leaf=8, max_features=log2, bootstrap=True \n",
      "[CV]  n_estimators=100, min_samples_split=4, min_samples_leaf=8, max_features=log2, bootstrap=True, total=   0.2s\n",
      "[CV] n_estimators=100, min_samples_split=4, min_samples_leaf=8, max_features=log2, bootstrap=True \n",
      "[CV]  n_estimators=100, min_samples_split=4, min_samples_leaf=8, max_features=log2, bootstrap=True, total=   0.2s\n",
      "[CV] n_estimators=100, min_samples_split=4, min_samples_leaf=8, max_features=log2, bootstrap=True \n",
      "[CV]  n_estimators=100, min_samples_split=4, min_samples_leaf=8, max_features=log2, bootstrap=True, total=   0.3s\n",
      "[CV] n_estimators=100, min_samples_split=4, min_samples_leaf=8, max_features=log2, bootstrap=True \n",
      "[CV]  n_estimators=100, min_samples_split=4, min_samples_leaf=8, max_features=log2, bootstrap=True, total=   0.2s\n",
      "[CV] n_estimators=80, min_samples_split=4, min_samples_leaf=6, max_features=log2, bootstrap=True \n",
      "[CV]  n_estimators=80, min_samples_split=4, min_samples_leaf=6, max_features=log2, bootstrap=True, total=   0.1s\n",
      "[CV] n_estimators=80, min_samples_split=4, min_samples_leaf=6, max_features=log2, bootstrap=True \n",
      "[CV]  n_estimators=80, min_samples_split=4, min_samples_leaf=6, max_features=log2, bootstrap=True, total=   0.2s\n",
      "[CV] n_estimators=80, min_samples_split=4, min_samples_leaf=6, max_features=log2, bootstrap=True \n",
      "[CV]  n_estimators=80, min_samples_split=4, min_samples_leaf=6, max_features=log2, bootstrap=True, total=   0.2s\n",
      "[CV] n_estimators=80, min_samples_split=4, min_samples_leaf=6, max_features=log2, bootstrap=True \n",
      "[CV]  n_estimators=80, min_samples_split=4, min_samples_leaf=6, max_features=log2, bootstrap=True, total=   0.1s\n",
      "[CV] n_estimators=80, min_samples_split=4, min_samples_leaf=6, max_features=log2, bootstrap=True \n",
      "[CV]  n_estimators=80, min_samples_split=4, min_samples_leaf=6, max_features=log2, bootstrap=True, total=   0.2s\n",
      "[CV] n_estimators=90, min_samples_split=6, min_samples_leaf=8, max_features=log2, bootstrap=True \n",
      "[CV]  n_estimators=90, min_samples_split=6, min_samples_leaf=8, max_features=log2, bootstrap=True, total=   0.2s\n",
      "[CV] n_estimators=90, min_samples_split=6, min_samples_leaf=8, max_features=log2, bootstrap=True \n",
      "[CV]  n_estimators=90, min_samples_split=6, min_samples_leaf=8, max_features=log2, bootstrap=True, total=   0.1s\n",
      "[CV] n_estimators=90, min_samples_split=6, min_samples_leaf=8, max_features=log2, bootstrap=True \n",
      "[CV]  n_estimators=90, min_samples_split=6, min_samples_leaf=8, max_features=log2, bootstrap=True, total=   0.2s\n",
      "[CV] n_estimators=90, min_samples_split=6, min_samples_leaf=8, max_features=log2, bootstrap=True \n",
      "[CV]  n_estimators=90, min_samples_split=6, min_samples_leaf=8, max_features=log2, bootstrap=True, total=   0.2s\n",
      "[CV] n_estimators=90, min_samples_split=6, min_samples_leaf=8, max_features=log2, bootstrap=True \n",
      "[CV]  n_estimators=90, min_samples_split=6, min_samples_leaf=8, max_features=log2, bootstrap=True, total=   0.2s\n",
      "[CV] n_estimators=110, min_samples_split=5, min_samples_leaf=5, max_features=auto, bootstrap=True \n"
     ]
    },
    {
     "name": "stdout",
     "output_type": "stream",
     "text": [
      "[CV]  n_estimators=110, min_samples_split=5, min_samples_leaf=5, max_features=auto, bootstrap=True, total=   0.2s\n",
      "[CV] n_estimators=110, min_samples_split=5, min_samples_leaf=5, max_features=auto, bootstrap=True \n",
      "[CV]  n_estimators=110, min_samples_split=5, min_samples_leaf=5, max_features=auto, bootstrap=True, total=   0.2s\n",
      "[CV] n_estimators=110, min_samples_split=5, min_samples_leaf=5, max_features=auto, bootstrap=True \n",
      "[CV]  n_estimators=110, min_samples_split=5, min_samples_leaf=5, max_features=auto, bootstrap=True, total=   0.2s\n",
      "[CV] n_estimators=110, min_samples_split=5, min_samples_leaf=5, max_features=auto, bootstrap=True \n",
      "[CV]  n_estimators=110, min_samples_split=5, min_samples_leaf=5, max_features=auto, bootstrap=True, total=   0.2s\n",
      "[CV] n_estimators=110, min_samples_split=5, min_samples_leaf=5, max_features=auto, bootstrap=True \n",
      "[CV]  n_estimators=110, min_samples_split=5, min_samples_leaf=5, max_features=auto, bootstrap=True, total=   0.2s\n",
      "[CV] n_estimators=120, min_samples_split=4, min_samples_leaf=6, max_features=log2, bootstrap=True \n",
      "[CV]  n_estimators=120, min_samples_split=4, min_samples_leaf=6, max_features=log2, bootstrap=True, total=   0.2s\n",
      "[CV] n_estimators=120, min_samples_split=4, min_samples_leaf=6, max_features=log2, bootstrap=True \n",
      "[CV]  n_estimators=120, min_samples_split=4, min_samples_leaf=6, max_features=log2, bootstrap=True, total=   0.2s\n",
      "[CV] n_estimators=120, min_samples_split=4, min_samples_leaf=6, max_features=log2, bootstrap=True \n",
      "[CV]  n_estimators=120, min_samples_split=4, min_samples_leaf=6, max_features=log2, bootstrap=True, total=   0.2s\n",
      "[CV] n_estimators=120, min_samples_split=4, min_samples_leaf=6, max_features=log2, bootstrap=True \n",
      "[CV]  n_estimators=120, min_samples_split=4, min_samples_leaf=6, max_features=log2, bootstrap=True, total=   0.2s\n",
      "[CV] n_estimators=120, min_samples_split=4, min_samples_leaf=6, max_features=log2, bootstrap=True \n",
      "[CV]  n_estimators=120, min_samples_split=4, min_samples_leaf=6, max_features=log2, bootstrap=True, total=   0.2s\n",
      "[CV] n_estimators=100, min_samples_split=6, min_samples_leaf=5, max_features=auto, bootstrap=False \n",
      "[CV]  n_estimators=100, min_samples_split=6, min_samples_leaf=5, max_features=auto, bootstrap=False, total=   0.1s\n",
      "[CV] n_estimators=100, min_samples_split=6, min_samples_leaf=5, max_features=auto, bootstrap=False \n",
      "[CV]  n_estimators=100, min_samples_split=6, min_samples_leaf=5, max_features=auto, bootstrap=False, total=   0.1s\n",
      "[CV] n_estimators=100, min_samples_split=6, min_samples_leaf=5, max_features=auto, bootstrap=False \n",
      "[CV]  n_estimators=100, min_samples_split=6, min_samples_leaf=5, max_features=auto, bootstrap=False, total=   0.1s\n",
      "[CV] n_estimators=100, min_samples_split=6, min_samples_leaf=5, max_features=auto, bootstrap=False \n",
      "[CV]  n_estimators=100, min_samples_split=6, min_samples_leaf=5, max_features=auto, bootstrap=False, total=   0.1s\n",
      "[CV] n_estimators=100, min_samples_split=6, min_samples_leaf=5, max_features=auto, bootstrap=False \n",
      "[CV]  n_estimators=100, min_samples_split=6, min_samples_leaf=5, max_features=auto, bootstrap=False, total=   0.1s\n",
      "[CV] n_estimators=80, min_samples_split=4, min_samples_leaf=8, max_features=auto, bootstrap=False \n",
      "[CV]  n_estimators=80, min_samples_split=4, min_samples_leaf=8, max_features=auto, bootstrap=False, total=   0.1s\n",
      "[CV] n_estimators=80, min_samples_split=4, min_samples_leaf=8, max_features=auto, bootstrap=False \n",
      "[CV]  n_estimators=80, min_samples_split=4, min_samples_leaf=8, max_features=auto, bootstrap=False, total=   0.1s\n",
      "[CV] n_estimators=80, min_samples_split=4, min_samples_leaf=8, max_features=auto, bootstrap=False \n",
      "[CV]  n_estimators=80, min_samples_split=4, min_samples_leaf=8, max_features=auto, bootstrap=False, total=   0.1s\n",
      "[CV] n_estimators=80, min_samples_split=4, min_samples_leaf=8, max_features=auto, bootstrap=False \n",
      "[CV]  n_estimators=80, min_samples_split=4, min_samples_leaf=8, max_features=auto, bootstrap=False, total=   0.1s\n",
      "[CV] n_estimators=80, min_samples_split=4, min_samples_leaf=8, max_features=auto, bootstrap=False \n",
      "[CV]  n_estimators=80, min_samples_split=4, min_samples_leaf=8, max_features=auto, bootstrap=False, total=   0.1s\n",
      "[CV] n_estimators=90, min_samples_split=3, min_samples_leaf=7, max_features=log2, bootstrap=True \n",
      "[CV]  n_estimators=90, min_samples_split=3, min_samples_leaf=7, max_features=log2, bootstrap=True, total=   0.2s\n",
      "[CV] n_estimators=90, min_samples_split=3, min_samples_leaf=7, max_features=log2, bootstrap=True \n",
      "[CV]  n_estimators=90, min_samples_split=3, min_samples_leaf=7, max_features=log2, bootstrap=True, total=   0.2s\n",
      "[CV] n_estimators=90, min_samples_split=3, min_samples_leaf=7, max_features=log2, bootstrap=True \n",
      "[CV]  n_estimators=90, min_samples_split=3, min_samples_leaf=7, max_features=log2, bootstrap=True, total=   0.1s\n",
      "[CV] n_estimators=90, min_samples_split=3, min_samples_leaf=7, max_features=log2, bootstrap=True \n",
      "[CV]  n_estimators=90, min_samples_split=3, min_samples_leaf=7, max_features=log2, bootstrap=True, total=   0.2s\n",
      "[CV] n_estimators=90, min_samples_split=3, min_samples_leaf=7, max_features=log2, bootstrap=True \n",
      "[CV]  n_estimators=90, min_samples_split=3, min_samples_leaf=7, max_features=log2, bootstrap=True, total=   0.2s\n",
      "[CV] n_estimators=100, min_samples_split=4, min_samples_leaf=8, max_features=auto, bootstrap=True \n",
      "[CV]  n_estimators=100, min_samples_split=4, min_samples_leaf=8, max_features=auto, bootstrap=True, total=   0.2s\n",
      "[CV] n_estimators=100, min_samples_split=4, min_samples_leaf=8, max_features=auto, bootstrap=True \n",
      "[CV]  n_estimators=100, min_samples_split=4, min_samples_leaf=8, max_features=auto, bootstrap=True, total=   0.3s\n",
      "[CV] n_estimators=100, min_samples_split=4, min_samples_leaf=8, max_features=auto, bootstrap=True \n",
      "[CV]  n_estimators=100, min_samples_split=4, min_samples_leaf=8, max_features=auto, bootstrap=True, total=   0.2s\n",
      "[CV] n_estimators=100, min_samples_split=4, min_samples_leaf=8, max_features=auto, bootstrap=True \n",
      "[CV]  n_estimators=100, min_samples_split=4, min_samples_leaf=8, max_features=auto, bootstrap=True, total=   0.2s\n",
      "[CV] n_estimators=100, min_samples_split=4, min_samples_leaf=8, max_features=auto, bootstrap=True \n",
      "[CV]  n_estimators=100, min_samples_split=4, min_samples_leaf=8, max_features=auto, bootstrap=True, total=   0.3s\n",
      "[CV] n_estimators=80, min_samples_split=6, min_samples_leaf=8, max_features=log2, bootstrap=True \n",
      "[CV]  n_estimators=80, min_samples_split=6, min_samples_leaf=8, max_features=log2, bootstrap=True, total=   0.2s\n",
      "[CV] n_estimators=80, min_samples_split=6, min_samples_leaf=8, max_features=log2, bootstrap=True \n",
      "[CV]  n_estimators=80, min_samples_split=6, min_samples_leaf=8, max_features=log2, bootstrap=True, total=   0.2s\n",
      "[CV] n_estimators=80, min_samples_split=6, min_samples_leaf=8, max_features=log2, bootstrap=True \n",
      "[CV]  n_estimators=80, min_samples_split=6, min_samples_leaf=8, max_features=log2, bootstrap=True, total=   0.2s\n",
      "[CV] n_estimators=80, min_samples_split=6, min_samples_leaf=8, max_features=log2, bootstrap=True \n",
      "[CV]  n_estimators=80, min_samples_split=6, min_samples_leaf=8, max_features=log2, bootstrap=True, total=   0.2s\n",
      "[CV] n_estimators=80, min_samples_split=6, min_samples_leaf=8, max_features=log2, bootstrap=True \n",
      "[CV]  n_estimators=80, min_samples_split=6, min_samples_leaf=8, max_features=log2, bootstrap=True, total=   0.1s\n",
      "[CV] n_estimators=110, min_samples_split=4, min_samples_leaf=3, max_features=log2, bootstrap=False \n",
      "[CV]  n_estimators=110, min_samples_split=4, min_samples_leaf=3, max_features=log2, bootstrap=False, total=   0.2s\n",
      "[CV] n_estimators=110, min_samples_split=4, min_samples_leaf=3, max_features=log2, bootstrap=False \n",
      "[CV]  n_estimators=110, min_samples_split=4, min_samples_leaf=3, max_features=log2, bootstrap=False, total=   0.1s\n",
      "[CV] n_estimators=110, min_samples_split=4, min_samples_leaf=3, max_features=log2, bootstrap=False \n",
      "[CV]  n_estimators=110, min_samples_split=4, min_samples_leaf=3, max_features=log2, bootstrap=False, total=   0.2s\n",
      "[CV] n_estimators=110, min_samples_split=4, min_samples_leaf=3, max_features=log2, bootstrap=False \n",
      "[CV]  n_estimators=110, min_samples_split=4, min_samples_leaf=3, max_features=log2, bootstrap=False, total=   0.1s\n",
      "[CV] n_estimators=110, min_samples_split=4, min_samples_leaf=3, max_features=log2, bootstrap=False \n"
     ]
    },
    {
     "name": "stdout",
     "output_type": "stream",
     "text": [
      "[CV]  n_estimators=110, min_samples_split=4, min_samples_leaf=3, max_features=log2, bootstrap=False, total=   0.2s\n",
      "[CV] n_estimators=100, min_samples_split=3, min_samples_leaf=6, max_features=auto, bootstrap=False \n",
      "[CV]  n_estimators=100, min_samples_split=3, min_samples_leaf=6, max_features=auto, bootstrap=False, total=   0.1s\n",
      "[CV] n_estimators=100, min_samples_split=3, min_samples_leaf=6, max_features=auto, bootstrap=False \n",
      "[CV]  n_estimators=100, min_samples_split=3, min_samples_leaf=6, max_features=auto, bootstrap=False, total=   0.1s\n",
      "[CV] n_estimators=100, min_samples_split=3, min_samples_leaf=6, max_features=auto, bootstrap=False \n",
      "[CV]  n_estimators=100, min_samples_split=3, min_samples_leaf=6, max_features=auto, bootstrap=False, total=   0.2s\n",
      "[CV] n_estimators=100, min_samples_split=3, min_samples_leaf=6, max_features=auto, bootstrap=False \n",
      "[CV]  n_estimators=100, min_samples_split=3, min_samples_leaf=6, max_features=auto, bootstrap=False, total=   0.2s\n",
      "[CV] n_estimators=100, min_samples_split=3, min_samples_leaf=6, max_features=auto, bootstrap=False \n",
      "[CV]  n_estimators=100, min_samples_split=3, min_samples_leaf=6, max_features=auto, bootstrap=False, total=   0.1s\n",
      "[CV] n_estimators=100, min_samples_split=3, min_samples_leaf=7, max_features=log2, bootstrap=False \n",
      "[CV]  n_estimators=100, min_samples_split=3, min_samples_leaf=7, max_features=log2, bootstrap=False, total=   0.2s\n",
      "[CV] n_estimators=100, min_samples_split=3, min_samples_leaf=7, max_features=log2, bootstrap=False \n",
      "[CV]  n_estimators=100, min_samples_split=3, min_samples_leaf=7, max_features=log2, bootstrap=False, total=   0.1s\n",
      "[CV] n_estimators=100, min_samples_split=3, min_samples_leaf=7, max_features=log2, bootstrap=False \n",
      "[CV]  n_estimators=100, min_samples_split=3, min_samples_leaf=7, max_features=log2, bootstrap=False, total=   0.1s\n",
      "[CV] n_estimators=100, min_samples_split=3, min_samples_leaf=7, max_features=log2, bootstrap=False \n",
      "[CV]  n_estimators=100, min_samples_split=3, min_samples_leaf=7, max_features=log2, bootstrap=False, total=   0.1s\n",
      "[CV] n_estimators=100, min_samples_split=3, min_samples_leaf=7, max_features=log2, bootstrap=False \n",
      "[CV]  n_estimators=100, min_samples_split=3, min_samples_leaf=7, max_features=log2, bootstrap=False, total=   0.2s\n",
      "[CV] n_estimators=100, min_samples_split=5, min_samples_leaf=4, max_features=log2, bootstrap=False \n",
      "[CV]  n_estimators=100, min_samples_split=5, min_samples_leaf=4, max_features=log2, bootstrap=False, total=   0.1s\n",
      "[CV] n_estimators=100, min_samples_split=5, min_samples_leaf=4, max_features=log2, bootstrap=False \n",
      "[CV]  n_estimators=100, min_samples_split=5, min_samples_leaf=4, max_features=log2, bootstrap=False, total=   0.2s\n",
      "[CV] n_estimators=100, min_samples_split=5, min_samples_leaf=4, max_features=log2, bootstrap=False \n",
      "[CV]  n_estimators=100, min_samples_split=5, min_samples_leaf=4, max_features=log2, bootstrap=False, total=   0.1s\n",
      "[CV] n_estimators=100, min_samples_split=5, min_samples_leaf=4, max_features=log2, bootstrap=False \n",
      "[CV]  n_estimators=100, min_samples_split=5, min_samples_leaf=4, max_features=log2, bootstrap=False, total=   0.1s\n",
      "[CV] n_estimators=100, min_samples_split=5, min_samples_leaf=4, max_features=log2, bootstrap=False \n",
      "[CV]  n_estimators=100, min_samples_split=5, min_samples_leaf=4, max_features=log2, bootstrap=False, total=   0.1s\n",
      "[CV] n_estimators=110, min_samples_split=2, min_samples_leaf=3, max_features=log2, bootstrap=True \n",
      "[CV]  n_estimators=110, min_samples_split=2, min_samples_leaf=3, max_features=log2, bootstrap=True, total=   0.2s\n",
      "[CV] n_estimators=110, min_samples_split=2, min_samples_leaf=3, max_features=log2, bootstrap=True \n",
      "[CV]  n_estimators=110, min_samples_split=2, min_samples_leaf=3, max_features=log2, bootstrap=True, total=   0.2s\n",
      "[CV] n_estimators=110, min_samples_split=2, min_samples_leaf=3, max_features=log2, bootstrap=True \n",
      "[CV]  n_estimators=110, min_samples_split=2, min_samples_leaf=3, max_features=log2, bootstrap=True, total=   0.2s\n",
      "[CV] n_estimators=110, min_samples_split=2, min_samples_leaf=3, max_features=log2, bootstrap=True \n",
      "[CV]  n_estimators=110, min_samples_split=2, min_samples_leaf=3, max_features=log2, bootstrap=True, total=   0.2s\n",
      "[CV] n_estimators=110, min_samples_split=2, min_samples_leaf=3, max_features=log2, bootstrap=True \n",
      "[CV]  n_estimators=110, min_samples_split=2, min_samples_leaf=3, max_features=log2, bootstrap=True, total=   0.2s\n",
      "[CV] n_estimators=100, min_samples_split=3, min_samples_leaf=8, max_features=auto, bootstrap=False \n",
      "[CV]  n_estimators=100, min_samples_split=3, min_samples_leaf=8, max_features=auto, bootstrap=False, total=   0.1s\n",
      "[CV] n_estimators=100, min_samples_split=3, min_samples_leaf=8, max_features=auto, bootstrap=False \n",
      "[CV]  n_estimators=100, min_samples_split=3, min_samples_leaf=8, max_features=auto, bootstrap=False, total=   0.1s\n",
      "[CV] n_estimators=100, min_samples_split=3, min_samples_leaf=8, max_features=auto, bootstrap=False \n",
      "[CV]  n_estimators=100, min_samples_split=3, min_samples_leaf=8, max_features=auto, bootstrap=False, total=   0.1s\n",
      "[CV] n_estimators=100, min_samples_split=3, min_samples_leaf=8, max_features=auto, bootstrap=False \n",
      "[CV]  n_estimators=100, min_samples_split=3, min_samples_leaf=8, max_features=auto, bootstrap=False, total=   0.2s\n",
      "[CV] n_estimators=100, min_samples_split=3, min_samples_leaf=8, max_features=auto, bootstrap=False \n",
      "[CV]  n_estimators=100, min_samples_split=3, min_samples_leaf=8, max_features=auto, bootstrap=False, total=   0.2s\n",
      "[CV] n_estimators=80, min_samples_split=5, min_samples_leaf=5, max_features=log2, bootstrap=True \n",
      "[CV]  n_estimators=80, min_samples_split=5, min_samples_leaf=5, max_features=log2, bootstrap=True, total=   0.1s\n",
      "[CV] n_estimators=80, min_samples_split=5, min_samples_leaf=5, max_features=log2, bootstrap=True \n",
      "[CV]  n_estimators=80, min_samples_split=5, min_samples_leaf=5, max_features=log2, bootstrap=True, total=   0.1s\n",
      "[CV] n_estimators=80, min_samples_split=5, min_samples_leaf=5, max_features=log2, bootstrap=True \n",
      "[CV]  n_estimators=80, min_samples_split=5, min_samples_leaf=5, max_features=log2, bootstrap=True, total=   0.2s\n",
      "[CV] n_estimators=80, min_samples_split=5, min_samples_leaf=5, max_features=log2, bootstrap=True \n",
      "[CV]  n_estimators=80, min_samples_split=5, min_samples_leaf=5, max_features=log2, bootstrap=True, total=   0.1s\n",
      "[CV] n_estimators=80, min_samples_split=5, min_samples_leaf=5, max_features=log2, bootstrap=True \n",
      "[CV]  n_estimators=80, min_samples_split=5, min_samples_leaf=5, max_features=log2, bootstrap=True, total=   0.2s\n",
      "[CV] n_estimators=90, min_samples_split=5, min_samples_leaf=8, max_features=auto, bootstrap=True \n",
      "[CV]  n_estimators=90, min_samples_split=5, min_samples_leaf=8, max_features=auto, bootstrap=True, total=   0.2s\n",
      "[CV] n_estimators=90, min_samples_split=5, min_samples_leaf=8, max_features=auto, bootstrap=True \n",
      "[CV]  n_estimators=90, min_samples_split=5, min_samples_leaf=8, max_features=auto, bootstrap=True, total=   0.2s\n",
      "[CV] n_estimators=90, min_samples_split=5, min_samples_leaf=8, max_features=auto, bootstrap=True \n",
      "[CV]  n_estimators=90, min_samples_split=5, min_samples_leaf=8, max_features=auto, bootstrap=True, total=   0.2s\n",
      "[CV] n_estimators=90, min_samples_split=5, min_samples_leaf=8, max_features=auto, bootstrap=True \n",
      "[CV]  n_estimators=90, min_samples_split=5, min_samples_leaf=8, max_features=auto, bootstrap=True, total=   0.2s\n",
      "[CV] n_estimators=90, min_samples_split=5, min_samples_leaf=8, max_features=auto, bootstrap=True \n",
      "[CV]  n_estimators=90, min_samples_split=5, min_samples_leaf=8, max_features=auto, bootstrap=True, total=   0.2s\n",
      "[CV] n_estimators=80, min_samples_split=2, min_samples_leaf=8, max_features=log2, bootstrap=False \n",
      "[CV]  n_estimators=80, min_samples_split=2, min_samples_leaf=8, max_features=log2, bootstrap=False, total=   0.1s\n",
      "[CV] n_estimators=80, min_samples_split=2, min_samples_leaf=8, max_features=log2, bootstrap=False \n",
      "[CV]  n_estimators=80, min_samples_split=2, min_samples_leaf=8, max_features=log2, bootstrap=False, total=   0.1s\n",
      "[CV] n_estimators=80, min_samples_split=2, min_samples_leaf=8, max_features=log2, bootstrap=False \n",
      "[CV]  n_estimators=80, min_samples_split=2, min_samples_leaf=8, max_features=log2, bootstrap=False, total=   0.1s\n",
      "[CV] n_estimators=80, min_samples_split=2, min_samples_leaf=8, max_features=log2, bootstrap=False \n"
     ]
    },
    {
     "name": "stdout",
     "output_type": "stream",
     "text": [
      "[CV]  n_estimators=80, min_samples_split=2, min_samples_leaf=8, max_features=log2, bootstrap=False, total=   0.1s\n",
      "[CV] n_estimators=80, min_samples_split=2, min_samples_leaf=8, max_features=log2, bootstrap=False \n",
      "[CV]  n_estimators=80, min_samples_split=2, min_samples_leaf=8, max_features=log2, bootstrap=False, total=   0.1s\n",
      "[CV] n_estimators=120, min_samples_split=4, min_samples_leaf=5, max_features=auto, bootstrap=True \n",
      "[CV]  n_estimators=120, min_samples_split=4, min_samples_leaf=5, max_features=auto, bootstrap=True, total=   0.2s\n",
      "[CV] n_estimators=120, min_samples_split=4, min_samples_leaf=5, max_features=auto, bootstrap=True \n",
      "[CV]  n_estimators=120, min_samples_split=4, min_samples_leaf=5, max_features=auto, bootstrap=True, total=   0.2s\n",
      "[CV] n_estimators=120, min_samples_split=4, min_samples_leaf=5, max_features=auto, bootstrap=True \n",
      "[CV]  n_estimators=120, min_samples_split=4, min_samples_leaf=5, max_features=auto, bootstrap=True, total=   0.2s\n",
      "[CV] n_estimators=120, min_samples_split=4, min_samples_leaf=5, max_features=auto, bootstrap=True \n",
      "[CV]  n_estimators=120, min_samples_split=4, min_samples_leaf=5, max_features=auto, bootstrap=True, total=   0.2s\n",
      "[CV] n_estimators=120, min_samples_split=4, min_samples_leaf=5, max_features=auto, bootstrap=True \n",
      "[CV]  n_estimators=120, min_samples_split=4, min_samples_leaf=5, max_features=auto, bootstrap=True, total=   0.2s\n",
      "[CV] n_estimators=120, min_samples_split=2, min_samples_leaf=4, max_features=auto, bootstrap=False \n",
      "[CV]  n_estimators=120, min_samples_split=2, min_samples_leaf=4, max_features=auto, bootstrap=False, total=   0.2s\n",
      "[CV] n_estimators=120, min_samples_split=2, min_samples_leaf=4, max_features=auto, bootstrap=False \n",
      "[CV]  n_estimators=120, min_samples_split=2, min_samples_leaf=4, max_features=auto, bootstrap=False, total=   0.2s\n",
      "[CV] n_estimators=120, min_samples_split=2, min_samples_leaf=4, max_features=auto, bootstrap=False \n",
      "[CV]  n_estimators=120, min_samples_split=2, min_samples_leaf=4, max_features=auto, bootstrap=False, total=   0.2s\n",
      "[CV] n_estimators=120, min_samples_split=2, min_samples_leaf=4, max_features=auto, bootstrap=False \n",
      "[CV]  n_estimators=120, min_samples_split=2, min_samples_leaf=4, max_features=auto, bootstrap=False, total=   0.2s\n",
      "[CV] n_estimators=120, min_samples_split=2, min_samples_leaf=4, max_features=auto, bootstrap=False \n",
      "[CV]  n_estimators=120, min_samples_split=2, min_samples_leaf=4, max_features=auto, bootstrap=False, total=   0.2s\n",
      "[CV] n_estimators=90, min_samples_split=3, min_samples_leaf=5, max_features=log2, bootstrap=True \n",
      "[CV]  n_estimators=90, min_samples_split=3, min_samples_leaf=5, max_features=log2, bootstrap=True, total=   0.2s\n",
      "[CV] n_estimators=90, min_samples_split=3, min_samples_leaf=5, max_features=log2, bootstrap=True \n",
      "[CV]  n_estimators=90, min_samples_split=3, min_samples_leaf=5, max_features=log2, bootstrap=True, total=   0.2s\n",
      "[CV] n_estimators=90, min_samples_split=3, min_samples_leaf=5, max_features=log2, bootstrap=True \n",
      "[CV]  n_estimators=90, min_samples_split=3, min_samples_leaf=5, max_features=log2, bootstrap=True, total=   0.2s\n",
      "[CV] n_estimators=90, min_samples_split=3, min_samples_leaf=5, max_features=log2, bootstrap=True \n",
      "[CV]  n_estimators=90, min_samples_split=3, min_samples_leaf=5, max_features=log2, bootstrap=True, total=   0.2s\n",
      "[CV] n_estimators=90, min_samples_split=3, min_samples_leaf=5, max_features=log2, bootstrap=True \n",
      "[CV]  n_estimators=90, min_samples_split=3, min_samples_leaf=5, max_features=log2, bootstrap=True, total=   0.2s\n",
      "[CV] n_estimators=80, min_samples_split=6, min_samples_leaf=7, max_features=log2, bootstrap=True \n",
      "[CV]  n_estimators=80, min_samples_split=6, min_samples_leaf=7, max_features=log2, bootstrap=True, total=   0.2s\n",
      "[CV] n_estimators=80, min_samples_split=6, min_samples_leaf=7, max_features=log2, bootstrap=True \n",
      "[CV]  n_estimators=80, min_samples_split=6, min_samples_leaf=7, max_features=log2, bootstrap=True, total=   0.1s\n",
      "[CV] n_estimators=80, min_samples_split=6, min_samples_leaf=7, max_features=log2, bootstrap=True \n",
      "[CV]  n_estimators=80, min_samples_split=6, min_samples_leaf=7, max_features=log2, bootstrap=True, total=   0.2s\n",
      "[CV] n_estimators=80, min_samples_split=6, min_samples_leaf=7, max_features=log2, bootstrap=True \n",
      "[CV]  n_estimators=80, min_samples_split=6, min_samples_leaf=7, max_features=log2, bootstrap=True, total=   0.2s\n",
      "[CV] n_estimators=80, min_samples_split=6, min_samples_leaf=7, max_features=log2, bootstrap=True \n",
      "[CV]  n_estimators=80, min_samples_split=6, min_samples_leaf=7, max_features=log2, bootstrap=True, total=   0.2s\n",
      "[CV] n_estimators=120, min_samples_split=6, min_samples_leaf=3, max_features=auto, bootstrap=False \n",
      "[CV]  n_estimators=120, min_samples_split=6, min_samples_leaf=3, max_features=auto, bootstrap=False, total=   0.2s\n",
      "[CV] n_estimators=120, min_samples_split=6, min_samples_leaf=3, max_features=auto, bootstrap=False \n",
      "[CV]  n_estimators=120, min_samples_split=6, min_samples_leaf=3, max_features=auto, bootstrap=False, total=   0.2s\n",
      "[CV] n_estimators=120, min_samples_split=6, min_samples_leaf=3, max_features=auto, bootstrap=False \n",
      "[CV]  n_estimators=120, min_samples_split=6, min_samples_leaf=3, max_features=auto, bootstrap=False, total=   0.2s\n",
      "[CV] n_estimators=120, min_samples_split=6, min_samples_leaf=3, max_features=auto, bootstrap=False \n",
      "[CV]  n_estimators=120, min_samples_split=6, min_samples_leaf=3, max_features=auto, bootstrap=False, total=   0.2s\n",
      "[CV] n_estimators=120, min_samples_split=6, min_samples_leaf=3, max_features=auto, bootstrap=False \n",
      "[CV]  n_estimators=120, min_samples_split=6, min_samples_leaf=3, max_features=auto, bootstrap=False, total=   0.2s\n",
      "[CV] n_estimators=100, min_samples_split=3, min_samples_leaf=4, max_features=log2, bootstrap=False \n",
      "[CV]  n_estimators=100, min_samples_split=3, min_samples_leaf=4, max_features=log2, bootstrap=False, total=   0.2s\n",
      "[CV] n_estimators=100, min_samples_split=3, min_samples_leaf=4, max_features=log2, bootstrap=False \n",
      "[CV]  n_estimators=100, min_samples_split=3, min_samples_leaf=4, max_features=log2, bootstrap=False, total=   0.1s\n",
      "[CV] n_estimators=100, min_samples_split=3, min_samples_leaf=4, max_features=log2, bootstrap=False \n",
      "[CV]  n_estimators=100, min_samples_split=3, min_samples_leaf=4, max_features=log2, bootstrap=False, total=   0.1s\n",
      "[CV] n_estimators=100, min_samples_split=3, min_samples_leaf=4, max_features=log2, bootstrap=False \n",
      "[CV]  n_estimators=100, min_samples_split=3, min_samples_leaf=4, max_features=log2, bootstrap=False, total=   0.1s\n",
      "[CV] n_estimators=100, min_samples_split=3, min_samples_leaf=4, max_features=log2, bootstrap=False \n",
      "[CV]  n_estimators=100, min_samples_split=3, min_samples_leaf=4, max_features=log2, bootstrap=False, total=   0.2s\n",
      "[CV] n_estimators=110, min_samples_split=6, min_samples_leaf=3, max_features=log2, bootstrap=True \n",
      "[CV]  n_estimators=110, min_samples_split=6, min_samples_leaf=3, max_features=log2, bootstrap=True, total=   0.2s\n",
      "[CV] n_estimators=110, min_samples_split=6, min_samples_leaf=3, max_features=log2, bootstrap=True \n",
      "[CV]  n_estimators=110, min_samples_split=6, min_samples_leaf=3, max_features=log2, bootstrap=True, total=   0.2s\n",
      "[CV] n_estimators=110, min_samples_split=6, min_samples_leaf=3, max_features=log2, bootstrap=True \n",
      "[CV]  n_estimators=110, min_samples_split=6, min_samples_leaf=3, max_features=log2, bootstrap=True, total=   0.2s\n",
      "[CV] n_estimators=110, min_samples_split=6, min_samples_leaf=3, max_features=log2, bootstrap=True \n",
      "[CV]  n_estimators=110, min_samples_split=6, min_samples_leaf=3, max_features=log2, bootstrap=True, total=   0.2s\n",
      "[CV] n_estimators=110, min_samples_split=6, min_samples_leaf=3, max_features=log2, bootstrap=True \n",
      "[CV]  n_estimators=110, min_samples_split=6, min_samples_leaf=3, max_features=log2, bootstrap=True, total=   0.2s\n",
      "[CV] n_estimators=120, min_samples_split=2, min_samples_leaf=7, max_features=auto, bootstrap=False \n",
      "[CV]  n_estimators=120, min_samples_split=2, min_samples_leaf=7, max_features=auto, bootstrap=False, total=   0.2s\n",
      "[CV] n_estimators=120, min_samples_split=2, min_samples_leaf=7, max_features=auto, bootstrap=False \n",
      "[CV]  n_estimators=120, min_samples_split=2, min_samples_leaf=7, max_features=auto, bootstrap=False, total=   0.2s\n",
      "[CV] n_estimators=120, min_samples_split=2, min_samples_leaf=7, max_features=auto, bootstrap=False \n",
      "[CV]  n_estimators=120, min_samples_split=2, min_samples_leaf=7, max_features=auto, bootstrap=False, total=   0.2s\n",
      "[CV] n_estimators=120, min_samples_split=2, min_samples_leaf=7, max_features=auto, bootstrap=False \n"
     ]
    },
    {
     "name": "stdout",
     "output_type": "stream",
     "text": [
      "[CV]  n_estimators=120, min_samples_split=2, min_samples_leaf=7, max_features=auto, bootstrap=False, total=   0.2s\n",
      "[CV] n_estimators=120, min_samples_split=2, min_samples_leaf=7, max_features=auto, bootstrap=False \n",
      "[CV]  n_estimators=120, min_samples_split=2, min_samples_leaf=7, max_features=auto, bootstrap=False, total=   0.1s\n",
      "[CV] n_estimators=110, min_samples_split=4, min_samples_leaf=5, max_features=auto, bootstrap=False \n",
      "[CV]  n_estimators=110, min_samples_split=4, min_samples_leaf=5, max_features=auto, bootstrap=False, total=   0.1s\n",
      "[CV] n_estimators=110, min_samples_split=4, min_samples_leaf=5, max_features=auto, bootstrap=False \n",
      "[CV]  n_estimators=110, min_samples_split=4, min_samples_leaf=5, max_features=auto, bootstrap=False, total=   0.1s\n",
      "[CV] n_estimators=110, min_samples_split=4, min_samples_leaf=5, max_features=auto, bootstrap=False \n",
      "[CV]  n_estimators=110, min_samples_split=4, min_samples_leaf=5, max_features=auto, bootstrap=False, total=   0.1s\n",
      "[CV] n_estimators=110, min_samples_split=4, min_samples_leaf=5, max_features=auto, bootstrap=False \n",
      "[CV]  n_estimators=110, min_samples_split=4, min_samples_leaf=5, max_features=auto, bootstrap=False, total=   0.2s\n",
      "[CV] n_estimators=110, min_samples_split=4, min_samples_leaf=5, max_features=auto, bootstrap=False \n",
      "[CV]  n_estimators=110, min_samples_split=4, min_samples_leaf=5, max_features=auto, bootstrap=False, total=   0.2s\n",
      "[CV] n_estimators=80, min_samples_split=5, min_samples_leaf=4, max_features=log2, bootstrap=True \n",
      "[CV]  n_estimators=80, min_samples_split=5, min_samples_leaf=4, max_features=log2, bootstrap=True, total=   0.1s\n",
      "[CV] n_estimators=80, min_samples_split=5, min_samples_leaf=4, max_features=log2, bootstrap=True \n",
      "[CV]  n_estimators=80, min_samples_split=5, min_samples_leaf=4, max_features=log2, bootstrap=True, total=   0.1s\n",
      "[CV] n_estimators=80, min_samples_split=5, min_samples_leaf=4, max_features=log2, bootstrap=True \n",
      "[CV]  n_estimators=80, min_samples_split=5, min_samples_leaf=4, max_features=log2, bootstrap=True, total=   0.1s\n",
      "[CV] n_estimators=80, min_samples_split=5, min_samples_leaf=4, max_features=log2, bootstrap=True \n",
      "[CV]  n_estimators=80, min_samples_split=5, min_samples_leaf=4, max_features=log2, bootstrap=True, total=   0.2s\n",
      "[CV] n_estimators=80, min_samples_split=5, min_samples_leaf=4, max_features=log2, bootstrap=True \n",
      "[CV]  n_estimators=80, min_samples_split=5, min_samples_leaf=4, max_features=log2, bootstrap=True, total=   0.2s\n"
     ]
    },
    {
     "name": "stderr",
     "output_type": "stream",
     "text": [
      "[Parallel(n_jobs=1)]: Done 250 out of 250 | elapsed:   41.8s finished\n"
     ]
    },
    {
     "data": {
      "text/plain": [
       "RandomizedSearchCV(cv=5, error_score=nan,\n",
       "                   estimator=RandomForestClassifier(bootstrap=True,\n",
       "                                                    ccp_alpha=0.0,\n",
       "                                                    class_weight=None,\n",
       "                                                    criterion='gini',\n",
       "                                                    max_depth=None,\n",
       "                                                    max_features='auto',\n",
       "                                                    max_leaf_nodes=None,\n",
       "                                                    max_samples=None,\n",
       "                                                    min_impurity_decrease=0.0,\n",
       "                                                    min_impurity_split=None,\n",
       "                                                    min_samples_leaf=1,\n",
       "                                                    min_samples_split=2,\n",
       "                                                    min_weight_fraction_leaf=0.0,\n",
       "                                                    n_estimators=100,\n",
       "                                                    n_jobs...\n",
       "                                                    random_state=None,\n",
       "                                                    verbose=0,\n",
       "                                                    warm_start=False),\n",
       "                   iid='deprecated', n_iter=50, n_jobs=None,\n",
       "                   param_distributions={'bootstrap': [False, True],\n",
       "                                        'max_features': ['auto', 'log2'],\n",
       "                                        'min_samples_leaf': [3, 4, 5, 6, 7, 8],\n",
       "                                        'min_samples_split': [2, 3, 4, 5, 6],\n",
       "                                        'n_estimators': [80, 90, 100, 110,\n",
       "                                                         120]},\n",
       "                   pre_dispatch='2*n_jobs', random_state=42, refit=True,\n",
       "                   return_train_score=False, scoring=None, verbose=2)"
      ]
     },
     "execution_count": 89,
     "metadata": {},
     "output_type": "execute_result"
    }
   ],
   "source": [
    "#Use RandomSearchCV for exploring the solution space of hyperparameters\n",
    "np.random.seed(42)\n",
    "randomForest_classifier_rs = RandomizedSearchCV(randomForestClassifier,\n",
    "                                                param_distributions=grid_randomize,\n",
    "                                                cv=5,\n",
    "                                                n_iter=50,\n",
    "                                                verbose=2,\n",
    "                                                random_state=42)\n",
    "\n",
    "randomForest_classifier_rs.fit(x_train, y_train)"
   ]
  },
  {
   "cell_type": "code",
   "execution_count": 91,
   "metadata": {},
   "outputs": [
    {
     "data": {
      "text/plain": [
       "{'n_estimators': 100,\n",
       " 'min_samples_split': 4,\n",
       " 'min_samples_leaf': 8,\n",
       " 'max_features': 'auto',\n",
       " 'bootstrap': True}"
      ]
     },
     "execution_count": 91,
     "metadata": {},
     "output_type": "execute_result"
    }
   ],
   "source": [
    "randomForest_classifier_rs.best_params_"
   ]
  },
  {
   "cell_type": "markdown",
   "metadata": {},
   "source": [
    "Now I will try to improve the score of the model by using `GridSearchCV()`."
   ]
  },
  {
   "cell_type": "code",
   "execution_count": 147,
   "metadata": {},
   "outputs": [],
   "source": [
    "#Create grid for GridSearchCV\n",
    "grid_gridsearch = {'n_estimators': [120],\n",
    " 'min_samples_split': [5],\n",
    " 'min_samples_leaf': [5,6],\n",
    " 'max_features': ['log2'],\n",
    " 'bootstrap': [True]}"
   ]
  },
  {
   "cell_type": "code",
   "execution_count": 148,
   "metadata": {},
   "outputs": [
    {
     "name": "stdout",
     "output_type": "stream",
     "text": [
      "Fitting 5 folds for each of 2 candidates, totalling 10 fits\n",
      "[CV] bootstrap=True, max_features=log2, min_samples_leaf=5, min_samples_split=5, n_estimators=120 \n"
     ]
    },
    {
     "name": "stderr",
     "output_type": "stream",
     "text": [
      "[Parallel(n_jobs=1)]: Using backend SequentialBackend with 1 concurrent workers.\n"
     ]
    },
    {
     "name": "stdout",
     "output_type": "stream",
     "text": [
      "[CV]  bootstrap=True, max_features=log2, min_samples_leaf=5, min_samples_split=5, n_estimators=120, total=   0.2s\n",
      "[CV] bootstrap=True, max_features=log2, min_samples_leaf=5, min_samples_split=5, n_estimators=120 \n"
     ]
    },
    {
     "name": "stderr",
     "output_type": "stream",
     "text": [
      "[Parallel(n_jobs=1)]: Done   1 out of   1 | elapsed:    0.1s remaining:    0.0s\n"
     ]
    },
    {
     "name": "stdout",
     "output_type": "stream",
     "text": [
      "[CV]  bootstrap=True, max_features=log2, min_samples_leaf=5, min_samples_split=5, n_estimators=120, total=   0.2s\n",
      "[CV] bootstrap=True, max_features=log2, min_samples_leaf=5, min_samples_split=5, n_estimators=120 \n",
      "[CV]  bootstrap=True, max_features=log2, min_samples_leaf=5, min_samples_split=5, n_estimators=120, total=   0.2s\n",
      "[CV] bootstrap=True, max_features=log2, min_samples_leaf=5, min_samples_split=5, n_estimators=120 \n",
      "[CV]  bootstrap=True, max_features=log2, min_samples_leaf=5, min_samples_split=5, n_estimators=120, total=   0.2s\n",
      "[CV] bootstrap=True, max_features=log2, min_samples_leaf=5, min_samples_split=5, n_estimators=120 \n",
      "[CV]  bootstrap=True, max_features=log2, min_samples_leaf=5, min_samples_split=5, n_estimators=120, total=   0.2s\n",
      "[CV] bootstrap=True, max_features=log2, min_samples_leaf=6, min_samples_split=5, n_estimators=120 \n",
      "[CV]  bootstrap=True, max_features=log2, min_samples_leaf=6, min_samples_split=5, n_estimators=120, total=   0.2s\n",
      "[CV] bootstrap=True, max_features=log2, min_samples_leaf=6, min_samples_split=5, n_estimators=120 \n",
      "[CV]  bootstrap=True, max_features=log2, min_samples_leaf=6, min_samples_split=5, n_estimators=120, total=   0.2s\n",
      "[CV] bootstrap=True, max_features=log2, min_samples_leaf=6, min_samples_split=5, n_estimators=120 \n",
      "[CV]  bootstrap=True, max_features=log2, min_samples_leaf=6, min_samples_split=5, n_estimators=120, total=   0.2s\n",
      "[CV] bootstrap=True, max_features=log2, min_samples_leaf=6, min_samples_split=5, n_estimators=120 \n",
      "[CV]  bootstrap=True, max_features=log2, min_samples_leaf=6, min_samples_split=5, n_estimators=120, total=   0.2s\n",
      "[CV] bootstrap=True, max_features=log2, min_samples_leaf=6, min_samples_split=5, n_estimators=120 \n",
      "[CV]  bootstrap=True, max_features=log2, min_samples_leaf=6, min_samples_split=5, n_estimators=120, total=   0.2s\n"
     ]
    },
    {
     "name": "stderr",
     "output_type": "stream",
     "text": [
      "[Parallel(n_jobs=1)]: Done  10 out of  10 | elapsed:    2.1s finished\n"
     ]
    },
    {
     "data": {
      "text/plain": [
       "GridSearchCV(cv=5, error_score=nan,\n",
       "             estimator=RandomForestClassifier(bootstrap=True, ccp_alpha=0.0,\n",
       "                                              class_weight=None,\n",
       "                                              criterion='gini', max_depth=None,\n",
       "                                              max_features='auto',\n",
       "                                              max_leaf_nodes=None,\n",
       "                                              max_samples=None,\n",
       "                                              min_impurity_decrease=0.0,\n",
       "                                              min_impurity_split=None,\n",
       "                                              min_samples_leaf=1,\n",
       "                                              min_samples_split=2,\n",
       "                                              min_weight_fraction_leaf=0.0,\n",
       "                                              n_estimators=100, n_jobs=None,\n",
       "                                              oob_score=False,\n",
       "                                              random_state=None, verbose=0,\n",
       "                                              warm_start=False),\n",
       "             iid='deprecated', n_jobs=None,\n",
       "             param_grid={'bootstrap': [True], 'max_features': ['log2'],\n",
       "                         'min_samples_leaf': [5, 6], 'min_samples_split': [5],\n",
       "                         'n_estimators': [120]},\n",
       "             pre_dispatch='2*n_jobs', refit=True, return_train_score=False,\n",
       "             scoring=None, verbose=2)"
      ]
     },
     "execution_count": 148,
     "metadata": {},
     "output_type": "execute_result"
    }
   ],
   "source": [
    "#Run GridSearchCv to hopefully improve the model\n",
    "np.random.seed(42)\n",
    "\n",
    "randomForest_classifier_gs = GridSearchCV(randomForestClassifier,\n",
    "                                                param_grid=grid_gridsearch,\n",
    "                                                cv=5,    \n",
    "                                                verbose=2)\n",
    "                                \n",
    "randomForest_classifier_gs.fit(x_train, y_train)"
   ]
  },
  {
   "cell_type": "code",
   "execution_count": 149,
   "metadata": {},
   "outputs": [
    {
     "data": {
      "text/plain": [
       "0.8852459016393442"
      ]
     },
     "execution_count": 149,
     "metadata": {},
     "output_type": "execute_result"
    }
   ],
   "source": [
    "#Show how well the model performes on the test set\n",
    "randomForest_classifier_gs.score(x_test, y_test)"
   ]
  },
  {
   "cell_type": "markdown",
   "metadata": {},
   "source": [
    "Also, after GridSearch, the accuracy score of the best RandomizedSearch hyperparameter value couldn't be improved any further."
   ]
  },
  {
   "cell_type": "markdown",
   "metadata": {},
   "source": [
    "#### So what we can see is, that both models perform equally well regarding their accuracy score on the test-set."
   ]
  },
  {
   "cell_type": "code",
   "execution_count": 150,
   "metadata": {},
   "outputs": [
    {
     "data": {
      "image/png": "[encoded data removed]",
      "text/plain": [
       "<Figure size 432x288 with 1 Axes>"
      ]
     },
     "metadata": {
      "needs_background": "light"
     },
     "output_type": "display_data"
    }
   ],
   "source": [
    "#Visualize the accuarcy performance\n",
    "accuracy_dict = {\"Linear Regression\": round(grid_search_logistic_regression.score(x_test, y_test)*100,2),\n",
    "                 \"RandomForest Classifier\": round(randomForest_classifier_gs.score(x_test, y_test)*100,2)}\n",
    "accuracy_df = pd.DataFrame(accuracy_dict, index=[0])\n",
    "plot = accuracy_df.plot(kind=\"bar\")\n",
    "plot.set_xlabel(\"Classification Models\")\n",
    "plot.set_ylabel(\"Accuracy Score\");"
   ]
  },
  {
   "cell_type": "markdown",
   "metadata": {},
   "source": [
    "### Evaluation Metrics\n",
    "\n",
    "Now I'm gonna cover the evaluation metrics for a classification model for the Linear regression model(As both perform equally well).\n",
    "Included are:\n",
    "\n",
    "* Accuracy (for completeness)\n",
    "* Precision\n",
    "* Recall\n",
    "* F1\n",
    "* ROC curve\n",
    "<!-- * Confusion Matrix -->\n",
    "* Feature importance"
   ]
  },
  {
   "cell_type": "markdown",
   "metadata": {},
   "source": [
    "#### Accuracy, Precision, Recall , F1"
   ]
  },
  {
   "cell_type": "code",
   "execution_count": 21,
   "metadata": {},
   "outputs": [
    {
     "name": "stderr",
     "output_type": "stream",
     "text": [
      "[Parallel(n_jobs=1)]: Using backend SequentialBackend with 1 concurrent workers.\n",
      "[Parallel(n_jobs=1)]: Done   1 out of   1 | elapsed:    0.3s remaining:    0.0s\n",
      "[Parallel(n_jobs=1)]: Done   1 out of   1 | elapsed:    0.3s finished\n"
     ]
    },
    {
     "data": {
      "image/png": "[encoded data removed]",
      "text/plain": [
       "<Figure size 720x720 with 1 Axes>"
      ]
     },
     "metadata": {
      "needs_background": "light"
     },
     "output_type": "display_data"
    }
   ],
   "source": [
    "#First instantiate the two models with the best hyperparameter values\n",
    "np.random.seed(42)\n",
    "\n",
    "logistic_regression = LogisticRegression(verbose=2,\n",
    "                                       multi_class='multinomial',\n",
    "                                       max_iter=50,\n",
    "                                       intercept_scaling=1,\n",
    "                                       fit_intercept=True,\n",
    "                                       dual=False,\n",
    "                                       C=1)\n",
    "\n",
    "logistic_regression.fit(x_train, y_train)\n",
    "\n",
    "logistic_acc = linear_regression.score(x_test,y_test)\n",
    "\n",
    "#Let the model make predictions\n",
    "y_preds_logistic_regression = linear_regression.predict(x_test)\n",
    "\n",
    "#Evaluate the predictions\n",
    "logistic_regr_prec = precision_score(y_test, y_preds_logistic_regression)\n",
    "\n",
    "logistic_regr_rec = recall_score(y_test, y_preds_logistic_regression)\n",
    "\n",
    "logistic_regr_f1 = f1_score(y_test, y_preds_logistic_regression)\n",
    "\n",
    "metric_log_reg = {\"Accuracy\": logistic_acc,\n",
    "                  \"Precision\": logistic_regr_prec,\n",
    "                  \"Recall\": logistic_regr_rec,\n",
    "                  \"F1\": logistic_regr_f1}\n",
    "\n",
    "compare_metrics = pd.DataFrame({\"Logistic Regression\": metric_log_reg})\n",
    "    \n",
    "compare_metrics.plot(kind=\"bar\", figsize=(10,10));"
   ]
  },
  {
   "cell_type": "markdown",
   "metadata": {},
   "source": [
    "#### ROC Curve\n"
   ]
  },
  {
   "cell_type": "code",
   "execution_count": 24,
   "metadata": {},
   "outputs": [],
   "source": [
    "#define a function that plots a ROC curve\n",
    "# Now it's time to visualize the frp and trp metrics\n",
    "import matplotlib.pyplot as plt\n",
    "\n",
    "def plot_roc_curve(fpr, tpr):\n",
    "    \"\"\"\n",
    "    Plots a ROC curve given the false positive rate(fpr)\n",
    "    and true positive rate (tpr) of a model.\n",
    "    \"\"\"\n",
    "    # Plot roc curve\n",
    "    plt.plot(fpr, tpr, color=\"red\", label=\"ROC\")\n",
    "    #Plot line no predicitve power (baseline, guessing a label)\n",
    "    plt.plot([0, 1], [0, 1], color=\"blue\", linestyle=\"--\", label=\"Just guessing\")\n",
    "    \n",
    "    # Customize the plot\n",
    "    plt.xlabel(\"False positive rate (fpr)\")\n",
    "    plt.ylabel(\"True positive rate (tpr)\")\n",
    "    plt.title(\"Receiver Operating Characteristics (ROC)\")\n",
    "    plt.legend()"
   ]
  },
  {
   "cell_type": "code",
   "execution_count": 25,
   "metadata": {},
   "outputs": [
    {
     "data": {
      "image/png": "[encoded data removed]",
      "text/plain": [
       "<Figure size 432x288 with 1 Axes>"
      ]
     },
     "metadata": {
      "needs_background": "light"
     },
     "output_type": "display_data"
    }
   ],
   "source": [
    "#Get relevant values for the roc_cruve and plot it\n",
    "fpr_logistic_regr, tpr_logistic_regr, thresholds = roc_curve(y_test, y_preds_logistic_regression)\n",
    "plot_roc_curve(fpr_logistic_regr, tpr_logistic_regr)"
   ]
  },
  {
   "cell_type": "code",
   "execution_count": 26,
   "metadata": {},
   "outputs": [
    {
     "data": {
      "image/png": "[encoded data removed]",
      "text/plain": [
       "<Figure size 432x288 with 1 Axes>"
      ]
     },
     "metadata": {
      "needs_background": "light"
     },
     "output_type": "display_data"
    }
   ],
   "source": [
    "#Create a confusion matrix \n",
    "confusion_matrix_forest = confusion_matrix(y_test, y_preds_logistic_regression)\n",
    "confusion_matrix_forest\n",
    "sns.heatmap(confusion_matrix_forest, fmt=\".2g\", annot=True, cmap=sns.light_palette(\"red\"), cbar=False)\n",
    "plt.xlabel(\"Truth\")\n",
    "plt.ylabel(\"Predicted\");"
   ]
  },
  {
   "cell_type": "markdown",
   "metadata": {},
   "source": [
    "#### Feature importance"
   ]
  },
  {
   "cell_type": "code",
   "execution_count": 27,
   "metadata": {},
   "outputs": [
    {
     "data": {
      "text/plain": [
       "array([[ 0.00389075, -0.5845964 ,  0.40958886, -0.00388618, -0.00125935,\n",
       "        -0.0071015 ,  0.25169496,  0.01450115, -0.40365383, -0.31569815,\n",
       "         0.26963529, -0.44974838, -0.56977153]])"
      ]
     },
     "execution_count": 27,
     "metadata": {},
     "output_type": "execute_result"
    }
   ],
   "source": [
    "#Check out the correlation coefficients of the features to the target variable for the logistic regression model\n",
    "logistic_regression.coef_"
   ]
  },
  {
   "cell_type": "code",
   "execution_count": 28,
   "metadata": {},
   "outputs": [
    {
     "data": {
      "text/plain": [
       "{'age': 0.0038907546636386264,\n",
       " 'sex': -0.5845964033299849,\n",
       " 'cp': 0.4095888581352361,\n",
       " 'trestbps': -0.0038861756776984602,\n",
       " 'chol': -0.0012593541689730416,\n",
       " 'fbs': -0.007101496422656094,\n",
       " 'restecg': 0.2516949619397862,\n",
       " 'thalach': 0.014501147869003906,\n",
       " 'exang': -0.4036538337731417,\n",
       " 'oldpeak': -0.31569814545187663,\n",
       " 'slope': 0.2696352851937456,\n",
       " 'ca': -0.4497483837053611,\n",
       " 'thal': -0.5697715293924592}"
      ]
     },
     "execution_count": 28,
     "metadata": {},
     "output_type": "execute_result"
    }
   ],
   "source": [
    "#Transform the feature importance with the feature names into a dictionary\n",
    "feature_importance_dict = dict(zip(df.columns, list(logistic_regression.coef_[0])))\n",
    "feature_importance_dict"
   ]
  },
  {
   "cell_type": "code",
   "execution_count": 266,
   "metadata": {},
   "outputs": [
    {
     "data": {
      "image/png": "[encoded data removed]",
      "text/plain": [
       "<Figure size 432x288 with 1 Axes>"
      ]
     },
     "metadata": {
      "needs_background": "light"
     },
     "output_type": "display_data"
    }
   ],
   "source": [
    "#Visualize the feature importance\n",
    "feature_df =pd.DataFrame(feature_importance_dict, index=[0])\n",
    "feature_df.T.plot.bar(title=\"Feature Importance\", legend=False);"
   ]
  },
  {
   "cell_type": "code",
   "execution_count": 33,
   "metadata": {},
   "outputs": [],
   "source": [
    "#Save the model as a binary python object\n",
    "from pickle import dump,load\n",
    "dump(logistic_regression, open(\"../model/heart_disease_classifier_model\", \"wb\"))"
   ]
  }
 ],
 "metadata": {
  "kernelspec": {
   "display_name": "Python 3",
   "language": "python",
   "name": "python3"
  },
  "language_info": {
   "codemirror_mode": {
    "name": "ipython",
    "version": 3
   },
   "file_extension": ".py",
   "mimetype": "text/x-python",
   "name": "python",
   "nbconvert_exporter": "python",
   "pygments_lexer": "ipython3",
   "version": "3.8.2"
  }
 },
 "nbformat": 4,
 "nbformat_minor": 4
}
